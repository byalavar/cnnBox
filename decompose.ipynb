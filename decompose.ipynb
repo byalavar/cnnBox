{
 "cells": [
  {
   "cell_type": "code",
   "execution_count": 1,
   "metadata": {},
   "outputs": [
    {
     "name": "stderr",
     "output_type": "stream",
     "text": [
      "/home/csgrad/byalavar/miniconda3/envs/adaface/lib/python3.7/site-packages/tqdm/auto.py:21: TqdmWarning: IProgress not found. Please update jupyter and ipywidgets. See https://ipywidgets.readthedocs.io/en/stable/user_install.html\n",
      "  from .autonotebook import tqdm as notebook_tqdm\n"
     ]
    }
   ],
   "source": [
    "import torch\n",
    "import torchvision\n",
    "import torchvision.transforms as transforms\n",
    "import torch.nn as nn\n",
    "import torch.optim as optim\n",
    "import numpy as np\n",
    "import json\n",
    "import torch.nn as nn\n",
    "import torch.nn.init as init"
   ]
  },
  {
   "cell_type": "code",
   "execution_count": null,
   "metadata": {},
   "outputs": [],
   "source": []
  },
  {
   "cell_type": "code",
   "execution_count": null,
   "metadata": {},
   "outputs": [],
   "source": [
    "import matplotlib.pyplot as plt\n",
    "import torch.nn.functional as F\n",
    "\n",
    "\n",
    "def twoSum(nums, target):\n",
    "    d = {}\n",
    "    for i, num in enumerate(nums):\n",
    "        if target - num in d:\n",
    "            return [d[target - num], i]\n",
    "        d[num] = i\n",
    "    return []"
   ]
  },
  {
   "cell_type": "code",
   "execution_count": 29,
   "metadata": {},
   "outputs": [
    {
     "name": "stdout",
     "output_type": "stream",
     "text": [
      "3D Gaussian Kernel with sigma = 2 :\n",
      " [[[-0.01054636 -0.03082467  0.08667448  0.01594209  0.12088814]\n",
      "  [ 0.05516346  0.03112081 -0.05396956  0.08668332 -0.07461851]\n",
      "  [ 0.02034032 -0.05556425  0.00913102  0.02867785  0.00123339]\n",
      "  [-0.02809119  0.03250382 -0.0046246   0.05785382  0.02962006]\n",
      "  [ 0.01976044 -0.06770883  0.06298323  0.08050761  0.06797029]]\n",
      "\n",
      " [[ 0.03249925  0.01382108 -0.06459239 -0.02220664  0.05040374]\n",
      "  [ 0.06416198 -0.00886387  0.02238148 -0.07698237  0.09136609]\n",
      "  [ 0.03247358  0.08854344  0.0634775   0.04371369  0.06068973]\n",
      "  [ 0.01079561 -0.01865739  0.02882798  0.01198771 -0.07749449]\n",
      "  [ 0.06247396 -0.11812332  0.05925183 -0.0152915   0.02955602]]\n",
      "\n",
      " [[ 0.01348276  0.03341142 -0.00846862 -0.00019438  0.04399838]\n",
      "  [-0.03682561  0.0716253  -0.01793406  0.03009526 -0.00813489]\n",
      "  [-0.02175859  0.00418994  0.01297543  0.08875282 -0.01126669]\n",
      "  [-0.05223222 -0.06165323 -0.05812875  0.06653905  0.04476722]\n",
      "  [ 0.02629568 -0.01998463 -0.01392796  0.02202469  0.07027919]]\n",
      "\n",
      " [[-0.00291171  0.00179768  0.14612667  0.04347943 -0.02481355]\n",
      "  [ 0.00695664  0.11312696 -0.03160596 -0.03029565 -0.0195199 ]\n",
      "  [ 0.02230662  0.07776563 -0.01537421  0.06649519  0.06070316]\n",
      "  [ 0.00155073  0.03941074  0.1330357   0.12971593 -0.0501783 ]\n",
      "  [-0.01118379  0.11480896  0.01773311 -0.01753677  0.17366357]]\n",
      "\n",
      " [[-0.00178752 -0.02322645  0.00118003 -0.01239661  0.01290888]\n",
      "  [ 0.01449596 -0.05173333  0.04823844  0.07635656 -0.01701182]\n",
      "  [ 0.03389111  0.0448385   0.03946933  0.04517499  0.03363841]\n",
      "  [-0.04260191  0.00533713  0.06058452  0.07001272  0.02456027]\n",
      "  [-0.01263276 -0.046842   -0.03208945  0.06461969 -0.05924242]]]\n"
     ]
    }
   ],
   "source": [
    "import numpy as np\n",
    "from scipy.ndimage import gaussian_filter\n",
    "import matplotlib.pyplot as plt\n",
    "\n",
    "def gaussian_kernel_3d(sigma, noise_factor=0.05):\n",
    "    # Define the size of the kernel\n",
    "    size = 5\n",
    "    \n",
    "    # Generate the kernel using scipy's gaussian_filter function\n",
    "    kernel = np.zeros((size, size, size))\n",
    "    kernel[size // 2, size // 2, size // 2] = 1\n",
    "    kernel = gaussian_filter(kernel, sigma)\n",
    "\n",
    "    # Normalize the kernel to ensure that the sum of all elements is equal to 1\n",
    "    kernel /= np.sum(kernel)\n",
    "    \n",
    "    # Add random noise to the kernel\n",
    "    noise = np.random.normal(0, noise_factor, kernel.shape)\n",
    "    kernel += noise\n",
    "    \n",
    "    return kernel\n",
    "\n",
    "# Example usage:\n",
    "sigma = 2\n",
    "kernel = gaussian_kernel_3d(sigma)\n",
    "print(\"3D Gaussian Kernel with sigma =\", sigma, \":\\n\", kernel)"
   ]
  },
  {
   "cell_type": "code",
   "execution_count": 2,
   "metadata": {},
   "outputs": [
    {
     "name": "stdout",
     "output_type": "stream",
     "text": [
      "resnet20\n",
      "\n",
      "resnet32\n",
      "\n",
      "resnet44\n",
      "\n",
      "resnet56\n",
      "\n",
      "resnet110\n",
      "\n",
      "resnet1202\n",
      "\n"
     ]
    }
   ],
   "source": [
    "'''\n",
    "Properly implemented ResNet-s for CIFAR10 as described in paper [1].\n",
    "\n",
    "The implementation and structure of this file is hugely influenced by [2]\n",
    "which is implemented for ImageNet and doesn't have option A for identity.\n",
    "Moreover, most of the implementations on the web is copy-paste from\n",
    "torchvision's resnet and has wrong number of params.\n",
    "\n",
    "Proper ResNet-s for CIFAR10 (for fair comparision and etc.) has following\n",
    "number of layers and parameters:\n",
    "\n",
    "name      | layers | params\n",
    "ResNet20  |    20  | 0.27M\n",
    "ResNet32  |    32  | 0.46M\n",
    "ResNet44  |    44  | 0.66M\n",
    "ResNet56  |    56  | 0.85M\n",
    "ResNet110 |   110  |  1.7M\n",
    "ResNet1202|  1202  | 19.4m\n",
    "\n",
    "which this implementation indeed has.\n",
    "\n",
    "Reference:\n",
    "[1] Kaiming He, Xiangyu Zhang, Shaoqing Ren, Jian Sun\n",
    "    Deep Residual Learning for Image Recognition. arXiv:1512.03385\n",
    "[2] https://github.com/pytorch/vision/blob/master/torchvision/models/resnet.py\n",
    "\n",
    "If you use this implementation in you work, please don't forget to mention the\n",
    "author, Yerlan Idelbayev.\n",
    "'''\n",
    "import torch\n",
    "import torch.nn as nn\n",
    "import torch.nn.functional as F\n",
    "import torch.nn.init as init\n",
    "\n",
    "from torch.autograd import Variable\n",
    "\n",
    "__all__ = ['ResNet', 'resnet20', 'resnet32', 'resnet44', 'resnet56', 'resnet110', 'resnet1202']\n",
    "\n",
    "def _weights_init(m):\n",
    "    classname = m.__class__.__name__\n",
    "    #print(classname)\n",
    "    if isinstance(m, nn.Linear) or isinstance(m, nn.Conv2d):\n",
    "        init.kaiming_normal_(m.weight)\n",
    "\n",
    "class LambdaLayer(nn.Module):\n",
    "    def __init__(self, lambd):\n",
    "        super(LambdaLayer, self).__init__()\n",
    "        self.lambd = lambd\n",
    "\n",
    "    def forward(self, x):\n",
    "        return self.lambd(x)\n",
    "\n",
    "\n",
    "class BasicBlock(nn.Module):\n",
    "    expansion = 1\n",
    "\n",
    "    def __init__(self, in_planes, planes, stride=1, option='A'):\n",
    "        super(BasicBlock, self).__init__()\n",
    "        self.conv1 = nn.Conv2d(in_planes, planes, kernel_size=3, stride=stride, padding=1, bias=False)\n",
    "        self.bn1 = nn.BatchNorm2d(planes)\n",
    "        self.conv2 = nn.Conv2d(planes, planes, kernel_size=3, stride=1, padding=1, bias=False)\n",
    "        self.bn2 = nn.BatchNorm2d(planes)\n",
    "\n",
    "        self.shortcut = nn.Sequential()\n",
    "        if stride != 1 or in_planes != planes:\n",
    "            if option == 'A':\n",
    "                \"\"\"\n",
    "                For CIFAR10 ResNet paper uses option A.\n",
    "                \"\"\"\n",
    "                self.shortcut = LambdaLayer(lambda x:\n",
    "                                            F.pad(x[:, :, ::2, ::2], (0, 0, 0, 0, planes//4, planes//4), \"constant\", 0))\n",
    "            elif option == 'B':\n",
    "                self.shortcut = nn.Sequential(\n",
    "                     nn.Conv2d(in_planes, self.expansion * planes, kernel_size=1, stride=stride, bias=False),\n",
    "                     nn.BatchNorm2d(self.expansion * planes)\n",
    "                )\n",
    "\n",
    "    def forward(self, x):\n",
    "        out = F.relu(self.bn1(self.conv1(x)))\n",
    "        out = self.bn2(self.conv2(out))\n",
    "        out += self.shortcut(x)\n",
    "        out = F.relu(out)\n",
    "        return out\n",
    "\n",
    "\n",
    "class ResNet(nn.Module):\n",
    "    def __init__(self, block, num_blocks, num_classes=10):\n",
    "        super(ResNet, self).__init__()\n",
    "        self.in_planes = 16\n",
    "\n",
    "        self.conv1 = nn.Conv2d(3, 16, kernel_size=3, stride=1, padding=1, bias=False)\n",
    "        self.bn1 = nn.BatchNorm2d(16)\n",
    "        self.layer1 = self._make_layer(block, 16, num_blocks[0], stride=1)\n",
    "        self.layer2 = self._make_layer(block, 32, num_blocks[1], stride=2)\n",
    "        self.layer3 = self._make_layer(block, 64, num_blocks[2], stride=2)\n",
    "        self.linear = nn.Linear(64, num_classes)\n",
    "\n",
    "        self.apply(_weights_init)\n",
    "\n",
    "    def _make_layer(self, block, planes, num_blocks, stride):\n",
    "        strides = [stride] + [1]*(num_blocks-1)\n",
    "        layers = []\n",
    "        for stride in strides:\n",
    "            layers.append(block(self.in_planes, planes, stride))\n",
    "            self.in_planes = planes * block.expansion\n",
    "\n",
    "        return nn.Sequential(*layers)\n",
    "\n",
    "    def forward(self, x):\n",
    "        out = F.relu(self.bn1(self.conv1(x)))\n",
    "        out = self.layer1(out)\n",
    "        out = self.layer2(out)\n",
    "        out = self.layer3(out)\n",
    "        out = F.avg_pool2d(out, out.size()[3])\n",
    "        out = out.view(out.size(0), -1)\n",
    "        out = self.linear(out)\n",
    "        return out\n",
    "\n",
    "\n",
    "def resnet20():\n",
    "    return ResNet(BasicBlock, [3, 3, 3])\n",
    "\n",
    "\n",
    "def resnet32():\n",
    "    return ResNet(BasicBlock, [5, 5, 5])\n",
    "\n",
    "\n",
    "def resnet44():\n",
    "    return ResNet(BasicBlock, [7, 7, 7])\n",
    "\n",
    "\n",
    "def resnet56():\n",
    "    return ResNet(BasicBlock, [9, 9, 9])\n",
    "\n",
    "\n",
    "def resnet110():\n",
    "    return ResNet(BasicBlock, [18, 18, 18])\n",
    "\n",
    "\n",
    "def resnet1202():\n",
    "    return ResNet(BasicBlock, [200, 200, 200])\n",
    "\n",
    "\n",
    "def test(net):\n",
    "    import numpy as np\n",
    "    total_params = 0\n",
    "\n",
    "    for x in filter(lambda p: p.requires_grad, net.parameters()):\n",
    "        total_params += np.prod(x.data.numpy().shape)\n",
    "    print(\"Total number of params\", total_params)\n",
    "    print(\"Total layers\", len(list(filter(lambda p: p.requires_grad and len(p.data.size())>1, net.parameters()))))\n",
    "\n",
    "\n",
    "if __name__ == \"__main__\":\n",
    "    for net_name in __all__:\n",
    "        if net_name.startswith('resnet'):\n",
    "            print(net_name)\n",
    "            #test(globals()[net_name]())\n",
    "            print()"
   ]
  },
  {
   "cell_type": "code",
   "execution_count": 2,
   "metadata": {},
   "outputs": [],
   "source": [
    "# Helper Box Filters\n",
    "import numpy as np\n",
    "import copy\n",
    "import matplotlib.pyplot as plt\n",
    "\n",
    "class boxFilters:\n",
    "    def __init__(self,ogFilterSize):\n",
    "        self.alpha = None\n",
    "        self.a=None\n",
    "        self.b=None\n",
    "        self.c=None\n",
    "        self.d=None\n",
    "        self.ogFilterSize = ogFilterSize\n",
    "    \n",
    "    def setAlpha(self,alpha):\n",
    "        self.alpha = alpha\n",
    "    \n",
    "    def setABCD(self,a,b,c,d):\n",
    "        self.a = a\n",
    "        self.b = b\n",
    "        self.c = c\n",
    "        self.d = d\n",
    "    \n",
    "    def printParams(self):\n",
    "        print(\"A:\",self.a,\"B:\",self.b,\"C:\",self.c,\"D:\",self.d, \"Alpha:\", self.alpha)\n",
    "\n",
    "\n",
    "def overlapping_area(box1, box2):\n",
    "    # Extract coordinates of the top-left and bottom-right corners of each box\n",
    "    x1_tl, y1_tl, x1_br, y1_br = box1.a, box1.c, box1.b, box1.d\n",
    "    x2_tl, y2_tl, x2_br, y2_br = box2.a, box2.c, box2.b, box2.d\n",
    "    #print(x1_tl, y1_tl, x1_br, y1_br)\n",
    "    #print(x2_tl, y2_tl, x2_br, y2_br)\n",
    "    # Calculate coordinates of the intersection rectangle\n",
    "    x_intersection_tl = max(x1_tl, x2_tl)\n",
    "    y_intersection_tl = max(y1_tl, y2_tl)\n",
    "    x_intersection_br = min(x1_br, x2_br)\n",
    "    y_intersection_br = min(y1_br, y2_br)\n",
    "    \n",
    "\n",
    "    # Check if there is an actual intersection\n",
    "    if x_intersection_tl <= x_intersection_br and y_intersection_tl <= y_intersection_br:\n",
    "        # Calculate the width and height of the intersection rectangle\n",
    "        intersection_width = x_intersection_br - x_intersection_tl + 1\n",
    "        intersection_height = y_intersection_br - y_intersection_tl + 1\n",
    "        # Calculate the area of the intersection rectangle\n",
    "       # print(intersection_width,intersection_height)\n",
    "        intersection_area = intersection_width * intersection_height\n",
    "        return intersection_area\n",
    "    else:\n",
    "        # No intersection\n",
    "        return 0\n",
    "\n",
    "def sum_within_boundary(filter, x1, y1, x2, y2):\n",
    "    # Ensure x1 <= x2 and y1 <= y2\n",
    "    x1, x2 = min(x1, x2), max(x1, x2)\n",
    "    y1, y2 = min(y1, y2), max(y1, y2)\n",
    "\n",
    "    # Ensure the boundary coordinates are within the matrix dimensions\n",
    "    x1, y1 = max(0, x1), max(0, y1)\n",
    "    x2, y2 = min(len(filter) - 1, x2), min(len(filter[0]) - 1, y2)\n",
    "   # print(\"x1:\",x1,\"y1:\",y1,\"x2:\",x2,\"y2:\",y2)\n",
    "    # Calculate the sum within the boundary\n",
    "    boundary_sum = 0\n",
    "    for i in range(y1, y2 + 1):\n",
    "        for j in range(x1, x2 + 1):\n",
    "            #print(i,j)\n",
    "            boundary_sum += filter[i][j]\n",
    "           # print(boundary_sum)\n",
    "    return boundary_sum\n",
    "\n",
    "\n",
    "\n",
    "def calcAlpha(boxFiltersList,filter):\n",
    "\n",
    "    A = np.ones((len(boxFiltersList),len(boxFiltersList)))\n",
    "    for i in range(0,len(boxFiltersList)):\n",
    "        for j in range(0,len(boxFiltersList)):\n",
    "           A[j][i]  =  overlapping_area(boxFiltersList[i],boxFiltersList[j])    \n",
    "    \n",
    "    det = np.linalg.det(A)\n",
    "    #print(\"A:\",A)\n",
    "    AInv = None\n",
    "    if np.isclose(det, 0):\n",
    "        #print(\"Singular\")\n",
    "        pass\n",
    "        \n",
    "    else:\n",
    "        # Calculate the inverse\n",
    "        AInv = np.linalg.inv(A)\n",
    "    \n",
    "    B = np.ones((len(boxFiltersList)))\n",
    "\n",
    "    for i in range(0,len(boxFiltersList)):\n",
    "        B[i] = sum_within_boundary(filter,boxFiltersList[i].a,boxFiltersList[i].c,boxFiltersList[i].b,boxFiltersList[i].d)\n",
    "    #print(\"B:\",B)\n",
    "    if(np.all(AInv==None)):\n",
    "        return None\n",
    "    else:\n",
    "     return np.matmul(AInv,B)    \n",
    "    \n",
    "\n",
    "def l2_distance(arr1, arr2):\n",
    "    # Flatten the arrays to treat them as vectors\n",
    "    vec1 = arr1.flatten()\n",
    "    vec2 = arr2.flatten()\n",
    "    \n",
    "    # Calculate the L2 distance\n",
    "    distance = np.linalg.norm(vec1 - vec2)\n",
    "    \n",
    "    return distance\n",
    "\n",
    "def percentage_l2_error(matrix1, matrix2):\n",
    "    # Calculate the L2 norm of the difference between the matrices\n",
    "    diff_norm = np.linalg.norm(matrix1 - matrix2)\n",
    "    #print(diff_norm)\n",
    "    # Calculate the L2 norm of one of the matrices\n",
    "    norm_matrix1 = np.linalg.norm(matrix1)\n",
    "\n",
    "    # Calculate the percentage L2 error\n",
    "    percent_error = (diff_norm / norm_matrix1) * 100\n",
    "\n",
    "    return percent_error\n",
    "\n",
    "\n",
    "\n",
    "def computeTempFilter(tempBoxFilterList):\n",
    "    tempFilter = np.zeros((tempBoxFilterList[0].ogFilterSize,tempBoxFilterList[0].ogFilterSize))\n",
    "    for i in range(0,len(tempBoxFilterList)):\n",
    "        for j in range(tempBoxFilterList[i].c,tempBoxFilterList[i].d+1):\n",
    "            for k in range(tempBoxFilterList[i].a,tempBoxFilterList[i].b+1):\n",
    "                #print(j,k)\n",
    "                tempFilter[j][k] = tempFilter[j][k] + tempBoxFilterList[i].alpha\n",
    "\n",
    "    return tempFilter\n",
    "    \n",
    "\n",
    "\n",
    "\n",
    "def calculateBoxFilters(filter,maxN):\n",
    "\n",
    "    N=0\n",
    "    maxN = maxN\n",
    "    boundaries = []\n",
    "    boxFilterList = []\n",
    "    maxSize = filter.shape[0]\n",
    "    aMax = maxSize\n",
    "    bMax = maxSize\n",
    "    cMax = maxSize\n",
    "    dMax = maxSize\n",
    "\n",
    "\n",
    "\n",
    "\n",
    "    boxFilterList = []\n",
    "    minLoss = None\n",
    "    minLossBox = None\n",
    "    minLossBoxes = []\n",
    "    flag = True\n",
    "    while(N<maxN):\n",
    "        \n",
    "    \n",
    "        #print(\"*****************************************************\")\n",
    "        #print(\"N:\",N)\n",
    "        for a in range(0,aMax):\n",
    "            for b in range(0,bMax):\n",
    "                for c in range(0,cMax):\n",
    "                    for d in range(0,dMax):\n",
    "                        #print(\"ABCD:\",a,b,c,d)\n",
    "                        tempBox = boxFilters(maxSize)\n",
    "                        tempBox.setABCD(a,b,c,d)\n",
    "                        #tempBox.printParams()\n",
    "                        # print(\"tempBoxFilterList: Before\")\n",
    "                        # for i in tempBoxFilterList:\n",
    "                        #  i.printParams() \n",
    "                        tempBoxFilterList = copy.deepcopy(boxFilterList)\n",
    "                        tempBoxFilterList.append(tempBox)\n",
    "                        #print(\"tempBoxFilterList: After\")\n",
    "                        # for i in tempBoxFilterList:\n",
    "                        #     i.printParams() \n",
    "\n",
    "                        tempAlpha = calcAlpha(tempBoxFilterList,filter)\n",
    "                        \n",
    "                        if(np.all(tempAlpha)!=None):\n",
    "                        #print(\"Alpha: \",tempAlpha)\n",
    "                         for i,alpha in enumerate(tempAlpha):\n",
    "                            \n",
    "                            tempBoxFilterList[i].setAlpha(alpha)\n",
    "                            #print(tempBoxFilterList[i].alpha)\n",
    "                        #tempBox.setAlpha(tempAlpha[-1])\n",
    "                        #print(\"tempBoxFilterList: After Alpha\")\n",
    "                        #  for i in tempBoxFilterList:\n",
    "                        #   i.printParams() \n",
    "                         tempFilter = computeTempFilter(tempBoxFilterList)\n",
    "                         loss = percentage_l2_error(tempFilter,filter)\n",
    "                        #print(\"Loss:\",loss)\n",
    "                         if(minLoss==None):\n",
    "                            minLoss = loss\n",
    "                            minLossBox = tempBox\n",
    "                            minLossBoxes = copy.deepcopy(tempBoxFilterList)\n",
    "                         elif(loss<minLoss):\n",
    "                            minLoss = loss\n",
    "                            minLossBox = tempBox\n",
    "                            minLossBoxes = copy.deepcopy(tempBoxFilterList)\n",
    "                         if(np.isclose(minLoss,0)):\n",
    "                            flag = False\n",
    "                         if(not flag):\n",
    "                            break\n",
    "                    if(not flag):\n",
    "                        break\n",
    "                if(not flag):\n",
    "                    break\n",
    "            if(not flag):\n",
    "                break\n",
    "        if(not flag):\n",
    "            break\n",
    "\n",
    "\n",
    "        #print(\"-------------------------\")\n",
    "        print(N,\"   \", minLoss)  \n",
    "        if(minLossBox!=None):\n",
    "         #print(minLoss,minLossBox.alpha,N)\n",
    "\n",
    "         boxFilterList.append(minLossBox)\n",
    "        N = N +1\n",
    "    return minLossBoxes,minLoss                   \n",
    "\n",
    "        "
   ]
  },
  {
   "cell_type": "code",
   "execution_count": 3,
   "metadata": {},
   "outputs": [],
   "source": [
    "num_array = np.array([\n",
    "    [1, 0, 1, 9, 6, 7, 9, 1, 7, 6, 0],\n",
    "    [2, 7, 7, 5, 8, 2, 5, 8, 6, 1, 5],\n",
    "    [7, 7, 4, 8, 9, 5, 1, 9, 9, 1, 3],\n",
    "    [3, 6, 2, 9, 6, 7, 3, 5, 8, 2, 5],\n",
    "    [3, 8, 1, 9, 9, 1, 3, 2, 7, 7, 5],\n",
    "    [2, 5, 5, 8, 6, 1, 5, 9, 6, 7, 9],\n",
    "    [2, 0, 9, 1, 7, 6, 0, 8, 6, 1, 5],\n",
    "    [3, 8, 9, 5, 1, 9, 6, 2, 9, 6, 5],\n",
    "    [5, 9, 6, 7, 3, 5, 8, 1, 9, 9, 7],\n",
    "    [9, 9, 1, 3, 2, 5, 5, 8, 6, 1, 0]\n",
    "])\n",
    "\n",
    "filter = [[1,3,1,3,4,3,1],\n",
    "          [7,4,7,4,5,4,7],\n",
    "          [2,4,2,4,1,3,4],\n",
    "          [7,4,5,4,7,4,5],\n",
    "          [2,4,1,5,2,4,7]]"
   ]
  },
  {
   "cell_type": "code",
   "execution_count": 4,
   "metadata": {},
   "outputs": [
    {
     "name": "stdout",
     "output_type": "stream",
     "text": [
      "[[690 749 779 732 691]\n",
      " [702 758 760 771 732]\n",
      " [600 728 735 755 723]\n",
      " [647 662 742 696 714]\n",
      " [678 720 759 739 747]\n",
      " [685 659 764 657 678]]\n"
     ]
    }
   ],
   "source": [
    "from scipy import signal\n",
    "temp = np.array([[1,0,1,9,6,7,9],[2,7,7,5,8,2,5],[7,7,4,8,9,5,1],[3,6,2,9,6,7,3],[3,8,1,9,9,1,3],[2,5,5,8,6,1,5],[2,0,9,1,7,6,0]])\n",
    "#filter = np.array([[0,0,1],[-1,0,-1],[0,0,1]])\n",
    "output = signal.convolve2d(num_array, np.flip(filter), mode='valid')\n",
    "print(output)"
   ]
  },
  {
   "cell_type": "code",
   "execution_count": 17,
   "metadata": {},
   "outputs": [
    {
     "name": "stdout",
     "output_type": "stream",
     "text": [
      "0     163.2993161855452\n",
      "1     55.63486402641868\n",
      "2     32.71524934852403\n",
      "3     14.586499149789454\n",
      "2.474999889579944e-14\n"
     ]
    },
    {
     "name": "stderr",
     "output_type": "stream",
     "text": [
      "/home/csgrad/byalavar/miniconda3/envs/adaface/lib/python3.7/site-packages/ipykernel_launcher.py:121: RuntimeWarning: divide by zero encountered in double_scalars\n"
     ]
    }
   ],
   "source": [
    "filterSize = 5\n",
    "\n",
    "#print(a.weight.data.shape)\n",
    "\n",
    "filter = np.array([[1,1,1],[-2,-2,0],[-2,3,-3]])\n",
    "\n",
    "\n",
    "boxFilterList,loss = calculateBoxFilters(filter,5)\n",
    "print(loss)"
   ]
  },
  {
   "cell_type": "code",
   "execution_count": 9,
   "metadata": {},
   "outputs": [
    {
     "name": "stdout",
     "output_type": "stream",
     "text": [
      "A: 1 B: 1 C: 2 D: 2 Alpha: 6.0\n",
      "A: 0 B: 2 C: 1 D: 2 Alpha: -3.0000000000000004\n",
      "A: 0 B: 2 C: 0 D: 1 Alpha: 1.0000000000000007\n",
      "A: 2 B: 2 C: 1 D: 1 Alpha: 1.9999999999999998\n",
      "A: 0 B: 0 C: 2 D: 2 Alpha: 1.0000000000000009\n"
     ]
    }
   ],
   "source": [
    "for i in boxFilterList:\n",
    "    i.printParams()"
   ]
  },
  {
   "cell_type": "code",
   "execution_count": 10,
   "metadata": {},
   "outputs": [
    {
     "name": "stdout",
     "output_type": "stream",
     "text": [
      "[[  1   1   2  11  17  24  33]\n",
      " [  3  10  18  32  46  55  69]\n",
      " [ 10  24  36  58  81  95 110]\n",
      " [ 13  33  47  78 107 128 146]\n",
      " [ 16  44  59  99 137 159 180]\n",
      " [ 18  51  71 119 163 186 212]\n",
      " [ 20  53  82 131 182 211 237]]\n"
     ]
    }
   ],
   "source": [
    "def calculate_summed_area_table(image):\n",
    "    return np.cumsum(np.cumsum(image, axis=0), axis=1)\n",
    "\n",
    "\n",
    "\n",
    "temp = np.array([[1,0,1,9,6,7,9],[2,7,7,5,8,2,5],[7,7,4,8,9,5,1],[3,6,2,9,6,7,3],[3,8,1,9,9,1,3],[2,5,5,8,6,1,5],[2,0,9,1,7,6,0]])\n",
    "\n",
    "print(calculate_summed_area_table(temp))\n"
   ]
  },
  {
   "cell_type": "code",
   "execution_count": 32,
   "metadata": {},
   "outputs": [
    {
     "data": {
      "text/plain": [
       "(5, 5, 5)"
      ]
     },
     "execution_count": 32,
     "metadata": {},
     "output_type": "execute_result"
    }
   ],
   "source": [
    "kernel.shape"
   ]
  },
  {
   "cell_type": "code",
   "execution_count": 51,
   "metadata": {},
   "outputs": [
    {
     "name": "stdout",
     "output_type": "stream",
     "text": [
      "3D Gaussian Kernel with sigma = 2 :\n",
      " [[ 0.04791525  0.07313959 -0.00385106 -0.06387007  0.03873513  0.05022171\n",
      "  -0.0296984 ]\n",
      " [ 0.01538843  0.05408112  0.07680828  0.06167586  0.03120758  0.02599957\n",
      "   0.04522766]\n",
      " [-0.01243138  0.07937869 -0.02333509  0.08134614  0.02823256 -0.05688994\n",
      "   0.07171329]\n",
      " [-0.0041064  -0.03633534  0.11056809  0.04634317  0.04499057  0.02512878\n",
      "  -0.06261741]\n",
      " [ 0.00522749  0.05238319  0.01224012  0.01154194 -0.07393869 -0.04257157\n",
      "  -0.06435415]\n",
      " [ 0.02494503 -0.01903185  0.03148069  0.00431472 -0.02835172  0.03480126\n",
      "   0.02708171]\n",
      " [ 0.05866982 -0.02804354  0.06969314  0.04876905  0.02860231 -0.00103015\n",
      "   0.00020646]]\n"
     ]
    }
   ],
   "source": [
    "import numpy as np\n",
    "from scipy.ndimage import gaussian_filter\n",
    "import matplotlib.pyplot as plt\n",
    "\n",
    "def gaussian_kernel_3d(sigma, noise_factor=0.05):\n",
    "    # Define the size of the kernel\n",
    "    size = 7\n",
    "    \n",
    "    # Generate the kernel using scipy's gaussian_filter function\n",
    "    kernel = np.zeros((size, size))\n",
    "    kernel[size // 2, size // 2] = 1\n",
    "    kernel = gaussian_filter(kernel, sigma)\n",
    "\n",
    "    # Normalize the kernel to ensure that the sum of all elements is equal to 1\n",
    "    kernel /= np.sum(kernel)\n",
    "    \n",
    "    # Add random noise to the kernel\n",
    "    noise = np.random.normal(0, noise_factor, kernel.shape)\n",
    "    kernel += noise\n",
    "    \n",
    "    return kernel\n",
    "\n",
    "# Example usage:\n",
    "sigma = 2\n",
    "kernel = gaussian_kernel_3d(sigma)\n",
    "print(\"3D Gaussian Kernel with sigma =\", sigma, \":\\n\", kernel)"
   ]
  },
  {
   "cell_type": "code",
   "execution_count": 54,
   "metadata": {},
   "outputs": [
    {
     "name": "stdout",
     "output_type": "stream",
     "text": [
      "0     181.0416648536675\n",
      "1     141.49688903335237\n",
      "2     120.81600561862702\n",
      "3     105.49005681197686\n",
      "4     93.11942394848818\n",
      "5     82.09174489582543\n",
      "6     72.84019259403091\n",
      "7     66.68906345481894\n",
      "8     60.40718120787446\n",
      "9     54.68278795226157\n",
      "10     49.216923138970905\n",
      "11     44.15479630249124\n",
      "12     39.65627168354109\n",
      "13     35.31705641418821\n",
      "14     30.687744617608814\n",
      "15     27.131277741185965\n",
      "16     24.681291441387604\n",
      "17     22.51320743462868\n",
      "18     20.8376790800373\n",
      "19     18.86446378280195\n",
      "20     17.188182257533644\n",
      "21     15.518370831288353\n",
      "22     14.20915646224667\n",
      "23     12.634368264690435\n",
      "24     10.969116670628576\n",
      "25     9.463611090590017\n",
      "26     8.209343327338049\n",
      "27     7.2432239789055455\n",
      "28     5.538129704995162\n",
      "29     4.620661899749791\n",
      "30     3.974609754771203\n",
      "31     3.3855085396573608\n",
      "3.3855085396573608\n",
      "0.17680825666317512\n"
     ]
    }
   ],
   "source": [
    "filterSize = 5\n",
    "maxN = 32\n",
    "\n",
    "#filter = np.random.random((filterSize,filterSize))\n",
    "#conv = nn.Conv2d(1,1,filterSize)\n",
    "#init.xavier_uniform_(conv.weight)\n",
    "#filter = np.array(conv.weight.data[0][0])\n",
    "filter = kernel\n",
    "output = signal.convolve2d(temp, np.flip(filter), mode='valid')\n",
    "boxFilterList,loss = calculateBoxFilters(filter,maxN)\n",
    "approxFilter = computeTempFilter(boxFilterList)\n",
    "output1 = signal.convolve2d(temp, np.flip(approxFilter), mode='valid')\n",
    "print(loss)\n",
    "print(percentage_l2_error(output,output1))"
   ]
  },
  {
   "cell_type": "code",
   "execution_count": 42,
   "metadata": {},
   "outputs": [
    {
     "data": {
      "text/plain": [
       "3.14880279186479"
      ]
     },
     "execution_count": 42,
     "metadata": {},
     "output_type": "execute_result"
    }
   ],
   "source": [
    "loss"
   ]
  },
  {
   "cell_type": "code",
   "execution_count": 2,
   "metadata": {},
   "outputs": [],
   "source": [
    "#1D Box Filter\n",
    "\n",
    "import numpy as np\n",
    "import copy\n",
    "import matplotlib.pyplot as plt\n",
    "\n",
    "class boxFilters:\n",
    "    def __init__(self,ogFilterSize):\n",
    "        self.alpha = None\n",
    "        self.a=None\n",
    "        self.b=None\n",
    "        #self.c=None\n",
    "        #self.d=None\n",
    "        self.ogFilterSize = ogFilterSize\n",
    "    \n",
    "    def setAlpha(self,alpha):\n",
    "        self.alpha = alpha\n",
    "    \n",
    "    def setABCD(self,a,b):\n",
    "        self.a = a\n",
    "        self.b = b\n",
    "        #self.c = c\n",
    "        #self.d = d\n",
    "    \n",
    "    def printParams(self):\n",
    "        print(\"A:\",self.a,\"B:\",self.b, \"Alpha:\", self.alpha)\n",
    "\n",
    "\n",
    "def overlapping_area(box1, box2):\n",
    "    # Extract coordinates of the top-left and bottom-right corners of each box\n",
    "    x1_tl,  x1_br  = box1.a, box1.b\n",
    "    x2_tl,  x2_br = box2.a, box2.b \n",
    "    #print(x1_tl, y1_tl, x1_br, y1_br)\n",
    "    #print(x2_tl, y2_tl, x2_br, y2_br)\n",
    "    # Calculate coordinates of the intersection rectangle\n",
    "    x_intersection_tl = max(x1_tl, x2_tl)\n",
    "    #y_intersection_tl = max(y1_tl, y2_tl)\n",
    "    x_intersection_br = min(x1_br, x2_br)\n",
    "    #y_intersection_br = min(y1_br, y2_br)\n",
    "    \n",
    "\n",
    "    # Check if there is an actual intersection\n",
    "    if x_intersection_tl <= x_intersection_br: #and y_intersection_tl <= y_intersection_br:\n",
    "        # Calculate the width and height of the intersection rectangle\n",
    "        intersection_width = x_intersection_br - x_intersection_tl + 1\n",
    "        #intersection_height = y_intersection_br - y_intersection_tl + 1\n",
    "        # Calculate the area of the intersection rectangle\n",
    "       # print(intersection_width,intersection_height)\n",
    "        intersection_area = intersection_width #* intersection_height\n",
    "        return intersection_area\n",
    "    else:\n",
    "        # No intersection\n",
    "        return 0\n",
    "\n",
    "def sum_within_boundary(filter, x1, x2):\n",
    "    # Ensure x1 <= x2 and y1 <= y2\n",
    "    x1, x2 = min(x1, x2), max(x1, x2)\n",
    "    #y1, y2 = min(y1, y2), max(y1, y2)\n",
    "\n",
    "    # Ensure the boundary coordinates are within the matrix dimensions\n",
    "    x1 = max(0, x1)\n",
    "    x2 = min(len(filter) - 1, x2)\n",
    "   # print(\"x1:\",x1,\"y1:\",y1,\"x2:\",x2,\"y2:\",y2)\n",
    "    # Calculate the sum within the boundary\n",
    "    boundary_sum = 0\n",
    "\n",
    "    for j in range(x1, x2 + 1):\n",
    "            #print(i,j)\n",
    "            boundary_sum += filter[j]\n",
    "           # print(boundary_sum)\n",
    "    return boundary_sum\n",
    "\n",
    "\n",
    "\n",
    "def calcAlpha(boxFiltersList,filter):\n",
    "\n",
    "    A = np.ones((len(boxFiltersList),len(boxFiltersList)))\n",
    "    for i in range(0,len(boxFiltersList)):\n",
    "        for j in range(0,len(boxFiltersList)):\n",
    "           A[j][i]  =  overlapping_area(boxFiltersList[i],boxFiltersList[j])    \n",
    "    \n",
    "    det = np.linalg.det(A)\n",
    "    #print(\"A:\",A)\n",
    "    AInv = None\n",
    "    if np.isclose(det, 0):\n",
    "        #print(\"Singular\")\n",
    "        pass\n",
    "        \n",
    "    else:\n",
    "        # Calculate the inverse\n",
    "        AInv = np.linalg.inv(A)\n",
    "    \n",
    "    B = np.ones((len(boxFiltersList)))\n",
    "\n",
    "    for i in range(0,len(boxFiltersList)):\n",
    "        B[i] = sum_within_boundary(filter,boxFiltersList[i].a,boxFiltersList[i].b)\n",
    "    #print(\"B:\",B)\n",
    "    if(np.all(AInv==None)):\n",
    "        return None\n",
    "    else:\n",
    "     return np.matmul(AInv,B)    \n",
    "    \n",
    "\n",
    "def l2_distance(arr1, arr2):\n",
    "    # Flatten the arrays to treat them as vectors\n",
    "    vec1 = arr1.flatten()\n",
    "    vec2 = arr2.flatten()\n",
    "    \n",
    "    # Calculate the L2 distance\n",
    "    distance = np.linalg.norm(vec1 - vec2)\n",
    "    \n",
    "    return distance\n",
    "\n",
    "def percentage_l2_error(matrix1, matrix2):\n",
    "    # Calculate the L2 norm of the difference between the matrices\n",
    "    diff_norm = np.linalg.norm(matrix1 - matrix2)\n",
    "    #print(diff_norm)\n",
    "    # Calculate the L2 norm of one of the matrices\n",
    "    norm_matrix1 = np.linalg.norm(matrix1)\n",
    "\n",
    "    # Calculate the percentage L2 error\n",
    "    percent_error = (diff_norm / norm_matrix1) * 100\n",
    "\n",
    "    return percent_error\n",
    "\n",
    "\n",
    "\n",
    "def computeTempFilter(tempBoxFilterList):\n",
    "    tempFilter = np.zeros((tempBoxFilterList[0].ogFilterSize))\n",
    "    for i in range(0,len(tempBoxFilterList)):\n",
    "        #for j in range(tempBoxFilterList[i].c,tempBoxFilterList[i].d+1):\n",
    "            for k in range(tempBoxFilterList[i].a,tempBoxFilterList[i].b+1):\n",
    "                #print(j,k)\n",
    "                tempFilter[k] = tempFilter[k] + tempBoxFilterList[i].alpha\n",
    "\n",
    "    return tempFilter\n",
    "\n",
    "\n",
    "\n",
    "def calculateBoxFilters(filter,maxN):\n",
    "\n",
    "    N=0\n",
    "    maxN = maxN\n",
    "    boundaries = []\n",
    "    boxFilterList = []\n",
    "    maxSize = filter.shape[0]\n",
    "    aMax = maxSize\n",
    "    bMax = maxSize\n",
    "    #cMax = maxSize\n",
    "    #dMax = maxSize\n",
    "\n",
    "\n",
    "\n",
    "\n",
    "    boxFilterList = []\n",
    "    minLoss = None\n",
    "    minLossBox = None\n",
    "    minLossBoxes = []\n",
    "    flag = True\n",
    "    while(N<maxN):\n",
    "        \n",
    "    \n",
    "        #print(\"*****************************************************\")\n",
    "        #print(\"N:\",N)\n",
    "        for a in range(0,aMax):\n",
    "            for b in range(0,bMax):\n",
    "                #for c in range(0,cMax):\n",
    "                #    for d in range(0,dMax):\n",
    "                        #print(\"ABCD:\",a,b,c,d)\n",
    "                        tempBox = boxFilters(maxSize)\n",
    "                        tempBox.setABCD(a,b)\n",
    "                        #tempBox.printParams()\n",
    "                        # print(\"tempBoxFilterList: Before\")\n",
    "                        # for i in tempBoxFilterList:\n",
    "                        #  i.printParams() \n",
    "                        tempBoxFilterList = copy.deepcopy(boxFilterList)\n",
    "                        tempBoxFilterList.append(tempBox)\n",
    "                        #print(\"tempBoxFilterList: After\")\n",
    "                        # for i in tempBoxFilterList:\n",
    "                        #     i.printParams() \n",
    "\n",
    "                        tempAlpha = calcAlpha(tempBoxFilterList,filter)\n",
    "                        \n",
    "                        if(np.all(tempAlpha)!=None):\n",
    "                        #print(\"Alpha: \",tempAlpha)\n",
    "                         for i,alpha in enumerate(tempAlpha):\n",
    "                            \n",
    "                            tempBoxFilterList[i].setAlpha(alpha)\n",
    "                            #print(tempBoxFilterList[i].alpha)\n",
    "                        #tempBox.setAlpha(tempAlpha[-1])\n",
    "                        #print(\"tempBoxFilterList: After Alpha\")\n",
    "                        #  for i in tempBoxFilterList:\n",
    "                        #   i.printParams() \n",
    "                         tempFilter = computeTempFilter(tempBoxFilterList)\n",
    "                         loss = (tempFilter,filter)\n",
    "                         print(\"Loss:\",loss)\n",
    "                         if(minLoss==None):\n",
    "                            minLoss = loss\n",
    "                            minLossBox = tempBox\n",
    "                            minLossBoxes = copy.deepcopy(tempBoxFilterList)\n",
    "                         elif(loss<minLoss):\n",
    "                            minLoss = loss\n",
    "                            minLossBox = tempBox\n",
    "                            minLossBoxes = copy.deepcopy(tempBoxFilterList)\n",
    "                         if(np.isclose(minLoss,0)):\n",
    "                            flag = False\n",
    "                         if(not flag):\n",
    "                            break\n",
    "            if(not flag):\n",
    "                break\n",
    "        if(not flag):\n",
    "            break\n",
    "\n",
    "\n",
    "        #print(\"-------------------------\")\n",
    "        if(minLossBox!=None):\n",
    "         #print(minLoss,minLossBox.alpha,N)\n",
    "\n",
    "         boxFilterList.append(minLossBox)\n",
    "        N = N +1\n",
    "    return minLossBoxes,minLoss      "
   ]
  },
  {
   "cell_type": "code",
   "execution_count": 23,
   "metadata": {},
   "outputs": [
    {
     "name": "stdout",
     "output_type": "stream",
     "text": [
      "torch.Size([1, 1, 3, 3])\n"
     ]
    }
   ],
   "source": [
    "import torch.nn as nn\n",
    "\n"
   ]
  },
  {
   "cell_type": "code",
   "execution_count": 24,
   "metadata": {},
   "outputs": [
    {
     "name": "stdout",
     "output_type": "stream",
     "text": [
      "0     87.21060315365862\n",
      "1     48.16434341098525\n",
      "2     36.069607640072434\n",
      "3     24.374600863882236\n",
      "4     11.755535999923234\n",
      "11.755535999923234\n"
     ]
    }
   ],
   "source": [
    "#filter = np.random.rand(25)\n",
    "\n"
   ]
  },
  {
   "cell_type": "code",
   "execution_count": 125,
   "metadata": {},
   "outputs": [],
   "source": [
    "#3D Box Filters\n",
    "\n",
    "# Helper Box Filters\n",
    "import numpy as np\n",
    "import copy\n",
    "import matplotlib.pyplot as plt\n",
    "\n",
    "class boxFilters:\n",
    "    def __init__(self,ogFilterSize):\n",
    "        self.alpha = None\n",
    "        self.a=None\n",
    "        self.b=None\n",
    "        self.c=None\n",
    "        self.d=None\n",
    "        self.e=None\n",
    "        self.f=None\n",
    "        self.ogFilterSize = ogFilterSize\n",
    "    \n",
    "    def setAlpha(self,alpha):\n",
    "        self.alpha = alpha\n",
    "    \n",
    "    def setABCD(self,a,b,c,d,e,f):\n",
    "        self.a = a\n",
    "        self.b = b\n",
    "        self.c = c\n",
    "        self.d = d\n",
    "        self.e = e\n",
    "        self.f = f\n",
    "    \n",
    "    def printParams(self):\n",
    "        print(\"A:\",self.a,\"B:\",self.b,\"C:\",self.c,\"D:\",self.d,\"E:\",self.e,\"F:\",self.f,\"Alpha:\", self.alpha)\n",
    "\n",
    "\n",
    "def overlapping_area(box1, box2):\n",
    "    # Extract coordinates of the top-left and bottom-right corners of each box\n",
    "    x1_tl, y1_tl, z1_tl, x1_br, y1_br, z1_br = box1.a, box1.c, box1.e, box1.b, box1.d, box1.f\n",
    "    x2_tl, y2_tl, z2_tl, x2_br, y2_br, z2_br = box2.a, box2.c, box2.e, box2.b, box2.d, box2.f\n",
    "    #print(x1_tl, y1_tl, x1_br, y1_br)\n",
    "    #print(x2_tl, y2_tl, x2_br, y2_br)\n",
    "    # Calculate coordinates of the intersection rectangle\n",
    "    x_intersection_tl = max(x1_tl, x2_tl)\n",
    "    y_intersection_tl = max(y1_tl, y2_tl)\n",
    "    z_intersection_tl = max(z1_tl, z2_tl)\n",
    "    x_intersection_br = min(x1_br, x2_br)\n",
    "    y_intersection_br = min(y1_br, y2_br)\n",
    "    z_intersection_br = min(z1_br, z2_br)\n",
    "    \n",
    "\n",
    "    # Check if there is an actual intersection\n",
    "    if x_intersection_tl <= x_intersection_br and y_intersection_tl <= y_intersection_br and z_intersection_tl <= z_intersection_br:\n",
    "        # Calculate the width and height of the intersection rectangle\n",
    "        intersection_width = x_intersection_br - x_intersection_tl + 1\n",
    "        intersection_height = y_intersection_br - y_intersection_tl + 1\n",
    "        intersectrion_depth = z_intersection_br - z_intersection_tl + 1\n",
    "        # Calculate the area of the intersection rectangle\n",
    "       # print(intersection_width,intersection_height)\n",
    "        intersection_area = intersection_width * intersection_height * intersectrion_depth\n",
    "        return intersection_area\n",
    "    else:\n",
    "        # No intersection\n",
    "        return 0\n",
    "\n",
    "def sum_within_boundary(filter, x1, y1, z1, x2, y2, z2):\n",
    "    # Ensure x1 <= x2 and y1 <= y2\n",
    "    x1, x2 = min(x1, x2), max(x1, x2)\n",
    "    y1, y2 = min(y1, y2), max(y1, y2)\n",
    "    z1, z2 = min(z1, z2), max(z1, z2)\n",
    "\n",
    "    # Ensure the boundary coordinates are within the matrix dimensions\n",
    "    x1, y1, z1  = max(0, x1), max(0, y1), max(0, z1)\n",
    "    x2, y2, z2 = min(len(filter) - 1, x2), min(len(filter[0]) - 1, y2), min(len(filter[0][0]) - 1, z2)\n",
    "   # print(\"x1:\",x1,\"y1:\",y1,\"x2:\",x2,\"y2:\",y2)\n",
    "    # Calculate the sum within the boundary\n",
    "    boundary_sum = 0\n",
    "    for i in range(y1, y2 + 1):\n",
    "        for j in range(x1, x2 + 1):\n",
    "            for k in range(z1, z2 + 1):\n",
    "            #print(i,j)\n",
    "             boundary_sum += filter[i][j][k]\n",
    "           # print(boundary_sum)\n",
    "    return boundary_sum\n",
    "\n",
    "\n",
    "\n",
    "def calcAlpha(boxFiltersList,filter):\n",
    "\n",
    "    A = np.ones((len(boxFiltersList),len(boxFiltersList)))\n",
    "    for i in range(0,len(boxFiltersList)):\n",
    "        for j in range(0,len(boxFiltersList)):\n",
    "           A[j][i]  =  overlapping_area(boxFiltersList[i],boxFiltersList[j])    \n",
    "    \n",
    "    det = np.linalg.det(A)\n",
    "    #print(\"A:\",A)\n",
    "    AInv = None\n",
    "    if np.isclose(det, 0):\n",
    "        #print(\"Singular\")\n",
    "        pass\n",
    "        \n",
    "    else:\n",
    "        # Calculate the inverse\n",
    "        AInv = np.linalg.inv(A)\n",
    "    \n",
    "    B = np.ones((len(boxFiltersList)))\n",
    "\n",
    "    for i in range(0,len(boxFiltersList)):\n",
    "        B[i] = sum_within_boundary(filter,boxFiltersList[i].a,boxFiltersList[i].c,boxFiltersList[i].e,boxFiltersList[i].b,boxFiltersList[i].d,boxFiltersList[i].f)\n",
    "    #print(\"B:\",B)\n",
    "    if(np.all(AInv==None)):\n",
    "        return None\n",
    "    else:\n",
    "     return np.matmul(AInv,B)    \n",
    "    \n",
    "\n",
    "def l2_distance(arr1, arr2):\n",
    "    # Flatten the arrays to treat them as vectors\n",
    "    vec1 = arr1.flatten()\n",
    "    vec2 = arr2.flatten()\n",
    "    \n",
    "    # Calculate the L2 distance\n",
    "    distance = np.linalg.norm(vec1 - vec2)\n",
    "    \n",
    "    return distance\n",
    "\n",
    "def percentage_l2_error(matrix1, matrix2):\n",
    "    # Calculate the L2 norm of the difference between the matrices\n",
    "    diff_norm = np.linalg.norm(matrix1 - matrix2)\n",
    "    #print(diff_norm)\n",
    "    # Calculate the L2 norm of one of the matrices\n",
    "    norm_matrix1 = np.linalg.norm(matrix1)\n",
    "\n",
    "    # Calculate the percentage L2 error\n",
    "    percent_error = (diff_norm / norm_matrix1) * 100\n",
    "\n",
    "    return percent_error\n",
    "\n",
    "\n",
    "\n",
    "def computeTempFilter(tempBoxFilterList):\n",
    "    tempFilter = np.zeros((tempBoxFilterList[0].ogFilterSize,tempBoxFilterList[0].ogFilterSize,tempBoxFilterList[0].ogFilterSize))\n",
    "    for i in range(0,len(tempBoxFilterList)):\n",
    "        for j in range(tempBoxFilterList[i].c,tempBoxFilterList[i].d+1):\n",
    "            for k in range(tempBoxFilterList[i].a,tempBoxFilterList[i].b+1):\n",
    "                for l in range(tempBoxFilterList[i].e,tempBoxFilterList[i].f+1):\n",
    "                #print(j,k)\n",
    "                    tempFilter[j][k][l] = tempFilter[j][k][l] + tempBoxFilterList[i].alpha\n",
    "\n",
    "    return tempFilter\n",
    "    \n",
    "\n",
    "\n",
    "\n",
    "def calculateBoxFilters(filter,maxN):\n",
    "\n",
    "    N=0\n",
    "    maxN = maxN\n",
    "    boundaries = []\n",
    "    boxFilterList = []\n",
    "    maxSize = filter.shape[0]\n",
    "    aMax = maxSize\n",
    "    bMax = maxSize\n",
    "    cMax = maxSize\n",
    "    dMax = maxSize\n",
    "    eMax = maxSize \n",
    "    fMax = maxSize\n",
    "\n",
    "\n",
    "\n",
    "\n",
    "    boxFilterList = []\n",
    "    minLoss = None\n",
    "    minLossBox = None\n",
    "    minLossBoxes = []\n",
    "    flag = True\n",
    "    while(N<maxN):\n",
    "        \n",
    "    \n",
    "        #print(\"*****************************************************\")\n",
    "        #print(\"N:\",N)\n",
    "        for a in range(0,aMax):\n",
    "            for b in range(0,bMax):\n",
    "                for c in range(0,cMax):\n",
    "                    for d in range(0,dMax):\n",
    "                      for e in range(0,eMax):\n",
    "                       for f in range(0,fMax):   \n",
    "                        #print(\"ABCD:\",a,b,c,d)\n",
    "                        tempBox = boxFilters(maxSize)\n",
    "                        tempBox.setABCD(a,b,c,d,e,f)\n",
    "                        #tempBox.printParams()\n",
    "                        # print(\"tempBoxFilterList: Before\")\n",
    "                        # for i in tempBoxFilterList:\n",
    "                        #  i.printParams() \n",
    "                        tempBoxFilterList = copy.deepcopy(boxFilterList)\n",
    "                        tempBoxFilterList.append(tempBox)\n",
    "                        #print(\"tempBoxFilterList: After\")\n",
    "                        # for i in tempBoxFilterList:\n",
    "                        #     i.printParams() \n",
    "\n",
    "                        tempAlpha = calcAlpha(tempBoxFilterList,filter)\n",
    "                        \n",
    "                        if(np.all(tempAlpha)!=None):\n",
    "                        #print(\"Alpha: \",tempAlpha)\n",
    "                         for i,alpha in enumerate(tempAlpha):\n",
    "                            \n",
    "                            tempBoxFilterList[i].setAlpha(alpha)\n",
    "                            #print(tempBoxFilterList[i].alpha)\n",
    "                        #tempBox.setAlpha(tempAlpha[-1])\n",
    "                        #print(\"tempBoxFilterList: After Alpha\")\n",
    "                        #  for i in tempBoxFilterList:\n",
    "                        #   i.printParams() \n",
    "                         tempFilter = computeTempFilter(tempBoxFilterList)\n",
    "                         loss = percentage_l2_error(tempFilter,filter)\n",
    "                         #print(\"Loss:\",loss)\n",
    "                         if(minLoss==None):\n",
    "                            minLoss = loss\n",
    "                            minLossBox = tempBox\n",
    "                            minLossBoxes = copy.deepcopy(tempBoxFilterList)\n",
    "                         elif(loss<minLoss):\n",
    "                            minLoss = loss\n",
    "                            minLossBox = tempBox\n",
    "                            minLossBoxes = copy.deepcopy(tempBoxFilterList)\n",
    "                         if(np.isclose(minLoss,0)):\n",
    "                            flag = False\n",
    "                         if(not flag):\n",
    "                            break\n",
    "                       if(not flag):\n",
    "                        break\n",
    "                      if(not flag):\n",
    "                        break  \n",
    "                    if(not flag):\n",
    "                        break\n",
    "                if(not flag):\n",
    "                    break\n",
    "            if(not flag):\n",
    "                break\n",
    "        if(not flag):\n",
    "            break\n",
    "\n",
    "        print(N, minLoss)\n",
    "        #print(\"-------------------------\")\n",
    "        if(minLossBox!=None):\n",
    "         #print(minLoss,minLossBox.alpha,N)\n",
    "\n",
    "         boxFilterList.append(minLossBox)\n",
    "        N = N +1\n",
    "    return minLossBoxes,minLoss                   \n",
    "\n",
    "        "
   ]
  },
  {
   "cell_type": "code",
   "execution_count": 126,
   "metadata": {},
   "outputs": [
    {
     "name": "stdout",
     "output_type": "stream",
     "text": [
      "0 270.47329317285596\n",
      "1 204.27744799021013\n",
      "2 169.2018074101956\n",
      "3 144.78783686570358\n",
      "4 127.26180897418855\n",
      "5 114.77504627530656\n",
      "6 105.05521411522989\n",
      "7 97.14478258316456\n",
      "8 91.47598835966382\n",
      "9 84.174156328346\n",
      "10 79.35097634641392\n",
      "11 75.06551627913969\n",
      "12 71.01372724462482\n",
      "13 67.46352629338952\n",
      "14 63.73559108773953\n",
      "15 60.80042381222685\n",
      "16 58.1197138361373\n",
      "17 55.603032434095425\n",
      "18 52.89362220456806\n",
      "19 50.53666373875407\n",
      "20 48.36616636093649\n",
      "21 46.32800201796336\n",
      "22 44.3806734943649\n",
      "23 42.633090007252896\n",
      "24 40.94335713824906\n",
      "25 38.78315899186336\n",
      "26 37.34714254417047\n",
      "27 35.71095919305517\n",
      "28 34.32129741294057\n",
      "29 32.64611897877961\n",
      "30 31.18215666938562\n",
      "31 29.816464054569618\n",
      "32 28.526502558321088\n",
      "33 27.195564507277375\n",
      "34 25.83876572469816\n",
      "35 24.450262733170927\n",
      "36 23.15380736478927\n",
      "37 22.162624278141948\n",
      "38 20.983294272455613\n",
      "39 19.987499888370802\n",
      "40 19.003083224835677\n",
      "41 18.14244056254217\n",
      "42 17.307667399023714\n",
      "43 16.581599758019458\n",
      "44 15.939924453389457\n",
      "45 15.280950419131312\n",
      "46 14.597672400308213\n",
      "47 13.892330728671157\n",
      "48 13.04115480750044\n",
      "49 12.49374779745956\n",
      "50 11.85177306099707\n",
      "51 11.184985690089274\n",
      "52 10.613377847256954\n",
      "53 10.045147514019668\n",
      "54 9.471967162809891\n",
      "55 8.98707524063671\n",
      "56 8.519906094805886\n",
      "57 8.105167118379802\n",
      "58 7.667549815587102\n",
      "59 7.2777869015289545\n",
      "60 6.8999647148682675\n",
      "61 6.516299163873709\n",
      "62 6.11391192622563\n",
      "63 5.70925368302539\n",
      "64 5.334183272369636\n",
      "65 4.99271856269211\n",
      "66 4.736856188375644\n",
      "67 4.481966091357186\n",
      "68 4.209115747433572\n",
      "69 3.967039557585713\n",
      "70 3.7565839938794934\n",
      "71 3.5491106251446447\n",
      "72 3.3392983143920385\n",
      "73 3.0921686078298216\n",
      "74 2.8901135676259044\n",
      "75 2.7062237904511437\n",
      "76 2.5139330940991846\n",
      "77 2.249092611468464\n",
      "78 2.0292394972056944\n",
      "79 1.8675744879723999\n",
      "80 1.7205928654446412\n"
     ]
    }
   ],
   "source": [
    "\n",
    "filterSize = 5\n",
    "maxN = 125\n",
    "conv = nn.Conv3d(1,1,filterSize)\n",
    "init.xavier_uniform_(conv.weight)\n",
    "#print(conv.weight.data.shape)\n",
    "#filter = np.array(conv.weight.data[0][0])\n",
    "#filter = np.random.uniform(-5,5,filterSize)\n",
    "filter = kernel\n",
    "boxFilterList,loss = calculateBoxFilters(filter,maxN)"
   ]
  },
  {
   "cell_type": "code",
   "execution_count": 185,
   "metadata": {},
   "outputs": [],
   "source": [
    "filter = np.random.rand(5,5,5)"
   ]
  },
  {
   "cell_type": "code",
   "execution_count": 186,
   "metadata": {},
   "outputs": [
    {
     "data": {
      "text/plain": [
       "array([[[0.22562617, 0.20612485, 0.09397523, 0.9371723 , 0.19257183],\n",
       "        [0.90215191, 0.7654766 , 0.08134264, 0.68518063, 0.03161184],\n",
       "        [0.16456519, 0.25583328, 0.90495855, 0.25948673, 0.17062913],\n",
       "        [0.95514863, 0.04462158, 0.36988211, 0.63356039, 0.27132475],\n",
       "        [0.25084936, 0.32695998, 0.74600693, 0.03557023, 0.03505262]],\n",
       "\n",
       "       [[0.79324526, 0.27270328, 0.82985252, 0.21621186, 0.74996947],\n",
       "        [0.28046505, 0.86535748, 0.26725503, 0.96193962, 0.72273838],\n",
       "        [0.03532112, 0.87400072, 0.35610974, 0.52500547, 0.3443158 ],\n",
       "        [0.59299081, 0.01319214, 0.69113468, 0.47244196, 0.07087485],\n",
       "        [0.06685432, 0.339805  , 0.86609922, 0.04459604, 0.45481749]],\n",
       "\n",
       "       [[0.6424782 , 0.8149455 , 0.02188115, 0.2125553 , 0.13809142],\n",
       "        [0.74663596, 0.34641223, 0.83470841, 0.84707848, 0.21699626],\n",
       "        [0.27863588, 0.36416365, 0.39025722, 0.609461  , 0.26847536],\n",
       "        [0.4924467 , 0.4618505 , 0.55917064, 0.20543452, 0.19009206],\n",
       "        [0.80026257, 0.13409076, 0.72417939, 0.94331277, 0.64080614]],\n",
       "\n",
       "       [[0.07400473, 0.0691873 , 0.82643153, 0.08332705, 0.08523911],\n",
       "        [0.26298742, 0.36093712, 0.49029015, 0.85300992, 0.53839463],\n",
       "        [0.06721559, 0.84556875, 0.35821551, 0.12210028, 0.40286701],\n",
       "        [0.14806165, 0.47270688, 0.32842404, 0.56933326, 0.66624805],\n",
       "        [0.3159881 , 0.06861708, 0.99293292, 0.71867432, 0.8249964 ]],\n",
       "\n",
       "       [[0.68935281, 0.20908539, 0.29774968, 0.14243703, 0.64995508],\n",
       "        [0.55209411, 0.20444483, 0.31453702, 0.3816831 , 0.38314979],\n",
       "        [0.34676179, 0.90649072, 0.49080742, 0.79424584, 0.06343763],\n",
       "        [0.45484449, 0.93581902, 0.50779729, 0.60783372, 0.25653317],\n",
       "        [0.79210257, 0.05219645, 0.02694972, 0.167104  , 0.98881889]]])"
      ]
     },
     "execution_count": 186,
     "metadata": {},
     "output_type": "execute_result"
    }
   ],
   "source": [
    "filter"
   ]
  },
  {
   "cell_type": "code",
   "execution_count": 190,
   "metadata": {},
   "outputs": [
    {
     "name": "stdout",
     "output_type": "stream",
     "text": [
      "0 67.08270337595563\n",
      "1 63.274046060651656\n",
      "2 60.105879775684144\n",
      "3 57.41397855022241\n",
      "4 55.2509839151321\n",
      "5 53.345639637895204\n",
      "6 51.50732256139422\n",
      "7 49.670243311329244\n",
      "8 47.80146114920482\n",
      "9 45.755652529284184\n",
      "10 43.78210682496204\n",
      "11 41.88955938690256\n",
      "12 39.35788599780762\n",
      "13 37.193043420787696\n",
      "14 35.00339890491932\n",
      "15 32.65099893762816\n",
      "16 30.81398163437996\n",
      "17 29.220190142383267\n",
      "18 27.535236856823058\n",
      "19 26.341271916002277\n",
      "20 25.1053572259762\n",
      "21 24.048785200563234\n",
      "22 23.112554600468318\n",
      "23 22.202970281453222\n",
      "24 21.342944680903784\n",
      "25 20.473392939759805\n",
      "26 19.70129400562132\n",
      "27 19.012580012038715\n",
      "28 18.191748852513822\n",
      "29 17.445651290032316\n",
      "30 16.72925592260332\n",
      "31 16.06913183504184\n",
      "32 15.350214185487651\n",
      "33 14.719781777372651\n",
      "34 13.975356320770402\n",
      "35 13.300947573041416\n",
      "36 13.300947573041416\n",
      "37 13.300947573041416\n",
      "38 13.300947573041416\n",
      "39 13.300947573041416\n",
      "40 13.300947573041416\n",
      "41 13.300947573041416\n",
      "42 13.300947573041416\n",
      "43 13.300947573041416\n",
      "44 13.300947573041416\n",
      "45 13.300947573041416\n",
      "46 13.300947573041416\n",
      "47 13.300947573041416\n",
      "48 13.300947573041416\n",
      "49 13.300947573041416\n",
      "50 13.300947573041416\n",
      "51 13.300947573041416\n",
      "52 13.300947573041416\n",
      "53 13.300947573041416\n",
      "54 13.300947573041416\n",
      "55 13.300947573041416\n"
     ]
    },
    {
     "ename": "KeyboardInterrupt",
     "evalue": "",
     "output_type": "error",
     "traceback": [
      "\u001b[0;31m---------------------------------------------------------------------------\u001b[0m",
      "\u001b[0;31mKeyboardInterrupt\u001b[0m                         Traceback (most recent call last)",
      "\u001b[0;32m/tmp/ipykernel_4068411/497417808.py\u001b[0m in \u001b[0;36m<module>\u001b[0;34m\u001b[0m\n\u001b[0;32m----> 1\u001b[0;31m \u001b[0mboxes\u001b[0m\u001b[0;34m,\u001b[0m\u001b[0mloss\u001b[0m \u001b[0;34m=\u001b[0m \u001b[0mcalculateBoxFilters\u001b[0m\u001b[0;34m(\u001b[0m\u001b[0mfilter\u001b[0m\u001b[0;34m,\u001b[0m\u001b[0;36m90\u001b[0m\u001b[0;34m)\u001b[0m\u001b[0;34m\u001b[0m\u001b[0;34m\u001b[0m\u001b[0m\n\u001b[0m\u001b[1;32m      2\u001b[0m \u001b[0mprint\u001b[0m\u001b[0;34m(\u001b[0m\u001b[0mloss\u001b[0m\u001b[0;34m)\u001b[0m\u001b[0;34m\u001b[0m\u001b[0;34m\u001b[0m\u001b[0m\n",
      "\u001b[0;32m/tmp/ipykernel_4068411/1362892873.py\u001b[0m in \u001b[0;36mcalculateBoxFilters\u001b[0;34m(filter, maxN)\u001b[0m\n\u001b[1;32m    196\u001b[0m                         \u001b[0;31m#     i.printParams()\u001b[0m\u001b[0;34m\u001b[0m\u001b[0;34m\u001b[0m\u001b[0;34m\u001b[0m\u001b[0m\n\u001b[1;32m    197\u001b[0m \u001b[0;34m\u001b[0m\u001b[0m\n\u001b[0;32m--> 198\u001b[0;31m                         \u001b[0mtempAlpha\u001b[0m \u001b[0;34m=\u001b[0m \u001b[0mcalcAlpha\u001b[0m\u001b[0;34m(\u001b[0m\u001b[0mtempBoxFilterList\u001b[0m\u001b[0;34m,\u001b[0m\u001b[0mfilter\u001b[0m\u001b[0;34m)\u001b[0m\u001b[0;34m\u001b[0m\u001b[0;34m\u001b[0m\u001b[0m\n\u001b[0m\u001b[1;32m    199\u001b[0m \u001b[0;34m\u001b[0m\u001b[0m\n\u001b[1;32m    200\u001b[0m                         \u001b[0;32mif\u001b[0m\u001b[0;34m(\u001b[0m\u001b[0mnp\u001b[0m\u001b[0;34m.\u001b[0m\u001b[0mall\u001b[0m\u001b[0;34m(\u001b[0m\u001b[0mtempAlpha\u001b[0m\u001b[0;34m)\u001b[0m\u001b[0;34m!=\u001b[0m\u001b[0;32mNone\u001b[0m\u001b[0;34m)\u001b[0m\u001b[0;34m:\u001b[0m\u001b[0;34m\u001b[0m\u001b[0;34m\u001b[0m\u001b[0m\n",
      "\u001b[0;32m/tmp/ipykernel_4068411/1362892873.py\u001b[0m in \u001b[0;36mcalcAlpha\u001b[0;34m(boxFiltersList, filter)\u001b[0m\n\u001b[1;32m     88\u001b[0m     \u001b[0;32mfor\u001b[0m \u001b[0mi\u001b[0m \u001b[0;32min\u001b[0m \u001b[0mrange\u001b[0m\u001b[0;34m(\u001b[0m\u001b[0;36m0\u001b[0m\u001b[0;34m,\u001b[0m\u001b[0mlen\u001b[0m\u001b[0;34m(\u001b[0m\u001b[0mboxFiltersList\u001b[0m\u001b[0;34m)\u001b[0m\u001b[0;34m)\u001b[0m\u001b[0;34m:\u001b[0m\u001b[0;34m\u001b[0m\u001b[0;34m\u001b[0m\u001b[0m\n\u001b[1;32m     89\u001b[0m         \u001b[0;32mfor\u001b[0m \u001b[0mj\u001b[0m \u001b[0;32min\u001b[0m \u001b[0mrange\u001b[0m\u001b[0;34m(\u001b[0m\u001b[0;36m0\u001b[0m\u001b[0;34m,\u001b[0m\u001b[0mlen\u001b[0m\u001b[0;34m(\u001b[0m\u001b[0mboxFiltersList\u001b[0m\u001b[0;34m)\u001b[0m\u001b[0;34m)\u001b[0m\u001b[0;34m:\u001b[0m\u001b[0;34m\u001b[0m\u001b[0;34m\u001b[0m\u001b[0m\n\u001b[0;32m---> 90\u001b[0;31m            \u001b[0mA\u001b[0m\u001b[0;34m[\u001b[0m\u001b[0mj\u001b[0m\u001b[0;34m]\u001b[0m\u001b[0;34m[\u001b[0m\u001b[0mi\u001b[0m\u001b[0;34m]\u001b[0m  \u001b[0;34m=\u001b[0m  \u001b[0moverlapping_area\u001b[0m\u001b[0;34m(\u001b[0m\u001b[0mboxFiltersList\u001b[0m\u001b[0;34m[\u001b[0m\u001b[0mi\u001b[0m\u001b[0;34m]\u001b[0m\u001b[0;34m,\u001b[0m\u001b[0mboxFiltersList\u001b[0m\u001b[0;34m[\u001b[0m\u001b[0mj\u001b[0m\u001b[0;34m]\u001b[0m\u001b[0;34m)\u001b[0m\u001b[0;34m\u001b[0m\u001b[0;34m\u001b[0m\u001b[0m\n\u001b[0m\u001b[1;32m     91\u001b[0m \u001b[0;34m\u001b[0m\u001b[0m\n\u001b[1;32m     92\u001b[0m     \u001b[0mdet\u001b[0m \u001b[0;34m=\u001b[0m \u001b[0mnp\u001b[0m\u001b[0;34m.\u001b[0m\u001b[0mlinalg\u001b[0m\u001b[0;34m.\u001b[0m\u001b[0mdet\u001b[0m\u001b[0;34m(\u001b[0m\u001b[0mA\u001b[0m\u001b[0;34m)\u001b[0m\u001b[0;34m\u001b[0m\u001b[0;34m\u001b[0m\u001b[0m\n",
      "\u001b[0;32m/tmp/ipykernel_4068411/1362892873.py\u001b[0m in \u001b[0;36moverlapping_area\u001b[0;34m(box1, box2)\u001b[0m\n\u001b[1;32m     35\u001b[0m     \u001b[0;31m# Extract coordinates of the top-left and bottom-right corners of each box\u001b[0m\u001b[0;34m\u001b[0m\u001b[0;34m\u001b[0m\u001b[0;34m\u001b[0m\u001b[0m\n\u001b[1;32m     36\u001b[0m     \u001b[0mx1_tl\u001b[0m\u001b[0;34m,\u001b[0m \u001b[0my1_tl\u001b[0m\u001b[0;34m,\u001b[0m \u001b[0mz1_tl\u001b[0m\u001b[0;34m,\u001b[0m \u001b[0mx1_br\u001b[0m\u001b[0;34m,\u001b[0m \u001b[0my1_br\u001b[0m\u001b[0;34m,\u001b[0m \u001b[0mz1_br\u001b[0m \u001b[0;34m=\u001b[0m \u001b[0mbox1\u001b[0m\u001b[0;34m.\u001b[0m\u001b[0ma\u001b[0m\u001b[0;34m,\u001b[0m \u001b[0mbox1\u001b[0m\u001b[0;34m.\u001b[0m\u001b[0mc\u001b[0m\u001b[0;34m,\u001b[0m \u001b[0mbox1\u001b[0m\u001b[0;34m.\u001b[0m\u001b[0me\u001b[0m\u001b[0;34m,\u001b[0m \u001b[0mbox1\u001b[0m\u001b[0;34m.\u001b[0m\u001b[0mb\u001b[0m\u001b[0;34m,\u001b[0m \u001b[0mbox1\u001b[0m\u001b[0;34m.\u001b[0m\u001b[0md\u001b[0m\u001b[0;34m,\u001b[0m \u001b[0mbox1\u001b[0m\u001b[0;34m.\u001b[0m\u001b[0mf\u001b[0m\u001b[0;34m\u001b[0m\u001b[0;34m\u001b[0m\u001b[0m\n\u001b[0;32m---> 37\u001b[0;31m     \u001b[0mx2_tl\u001b[0m\u001b[0;34m,\u001b[0m \u001b[0my2_tl\u001b[0m\u001b[0;34m,\u001b[0m \u001b[0mz2_tl\u001b[0m\u001b[0;34m,\u001b[0m \u001b[0mx2_br\u001b[0m\u001b[0;34m,\u001b[0m \u001b[0my2_br\u001b[0m\u001b[0;34m,\u001b[0m \u001b[0mz2_br\u001b[0m \u001b[0;34m=\u001b[0m \u001b[0mbox2\u001b[0m\u001b[0;34m.\u001b[0m\u001b[0ma\u001b[0m\u001b[0;34m,\u001b[0m \u001b[0mbox2\u001b[0m\u001b[0;34m.\u001b[0m\u001b[0mc\u001b[0m\u001b[0;34m,\u001b[0m \u001b[0mbox2\u001b[0m\u001b[0;34m.\u001b[0m\u001b[0me\u001b[0m\u001b[0;34m,\u001b[0m \u001b[0mbox2\u001b[0m\u001b[0;34m.\u001b[0m\u001b[0mb\u001b[0m\u001b[0;34m,\u001b[0m \u001b[0mbox2\u001b[0m\u001b[0;34m.\u001b[0m\u001b[0md\u001b[0m\u001b[0;34m,\u001b[0m \u001b[0mbox2\u001b[0m\u001b[0;34m.\u001b[0m\u001b[0mf\u001b[0m\u001b[0;34m\u001b[0m\u001b[0;34m\u001b[0m\u001b[0m\n\u001b[0m\u001b[1;32m     38\u001b[0m     \u001b[0;31m#print(x1_tl, y1_tl, x1_br, y1_br)\u001b[0m\u001b[0;34m\u001b[0m\u001b[0;34m\u001b[0m\u001b[0;34m\u001b[0m\u001b[0m\n\u001b[1;32m     39\u001b[0m     \u001b[0;31m#print(x2_tl, y2_tl, x2_br, y2_br)\u001b[0m\u001b[0;34m\u001b[0m\u001b[0;34m\u001b[0m\u001b[0;34m\u001b[0m\u001b[0m\n",
      "\u001b[0;31mKeyboardInterrupt\u001b[0m: "
     ]
    }
   ],
   "source": [
    "boxes,loss = calculateBoxFilters(filter,90)\n",
    "print(loss)"
   ]
  },
  {
   "cell_type": "code",
   "execution_count": 183,
   "metadata": {},
   "outputs": [
    {
     "name": "stdout",
     "output_type": "stream",
     "text": [
      "1.3348042682986183\n",
      "[[[0.25913615 0.25913615 0.57880416 0.16427921 0.75859067]\n",
      "  [0.25913615 0.25913615 0.57880416 0.57880416 0.57880416]\n",
      "  [0.01752773 0.57880416 0.03028036 0.57880416 0.57880416]\n",
      "  [0.57880416 0.57880416 0.03028036 0.57880416 0.57880416]\n",
      "  [0.57880416 0.14535125 0.57880416 0.57880416 0.57880416]]\n",
      "\n",
      " [[0.57880416 0.57880416 0.57880416 0.16427921 0.75859067]\n",
      "  [0.57880416 0.99087282 0.21006973 0.57880416 0.57880416]\n",
      "  [0.01752773 0.21006973 0.43314903 0.80188346 0.57880416]\n",
      "  [1.03730308 0.66856865 0.15985447 0.02642121 0.3055096 ]\n",
      "  [0.1665136  0.57880416 0.3055096  0.3055096  0.3055096 ]]\n",
      "\n",
      " [[0.57880416 0.57880416 0.75961181 0.93939833 0.93939833]\n",
      "  [0.57880416 0.21006973 0.39087738 0.75961181 0.4257697 ]\n",
      "  [0.57880416 0.66594768 0.61395669 0.98269111 0.75961181]\n",
      "  [0.57880416 0.21006973 0.15985447 0.02642121 0.3055096 ]\n",
      "  [0.1665136  0.13940795 0.82102716 0.3055096  0.3055096 ]]\n",
      "\n",
      " [[0.57880416 0.83705919 1.01786684 0.93939833 0.93939833]\n",
      "  [0.17623986 0.83705919 0.41353017 0.75961181 0.4257697 ]\n",
      "  [0.57880416 0.16148644 0.56537339 0.30711836 0.75961181]\n",
      "  [0.57880416 0.83705919 1.06013849 0.29971577 0.57880416]\n",
      "  [0.57880416 0.13940795 1.09432172 0.57880416 0.03070826]]\n",
      "\n",
      " [[0.08990582 0.34816085 0.83705919 0.24940661 0.14223968]\n",
      "  [0.08990582 0.34816085 0.83705919 0.24940661 0.57880416]\n",
      "  [0.57880416 0.83705919 0.67975988 0.0921073  0.19842554]\n",
      "  [0.1775791  0.83705919 0.67975988 0.0921073  0.19842554]\n",
      "  [0.99077118 0.13940795 0.57880416 0.24940661 0.57880416]]] 20.789205669472256\n"
     ]
    }
   ],
   "source": [
    "approxFilter = computeTempFilter(boxes)\n",
    "print(approxFilter,percentage_l2_error(filter,approxFilter))"
   ]
  },
  {
   "cell_type": "code",
   "execution_count": 86,
   "metadata": {},
   "outputs": [
    {
     "name": "stdout",
     "output_type": "stream",
     "text": [
      "tensor([[[[[0.8226, 0.5114, 0.3643],\n",
      "           [0.9287, 0.7610, 0.3765],\n",
      "           [0.1129, 0.3964, 0.5899]],\n",
      "\n",
      "          [[0.2202, 0.9278, 0.1764],\n",
      "           [0.4328, 0.4336, 0.6001],\n",
      "           [0.4016, 0.4502, 0.9085]],\n",
      "\n",
      "          [[0.9935, 0.4534, 0.0029],\n",
      "           [0.7808, 0.8997, 0.2696],\n",
      "           [0.2277, 0.2736, 0.1857]]]]])\n",
      "tensor([[[[[5.0382, 4.1512],\n",
      "           [3.9171, 4.5163]],\n",
      "\n",
      "          [[5.1419, 3.7637],\n",
      "           [3.9000, 4.0211]]]]], grad_fn=<ConvolutionBackward0>)\n"
     ]
    },
    {
     "name": "stderr",
     "output_type": "stream",
     "text": [
      "/home/csgrad/byalavar/miniconda3/envs/adaface/lib/python3.7/site-packages/ipykernel_launcher.py:2: UserWarning: To copy construct from a tensor, it is recommended to use sourceTensor.clone().detach() or sourceTensor.clone().detach().requires_grad_(True), rather than torch.tensor(sourceTensor).\n",
      "  \n"
     ]
    }
   ],
   "source": [
    "conv3 = torch.nn.Conv3d(1,1,2,padding=0,bias=False)\n",
    "conv3.weight.data = torch.tensor(torch.ones(1,1,2,2,2))\n",
    "\n",
    "a = torch.rand(1,1,3,3,3)\n",
    "b = conv3(a)\n",
    "\n",
    "print(a)\n",
    "print(b)"
   ]
  },
  {
   "cell_type": "code",
   "execution_count": 110,
   "metadata": {},
   "outputs": [
    {
     "name": "stdout",
     "output_type": "stream",
     "text": [
      "3 3 3\n",
      "[[[1.0, 2.0, 3.0], [2.0, 5.0, 9.0], [3.0, 9.0, 19.0]], [[2.0, 5.0, 9.0], [5.0, 15.0, 32.0], [9.0, 32.0, 79.0]], [[3.0, 9.0, 19.0], [9.0, 32.0, 79.0], [19.0, 79.0, 223.0]]]\n"
     ]
    }
   ],
   "source": [
    "import numpy as np\n",
    "\n",
    "def calculate_3d_integral_image(image):\n",
    "    x_len = len(image)\n",
    "    y_len = len(image[0])\n",
    "    z_len = len(image[0][0])\n",
    "    print(x_len,y_len,z_len)\n",
    "    integral_image = [[[0 for _ in range(z_len)] for _ in range(y_len)] for _ in range(x_len)]\n",
    "\n",
    "    for x in range(x_len):\n",
    "        for y in range(y_len):\n",
    "            for z in range(z_len):\n",
    "                sum = image[x][y][z]\n",
    "\n",
    "                if x > 0:\n",
    "                    sum += integral_image[x-1][y][z]\n",
    "                if y > 0:\n",
    "                    sum += integral_image[x][y-1][z]\n",
    "                if z > 0:\n",
    "                    sum += integral_image[x][y][z-1]\n",
    "                if x > 0 and y > 0 and z > 0:\n",
    "                    sum -= integral_image[x-1][y-1][z-1]\n",
    "\n",
    "                integral_image[x][y][z] = sum\n",
    "\n",
    "    return integral_image\n",
    "\n",
    "\n",
    "sat = calculate_3d_integral_image(np.ones((3,3,3)))\n",
    "\n",
    "print(sat)"
   ]
  },
  {
   "cell_type": "code",
   "execution_count": 115,
   "metadata": {},
   "outputs": [
    {
     "name": "stdout",
     "output_type": "stream",
     "text": [
      "[[[ 1.  2.  3.]\n",
      "  [ 2.  4.  6.]\n",
      "  [ 3.  6.  9.]]\n",
      "\n",
      " [[ 2.  4.  6.]\n",
      "  [ 4.  8. 12.]\n",
      "  [ 6. 12. 18.]]\n",
      "\n",
      " [[ 3.  6.  9.]\n",
      "  [ 6. 12. 18.]\n",
      "  [ 9. 18. 27.]]]\n"
     ]
    }
   ],
   "source": [
    "x = np.ones((3,3,3)).cumsum(0).cumsum(1).cumsum(2)\n",
    "\n",
    "print(x)"
   ]
  },
  {
   "cell_type": "code",
   "execution_count": 112,
   "metadata": {},
   "outputs": [
    {
     "data": {
      "text/plain": [
       "array([[[1., 1., 1.],\n",
       "        [1., 1., 1.],\n",
       "        [1., 1., 1.]],\n",
       "\n",
       "       [[1., 1., 1.],\n",
       "        [1., 1., 1.],\n",
       "        [1., 1., 1.]],\n",
       "\n",
       "       [[1., 1., 1.],\n",
       "        [1., 1., 1.],\n",
       "        [1., 1., 1.]]])"
      ]
     },
     "execution_count": 112,
     "metadata": {},
     "output_type": "execute_result"
    }
   ],
   "source": [
    "np.ones((3,3,3))"
   ]
  },
  {
   "cell_type": "code",
   "execution_count": 120,
   "metadata": {},
   "outputs": [
    {
     "ename": "TypeError",
     "evalue": "'tuple' object cannot be interpreted as an integer",
     "output_type": "error",
     "traceback": [
      "\u001b[0;31m---------------------------------------------------------------------------\u001b[0m",
      "\u001b[0;31mTypeError\u001b[0m                                 Traceback (most recent call last)",
      "\u001b[0;32m/tmp/ipykernel_4068411/3394046772.py\u001b[0m in \u001b[0;36m<module>\u001b[0;34m\u001b[0m\n\u001b[1;32m     36\u001b[0m \u001b[0mintegral_image\u001b[0m \u001b[0;34m=\u001b[0m \u001b[0mnp\u001b[0m\u001b[0;34m.\u001b[0m\u001b[0marray\u001b[0m\u001b[0;34m(\u001b[0m\u001b[0mintegral_image\u001b[0m\u001b[0;34m)\u001b[0m\u001b[0;34m\u001b[0m\u001b[0;34m\u001b[0m\u001b[0m\n\u001b[1;32m     37\u001b[0m \u001b[0;34m\u001b[0m\u001b[0m\n\u001b[0;32m---> 38\u001b[0;31m \u001b[0mprint\u001b[0m\u001b[0;34m(\u001b[0m\u001b[0mnp\u001b[0m\u001b[0;34m.\u001b[0m\u001b[0mall\u001b[0m\u001b[0;34m(\u001b[0m\u001b[0mintegral_image\u001b[0m \u001b[0;34m==\u001b[0m \u001b[0mnp\u001b[0m\u001b[0;34m.\u001b[0m\u001b[0mrandom\u001b[0m\u001b[0;34m.\u001b[0m\u001b[0mrand\u001b[0m\u001b[0;34m(\u001b[0m\u001b[0;34m(\u001b[0m\u001b[0;36m3\u001b[0m\u001b[0;34m,\u001b[0m\u001b[0;36m3\u001b[0m\u001b[0;34m,\u001b[0m\u001b[0;36m3\u001b[0m\u001b[0;34m)\u001b[0m\u001b[0;34m)\u001b[0m\u001b[0;34m.\u001b[0m\u001b[0mcumsum\u001b[0m\u001b[0;34m(\u001b[0m\u001b[0;36m0\u001b[0m\u001b[0;34m)\u001b[0m\u001b[0;34m.\u001b[0m\u001b[0mcumsum\u001b[0m\u001b[0;34m(\u001b[0m\u001b[0;36m1\u001b[0m\u001b[0;34m)\u001b[0m\u001b[0;34m.\u001b[0m\u001b[0mcumsum\u001b[0m\u001b[0;34m(\u001b[0m\u001b[0;36m2\u001b[0m\u001b[0;34m)\u001b[0m\u001b[0;34m)\u001b[0m\u001b[0;34m)\u001b[0m\u001b[0;34m\u001b[0m\u001b[0;34m\u001b[0m\u001b[0m\n\u001b[0m",
      "\u001b[0;32mmtrand.pyx\u001b[0m in \u001b[0;36mnumpy.random.mtrand.RandomState.rand\u001b[0;34m()\u001b[0m\n",
      "\u001b[0;32mmtrand.pyx\u001b[0m in \u001b[0;36mnumpy.random.mtrand.RandomState.random_sample\u001b[0;34m()\u001b[0m\n",
      "\u001b[0;32m_common.pyx\u001b[0m in \u001b[0;36mnumpy.random._common.double_fill\u001b[0;34m()\u001b[0m\n",
      "\u001b[0;31mTypeError\u001b[0m: 'tuple' object cannot be interpreted as an integer"
     ]
    }
   ],
   "source": [
    "def calculate_3d_integral_image(image):\n",
    "    x_len = len(image)\n",
    "    y_len = len(image[0])\n",
    "    z_len = len(image[0][0])\n",
    "\n",
    "    integral_image = [[[0 for _ in range(z_len)] for _ in range(y_len)] for _ in range(x_len)]\n",
    "\n",
    "    for x in range(x_len):\n",
    "        for y in range(y_len):\n",
    "            for z in range(z_len):\n",
    "                sum = image[x][y][z]\n",
    "\n",
    "                if x > 0:\n",
    "                    sum += integral_image[x-1][y][z]\n",
    "                if y > 0:\n",
    "                    sum += integral_image[x][y-1][z]\n",
    "                if z > 0:\n",
    "                    sum += integral_image[x][y][z-1]\n",
    "                if x > 0 and y > 0:\n",
    "                    sum -= integral_image[x-1][y-1][z]\n",
    "                if x > 0 and z > 0:\n",
    "                    sum -= integral_image[x-1][y][z-1]\n",
    "                if y > 0 and z > 0:\n",
    "                    sum -= integral_image[x][y-1][z-1]\n",
    "                if x > 0 and y > 0 and z > 0:\n",
    "                    sum += integral_image[x-1][y-1][z-1]\n",
    "\n",
    "                integral_image[x][y][z] = sum\n",
    "\n",
    "    return integral_image\n",
    "\n",
    "# Create a 3x3x3 array filled with ones\n",
    "x = [[[1 for _ in range(3)] for _ in range(3)] for _ in range(3)]\n",
    "integral_image = calculate_3d_integral_image(x)\n",
    "\n",
    "integral_image = np.array(integral_image)\n",
    "\n",
    "print(np.all(integral_image == ))"
   ]
  },
  {
   "cell_type": "code",
   "execution_count": 140,
   "metadata": {},
   "outputs": [
    {
     "data": {
      "text/plain": [
       "0.893099727437831"
      ]
     },
     "execution_count": 140,
     "metadata": {},
     "output_type": "execute_result"
    }
   ],
   "source": [
    "a[1][1][1]"
   ]
  },
  {
   "cell_type": "code",
   "execution_count": 135,
   "metadata": {},
   "outputs": [],
   "source": [
    "a = np.random.random((3,3,3))"
   ]
  },
  {
   "cell_type": "code",
   "execution_count": 136,
   "metadata": {},
   "outputs": [
    {
     "data": {
      "text/plain": [
       "array([[[ 0.77376205,  1.66948762,  2.01586054],\n",
       "        [ 1.39059627,  2.74423624,  3.8895595 ],\n",
       "        [ 1.72572448,  3.37095541,  4.9033893 ]],\n",
       "\n",
       "       [[ 1.08603565,  2.10915163,  2.47990213],\n",
       "        [ 2.63275956,  5.00688967,  6.40759727],\n",
       "        [ 3.09515277,  6.01691845,  8.27067709]],\n",
       "\n",
       "       [[ 1.63593448,  3.50936361,  4.33214316],\n",
       "        [ 4.1486665 ,  8.03465817, 10.85255325],\n",
       "        [ 4.61601253,  9.82202545, 13.84537397]]])"
      ]
     },
     "execution_count": 136,
     "metadata": {},
     "output_type": "execute_result"
    }
   ],
   "source": [
    "np.array(calculate_3d_integral_image(a))"
   ]
  },
  {
   "cell_type": "code",
   "execution_count": 137,
   "metadata": {},
   "outputs": [
    {
     "data": {
      "text/plain": [
       "array([[[ 0.77376205,  1.66948762,  2.01586054],\n",
       "        [ 1.39059627,  2.74423624,  3.8895595 ],\n",
       "        [ 1.72572448,  3.37095541,  4.9033893 ]],\n",
       "\n",
       "       [[ 1.08603565,  2.10915163,  2.47990213],\n",
       "        [ 2.63275956,  5.00688967,  6.40759727],\n",
       "        [ 3.09515277,  6.01691845,  8.27067709]],\n",
       "\n",
       "       [[ 1.63593448,  3.50936361,  4.33214316],\n",
       "        [ 4.1486665 ,  8.03465817, 10.85255325],\n",
       "        [ 4.61601253,  9.82202545, 13.84537397]]])"
      ]
     },
     "execution_count": 137,
     "metadata": {},
     "output_type": "execute_result"
    }
   ],
   "source": [
    "a.cumsum(0).cumsum(1).cumsum(2)"
   ]
  },
  {
   "cell_type": "code",
   "execution_count": 138,
   "metadata": {},
   "outputs": [],
   "source": [
    "out = np.array(calculate_3d_integral_image(a))"
   ]
  },
  {
   "cell_type": "code",
   "execution_count": 134,
   "metadata": {},
   "outputs": [
    {
     "data": {
      "text/plain": [
       "False"
      ]
     },
     "execution_count": 134,
     "metadata": {},
     "output_type": "execute_result"
    }
   ],
   "source": [
    "np.all(out==a.cumsum(0).cumsum(1).cumsum(2))"
   ]
  },
  {
   "cell_type": "code",
   "execution_count": 145,
   "metadata": {},
   "outputs": [
    {
     "name": "stdout",
     "output_type": "stream",
     "text": [
      "[[[1. 1. 1.]\n",
      "  [1. 1. 1.]\n",
      "  [1. 1. 1.]]\n",
      "\n",
      " [[1. 1. 1.]\n",
      "  [1. 1. 1.]\n",
      "  [1. 1. 1.]]\n",
      "\n",
      " [[1. 1. 1.]\n",
      "  [1. 1. 1.]\n",
      "  [1. 1. 1.]]]\n"
     ]
    }
   ],
   "source": [
    "a = np.ones((3,3,3))\n",
    "print(a)"
   ]
  },
  {
   "cell_type": "code",
   "execution_count": 73,
   "metadata": {},
   "outputs": [],
   "source": [
    "def sum_within_boundary(integral_image, corner1, corner2):\n",
    "    x1, y1, z1 = corner1\n",
    "    x2, y2, z2 = corner2\n",
    "\n",
    "    total = integral_image[x2][y2][z2]\n",
    "\n",
    "    if x1 > 0:\n",
    "        total -= integral_image[x1-1][y2][z2]\n",
    "    if y1 > 0:\n",
    "        total -= integral_image[x2][y1-1][z2]\n",
    "    if z1 > 0:\n",
    "        total -= integral_image[x2][y2][z1-1]\n",
    "    if x1 > 0 and y1 > 0:\n",
    "        total += integral_image[x1-1][y1-1][z2]\n",
    "    if x1 > 0 and z1 > 0:\n",
    "        total += integral_image[x1-1][y2][z1-1]\n",
    "    if y1 > 0 and z1 > 0:\n",
    "        total += integral_image[x2][y1-1][z1-1]\n",
    "    if x1 > 0 and y1 > 0 and z1 > 0:\n",
    "        total -= integral_image[x1-1][y1-1][z1-1]\n",
    "\n",
    "    return total\n",
    "\n",
    "def check_dimensions(sat, corner1, corner2):\n",
    "    x_len = len(sat)\n",
    "    y_len = len(sat[0])\n",
    "    z_len = len(sat[0][0])\n",
    "    print(x_len,y_len,z_len)\n",
    "    x1, y1, z1 = corner1\n",
    "    x2, y2, z2 = corner2\n",
    "\n",
    "    if not (0 <= x1 < x_len and 0 <= x2 < x_len):\n",
    "        return False\n",
    "    if not (0 <= y1 < y_len and 0 <= y2 < y_len):\n",
    "        return False\n",
    "    if not (0 <= z1 < z_len and 0 <= z2 < z_len):\n",
    "        return False\n",
    "\n",
    "    return True\n",
    "\n"
   ]
  },
  {
   "cell_type": "code",
   "execution_count": 146,
   "metadata": {},
   "outputs": [],
   "source": [
    "out = calculate_3d_integral_image(a)"
   ]
  },
  {
   "cell_type": "code",
   "execution_count": 154,
   "metadata": {},
   "outputs": [
    {
     "data": {
      "text/plain": [
       "array([[[1., 1., 1.],\n",
       "        [1., 1., 1.],\n",
       "        [1., 1., 1.]],\n",
       "\n",
       "       [[1., 1., 1.],\n",
       "        [1., 1., 1.],\n",
       "        [1., 1., 1.]],\n",
       "\n",
       "       [[1., 1., 1.],\n",
       "        [1., 1., 1.],\n",
       "        [1., 1., 1.]]])"
      ]
     },
     "execution_count": 154,
     "metadata": {},
     "output_type": "execute_result"
    }
   ],
   "source": [
    "a"
   ]
  },
  {
   "cell_type": "code",
   "execution_count": 148,
   "metadata": {},
   "outputs": [
    {
     "name": "stdout",
     "output_type": "stream",
     "text": [
      "[[[ 1.  2.  3.]\n",
      "  [ 2.  4.  6.]\n",
      "  [ 3.  6.  9.]]\n",
      "\n",
      " [[ 2.  4.  6.]\n",
      "  [ 4.  8. 12.]\n",
      "  [ 6. 12. 18.]]\n",
      "\n",
      " [[ 3.  6.  9.]\n",
      "  [ 6. 12. 18.]\n",
      "  [ 9. 18. 27.]]]\n"
     ]
    }
   ],
   "source": [
    "out = np.array(out)\n",
    "print(out)"
   ]
  },
  {
   "cell_type": "code",
   "execution_count": 153,
   "metadata": {},
   "outputs": [
    {
     "name": "stdout",
     "output_type": "stream",
     "text": [
      "3 3 3\n",
      "8.0\n"
     ]
    }
   ],
   "source": [
    "if check_dimensions(out, (1,1,1), (2,2,2)):\n",
    "    print(sum_within_boundary(out, (1,1,1), (2,2,2)))\n",
    "else:\n",
    "    print(\"Coordinates are out of range\")"
   ]
  },
  {
   "cell_type": "code",
   "execution_count": 75,
   "metadata": {},
   "outputs": [
    {
     "data": {
      "text/plain": [
       "[[[tensor([[0.8350, 0.5906, 0.1387],\n",
       "           [0.2284, 0.6240, 0.6502],\n",
       "           [0.3236, 0.0805, 0.9270]]),\n",
       "   tensor([[1.0435, 1.0450, 0.5815],\n",
       "           [0.4497, 1.5152, 0.9564],\n",
       "           [0.6222, 1.0607, 1.0949]]),\n",
       "   tensor([[1.9781, 1.2663, 1.0074],\n",
       "           [1.0812, 2.1144, 1.7920],\n",
       "           [1.4459, 1.7816, 1.2045]])]]]"
      ]
     },
     "execution_count": 75,
     "metadata": {},
     "output_type": "execute_result"
    }
   ],
   "source": [
    "sat"
   ]
  },
  {
   "cell_type": "code",
   "execution_count": 54,
   "metadata": {},
   "outputs": [
    {
     "data": {
      "text/plain": [
       "25"
      ]
     },
     "execution_count": 54,
     "metadata": {},
     "output_type": "execute_result"
    }
   ],
   "source": [
    "len(filter)"
   ]
  },
  {
   "cell_type": "code",
   "execution_count": 55,
   "metadata": {},
   "outputs": [],
   "source": [
    "tempFilter = computeTempFilter(boxFilterList)"
   ]
  },
  {
   "cell_type": "code",
   "execution_count": 56,
   "metadata": {},
   "outputs": [
    {
     "data": {
      "text/plain": [
       "1.8910732587444037"
      ]
     },
     "execution_count": 56,
     "metadata": {},
     "output_type": "execute_result"
    }
   ],
   "source": [
    "percentage_l2_error(filter,tempFilter)"
   ]
  },
  {
   "cell_type": "code",
   "execution_count": 40,
   "metadata": {},
   "outputs": [
    {
     "name": "stdout",
     "output_type": "stream",
     "text": [
      "A: 7 B: 21 Alpha: 60.64935064935048\n",
      "A: 14 B: 18 Alpha: -46.03896103896096\n",
      "A: 8 B: 10 Alpha: -46.10389610389596\n",
      "A: 15 B: 20 Alpha: 32.76623376623374\n",
      "A: 8 B: 15 Alpha: 34.77272727272728\n",
      "A: 13 B: 14 Alpha: -27.740259740259717\n",
      "A: 6 B: 11 Alpha: -17.519480519480396\n",
      "A: 14 B: 19 Alpha: -17.766233766233825\n",
      "A: 3 B: 7 Alpha: 24.941558441558414\n",
      "A: 3 B: 9 Alpha: -7.999999999999993\n",
      "A: 3 B: 17 Alpha: -9.46103896103898\n",
      "A: 13 B: 21 Alpha: -4.649350649350481\n",
      "A: 5 B: 13 Alpha: 2.662337662337606\n",
      "A: 3 B: 8 Alpha: -2.999999999999975\n",
      "A: 0 B: 1 Alpha: 1.5\n"
     ]
    }
   ],
   "source": [
    "for i in boxFilterList:\n",
    "    i.printParams()"
   ]
  },
  {
   "cell_type": "code",
   "execution_count": 29,
   "metadata": {},
   "outputs": [
    {
     "data": {
      "text/plain": [
       "array([  1.,   2.,  -1.,   4.,   5.,   7., -10.,  50.,  14.,  17.])"
      ]
     },
     "execution_count": 29,
     "metadata": {},
     "output_type": "execute_result"
    }
   ],
   "source": [
    "tempFilter"
   ]
  },
  {
   "cell_type": "code",
   "execution_count": 7,
   "metadata": {},
   "outputs": [
    {
     "data": {
      "text/plain": [
       "<All keys matched successfully>"
      ]
     },
     "execution_count": 7,
     "metadata": {},
     "output_type": "execute_result"
    }
   ],
   "source": [
    "model = resnet20()\n",
    "\n",
    "loaded_data = torch.load('/home/csgrad/byalavar/FHE/ImprovedLT/HEAAN/app/homomorphic_dft/resnet20-12fca82f.th')\n",
    "\n",
    "state_dict = loaded_data['state_dict']\n",
    "if 'module' in list(state_dict.keys())[0]:\n",
    "    state_dict = {k[7:]: v for k, v in state_dict.items()}\n",
    "\n",
    "model.load_state_dict(state_dict)"
   ]
  },
  {
   "cell_type": "code",
   "execution_count": 8,
   "metadata": {},
   "outputs": [
    {
     "data": {
      "text/plain": [
       "ResNet(\n",
       "  (conv1): Conv2d(3, 16, kernel_size=(3, 3), stride=(1, 1), padding=(1, 1), bias=False)\n",
       "  (bn1): BatchNorm2d(16, eps=1e-05, momentum=0.1, affine=True, track_running_stats=True)\n",
       "  (layer1): Sequential(\n",
       "    (0): BasicBlock(\n",
       "      (conv1): Conv2d(16, 16, kernel_size=(3, 3), stride=(1, 1), padding=(1, 1), bias=False)\n",
       "      (bn1): BatchNorm2d(16, eps=1e-05, momentum=0.1, affine=True, track_running_stats=True)\n",
       "      (conv2): Conv2d(16, 16, kernel_size=(3, 3), stride=(1, 1), padding=(1, 1), bias=False)\n",
       "      (bn2): BatchNorm2d(16, eps=1e-05, momentum=0.1, affine=True, track_running_stats=True)\n",
       "      (shortcut): Sequential()\n",
       "    )\n",
       "    (1): BasicBlock(\n",
       "      (conv1): Conv2d(16, 16, kernel_size=(3, 3), stride=(1, 1), padding=(1, 1), bias=False)\n",
       "      (bn1): BatchNorm2d(16, eps=1e-05, momentum=0.1, affine=True, track_running_stats=True)\n",
       "      (conv2): Conv2d(16, 16, kernel_size=(3, 3), stride=(1, 1), padding=(1, 1), bias=False)\n",
       "      (bn2): BatchNorm2d(16, eps=1e-05, momentum=0.1, affine=True, track_running_stats=True)\n",
       "      (shortcut): Sequential()\n",
       "    )\n",
       "    (2): BasicBlock(\n",
       "      (conv1): Conv2d(16, 16, kernel_size=(3, 3), stride=(1, 1), padding=(1, 1), bias=False)\n",
       "      (bn1): BatchNorm2d(16, eps=1e-05, momentum=0.1, affine=True, track_running_stats=True)\n",
       "      (conv2): Conv2d(16, 16, kernel_size=(3, 3), stride=(1, 1), padding=(1, 1), bias=False)\n",
       "      (bn2): BatchNorm2d(16, eps=1e-05, momentum=0.1, affine=True, track_running_stats=True)\n",
       "      (shortcut): Sequential()\n",
       "    )\n",
       "  )\n",
       "  (layer2): Sequential(\n",
       "    (0): BasicBlock(\n",
       "      (conv1): Conv2d(16, 32, kernel_size=(3, 3), stride=(2, 2), padding=(1, 1), bias=False)\n",
       "      (bn1): BatchNorm2d(32, eps=1e-05, momentum=0.1, affine=True, track_running_stats=True)\n",
       "      (conv2): Conv2d(32, 32, kernel_size=(3, 3), stride=(1, 1), padding=(1, 1), bias=False)\n",
       "      (bn2): BatchNorm2d(32, eps=1e-05, momentum=0.1, affine=True, track_running_stats=True)\n",
       "      (shortcut): LambdaLayer()\n",
       "    )\n",
       "    (1): BasicBlock(\n",
       "      (conv1): Conv2d(32, 32, kernel_size=(3, 3), stride=(1, 1), padding=(1, 1), bias=False)\n",
       "      (bn1): BatchNorm2d(32, eps=1e-05, momentum=0.1, affine=True, track_running_stats=True)\n",
       "      (conv2): Conv2d(32, 32, kernel_size=(3, 3), stride=(1, 1), padding=(1, 1), bias=False)\n",
       "      (bn2): BatchNorm2d(32, eps=1e-05, momentum=0.1, affine=True, track_running_stats=True)\n",
       "      (shortcut): Sequential()\n",
       "    )\n",
       "    (2): BasicBlock(\n",
       "      (conv1): Conv2d(32, 32, kernel_size=(3, 3), stride=(1, 1), padding=(1, 1), bias=False)\n",
       "      (bn1): BatchNorm2d(32, eps=1e-05, momentum=0.1, affine=True, track_running_stats=True)\n",
       "      (conv2): Conv2d(32, 32, kernel_size=(3, 3), stride=(1, 1), padding=(1, 1), bias=False)\n",
       "      (bn2): BatchNorm2d(32, eps=1e-05, momentum=0.1, affine=True, track_running_stats=True)\n",
       "      (shortcut): Sequential()\n",
       "    )\n",
       "  )\n",
       "  (layer3): Sequential(\n",
       "    (0): BasicBlock(\n",
       "      (conv1): Conv2d(32, 64, kernel_size=(3, 3), stride=(2, 2), padding=(1, 1), bias=False)\n",
       "      (bn1): BatchNorm2d(64, eps=1e-05, momentum=0.1, affine=True, track_running_stats=True)\n",
       "      (conv2): Conv2d(64, 64, kernel_size=(3, 3), stride=(1, 1), padding=(1, 1), bias=False)\n",
       "      (bn2): BatchNorm2d(64, eps=1e-05, momentum=0.1, affine=True, track_running_stats=True)\n",
       "      (shortcut): LambdaLayer()\n",
       "    )\n",
       "    (1): BasicBlock(\n",
       "      (conv1): Conv2d(64, 64, kernel_size=(3, 3), stride=(1, 1), padding=(1, 1), bias=False)\n",
       "      (bn1): BatchNorm2d(64, eps=1e-05, momentum=0.1, affine=True, track_running_stats=True)\n",
       "      (conv2): Conv2d(64, 64, kernel_size=(3, 3), stride=(1, 1), padding=(1, 1), bias=False)\n",
       "      (bn2): BatchNorm2d(64, eps=1e-05, momentum=0.1, affine=True, track_running_stats=True)\n",
       "      (shortcut): Sequential()\n",
       "    )\n",
       "    (2): BasicBlock(\n",
       "      (conv1): Conv2d(64, 64, kernel_size=(3, 3), stride=(1, 1), padding=(1, 1), bias=False)\n",
       "      (bn1): BatchNorm2d(64, eps=1e-05, momentum=0.1, affine=True, track_running_stats=True)\n",
       "      (conv2): Conv2d(64, 64, kernel_size=(3, 3), stride=(1, 1), padding=(1, 1), bias=False)\n",
       "      (bn2): BatchNorm2d(64, eps=1e-05, momentum=0.1, affine=True, track_running_stats=True)\n",
       "      (shortcut): Sequential()\n",
       "    )\n",
       "  )\n",
       "  (linear): Linear(in_features=64, out_features=10, bias=True)\n",
       ")"
      ]
     },
     "execution_count": 8,
     "metadata": {},
     "output_type": "execute_result"
    }
   ],
   "source": [
    "model"
   ]
  },
  {
   "cell_type": "code",
   "execution_count": 37,
   "metadata": {},
   "outputs": [
    {
     "name": "stdout",
     "output_type": "stream",
     "text": [
      "conv1.weight\n",
      "bn1.weight\n",
      "bn1.bias\n",
      "layer1.0.conv1.weight\n",
      "layer1.0.bn1.weight\n",
      "layer1.0.bn1.bias\n",
      "layer1.0.conv2.weight\n",
      "layer1.0.bn2.weight\n",
      "layer1.0.bn2.bias\n",
      "layer1.1.conv1.weight\n",
      "layer1.1.bn1.weight\n",
      "layer1.1.bn1.bias\n",
      "layer1.1.conv2.weight\n",
      "layer1.1.bn2.weight\n",
      "layer1.1.bn2.bias\n",
      "layer1.2.conv1.weight\n",
      "layer1.2.bn1.weight\n",
      "layer1.2.bn1.bias\n",
      "layer1.2.conv2.weight\n",
      "layer1.2.bn2.weight\n",
      "layer1.2.bn2.bias\n",
      "layer2.0.conv1.weight\n",
      "layer2.0.bn1.weight\n",
      "layer2.0.bn1.bias\n",
      "layer2.0.conv2.weight\n",
      "layer2.0.bn2.weight\n",
      "layer2.0.bn2.bias\n",
      "layer2.1.conv1.weight\n",
      "layer2.1.bn1.weight\n",
      "layer2.1.bn1.bias\n",
      "layer2.1.conv2.weight\n",
      "layer2.1.bn2.weight\n",
      "layer2.1.bn2.bias\n",
      "layer2.2.conv1.weight\n",
      "layer2.2.bn1.weight\n",
      "layer2.2.bn1.bias\n",
      "layer2.2.conv2.weight\n",
      "layer2.2.bn2.weight\n",
      "layer2.2.bn2.bias\n",
      "layer3.0.conv1.weight\n",
      "layer3.0.bn1.weight\n",
      "layer3.0.bn1.bias\n",
      "layer3.0.conv2.weight\n",
      "layer3.0.bn2.weight\n",
      "layer3.0.bn2.bias\n",
      "layer3.1.conv1.weight\n",
      "layer3.1.bn1.weight\n",
      "layer3.1.bn1.bias\n",
      "layer3.1.conv2.weight\n",
      "layer3.1.bn2.weight\n",
      "layer3.1.bn2.bias\n",
      "layer3.2.conv1.weight\n",
      "layer3.2.bn1.weight\n",
      "layer3.2.bn1.bias\n",
      "layer3.2.conv2.weight\n",
      "layer3.2.bn2.weight\n",
      "layer3.2.bn2.bias\n",
      "linear.weight\n",
      "linear.bias\n"
     ]
    }
   ],
   "source": [
    "for i,j in model.named_parameters():\n",
    "    print(i)"
   ]
  },
  {
   "cell_type": "code",
   "execution_count": 18,
   "metadata": {},
   "outputs": [
    {
     "name": "stdout",
     "output_type": "stream",
     "text": [
      "Files already downloaded and verified\n",
      "torch.Size([1, 3, 32, 32])\n",
      "torch.Size([1, 3, 32, 32])\n"
     ]
    }
   ],
   "source": [
    "#Input image\n",
    "\n",
    "\n",
    "transform = transforms.Compose([\n",
    "    #transforms.Resize((224,224)),\n",
    "    transforms.ToTensor(),\n",
    "    \n",
    "    transforms.Normalize([0.485, 0.456, 0.406],\n",
    "                                     [0.229, 0.224, 0.225])\n",
    "])\n",
    "\n",
    "testset = torchvision.datasets.CIFAR10(root='./data', train=False,\n",
    "                                       download=True, transform=transform)\n",
    "testloader = torch.utils.data.DataLoader(testset, batch_size=1,\n",
    "                                         shuffle=False, num_workers=2)\n",
    "\n",
    "\n",
    "input = next(iter(testloader))\n",
    "input = input[0]\n",
    "print(input.shape)\n",
    "inputImage = input\n",
    "print(inputImage.shape)\n"
   ]
  },
  {
   "cell_type": "code",
   "execution_count": 80,
   "metadata": {},
   "outputs": [],
   "source": [
    "\n",
    "\n",
    "def getIntermediateOutput(model, input, layer_name):\n",
    "    \n",
    "    def hook(module, input, output_from_hook):\n",
    "        nonlocal output\n",
    "        output = output_from_hook\n",
    "\n",
    "    # Assume `model` is your PyTorch model\n",
    "    output = None\n",
    "\n",
    "\n",
    "    layer = getattr(model, layer_name)\n",
    "    print(layer)\n",
    "# Register the hook on the 'conv1' layer\n",
    "    handle = layer.register_forward_hook(hook)\n",
    "\n",
    "# Run your model\n",
    "    print(input.shape)\n",
    "    model(input)\n",
    "\n",
    "# Now `output` contains the output of the 'conv1' layer\n",
    "    #print(output.shape)\n",
    "\n",
    "# Don't forget to remove the hook when you're done\n",
    "    handle.remove()\n",
    "\n",
    "\n",
    "    list_array = output[0].tolist()\n",
    "\n",
    "# Convert the nested list to a JSON string\n",
    "    json_str = json.dumps(list_array)\n",
    "\n",
    "# Write the JSON string to a file\n",
    "    with open('output'+str(layer_name)+'.json', 'w') as f:\n",
    "        f.write(json_str)\n",
    "\n"
   ]
  },
  {
   "cell_type": "code",
   "execution_count": 81,
   "metadata": {},
   "outputs": [
    {
     "name": "stdout",
     "output_type": "stream",
     "text": [
      "Conv2d(3, 16, kernel_size=(3, 3), stride=(1, 1), padding=(1, 1), bias=False)\n",
      "torch.Size([1, 3, 32, 32])\n"
     ]
    }
   ],
   "source": [
    "getIntermediateOutput(model,inputImage,'conv1')"
   ]
  },
  {
   "cell_type": "code",
   "execution_count": 49,
   "metadata": {},
   "outputs": [],
   "source": [
    "def calculateBoxes(model,layerName):\n",
    "    approxFiltersList = []\n",
    "    boxes = []\n",
    "    avgLoss = 0\n",
    "    count = 0\n",
    "    for name,params in model.named_parameters():\n",
    "     if(layerName == str(name) and \"weight\" in str(name)):\n",
    "\n",
    "      print(name)  \n",
    "      approxFilters = np.zeros(params.shape)\n",
    "      print(params.shape)\n",
    "      data = params.data\n",
    "      for i in range(0,data.shape[0]):\n",
    "          for j in range(0,data.shape[1]): \n",
    "              boxFilterList,loss = calculateBoxFilters(data[i][j].numpy(),5)\n",
    "              boxes.append(boxFilterList)\n",
    "              print(i,loss)\n",
    "              avgLoss = avgLoss + loss\n",
    "              count = count + 1\n",
    "              approxFilters[i][j] = computeTempFilter(boxFilterList)\n",
    "      approxFiltersList.append(approxFilters)\n",
    "     else:\n",
    "        break \n",
    "     \n",
    "\n",
    "    print(\"Avg Loss:\",avgLoss/count)\n",
    "    return boxes,approxFiltersList\n",
    "\n",
    "def combineBoxes(boxes,filterId):\n",
    "    alpha = [boxes[i].alpha for i in range(0,len(boxes))]\n",
    "    a = [boxes[i].a for i in range(0,len(boxes))]\n",
    "    b = [boxes[i].b for i in range(0,len(boxes))]\n",
    "    c = [boxes[i].c for i in range(0,len(boxes))]\n",
    "    d = [boxes[i].d for i in range(0,len(boxes))]\n",
    "    return {\n",
    "            'alpha': alpha,\n",
    "            'a': a,\n",
    "            'b': b,\n",
    "            'c': c,\n",
    "            'd': d,\n",
    "            'ogFilterSize': boxes[0].ogFilterSize,\n",
    "            'filterId': filterId\n",
    "        }\n",
    "\n",
    "\n",
    "\n",
    "def saveFilters(boxes,layerName):\n",
    "   box_filters_dicts = [combineBoxes(bf,i) for i,bf in enumerate(boxes)]\n",
    "   with open(str(layerName)+'BoxFilters'+'.json', 'w') as f:\n",
    "    json.dump(box_filters_dicts, f)\n",
    "\n",
    "\n",
    "def updateModel(model,approxFiltersList,layerName,count):\n",
    "    for name,params in model.named_parameters():\n",
    "     if(layerName == str(name) and \"weight\" in str(name)):\n",
    "      print(name)\n",
    "    \n",
    "      params.data = torch.tensor(approxFiltersList[count],dtype=torch.float32)\n",
    "\n",
    "    return model"
   ]
  },
  {
   "cell_type": "code",
   "execution_count": 48,
   "metadata": {},
   "outputs": [
    {
     "name": "stdout",
     "output_type": "stream",
     "text": [
      "conv1.weight\n",
      "torch.Size([16, 3, 3, 3])\n",
      "0 0.24862375398432798\n",
      "0 0.1557454432545499\n",
      "0 0.22847514483480855\n",
      "1 0.08145631606391394\n",
      "1 0.09750105796518906\n",
      "1 0.15523216255744213\n",
      "2 0.17600194457403023\n",
      "2 0.06061386439070259\n",
      "2 0.027944698198377062\n",
      "3 0.06559950631376948\n",
      "3 0.10756782715852824\n",
      "3 0.07348432794265856\n",
      "4 0.018300600924455377\n",
      "4 0.020270806770108927\n",
      "4 0.07306367806780141\n",
      "5 0.0028278242800427625\n",
      "5 0.0041105831427531644\n",
      "5 0.006973680159042001\n",
      "6 0.00235678779215978\n",
      "6 0.001949890358286074\n",
      "6 0.002218207385238251\n",
      "7 0.22863143746666273\n",
      "7 0.060097475310513446\n",
      "7 0.15254108900727992\n",
      "8 0.03047110059978478\n",
      "8 0.04305545887079639\n",
      "8 0.01012613081039765\n",
      "9 0.14498951788381953\n",
      "9 0.07428156984365739\n",
      "9 0.015436445437252411\n",
      "10 0.05786094067445617\n",
      "10 0.12409591744174572\n",
      "10 0.06518190120230212\n",
      "11 0.12271480703857432\n",
      "11 0.12867753405850185\n",
      "11 0.12069126713869192\n",
      "12 0.02217655944837466\n",
      "12 0.09240493711836402\n",
      "12 0.09189114788573967\n",
      "13 0.08398428521872882\n",
      "13 0.15466068428406846\n",
      "13 0.09815484372607616\n",
      "14 0.0010523038587966279\n",
      "14 0.005041509433459606\n",
      "14 0.00091564061718804\n",
      "15 0.04777453160572138\n",
      "15 0.14651811445699828\n",
      "15 0.04603339545511558\n",
      "Avg Loss: 0.07874538858356778\n"
     ]
    }
   ],
   "source": [
    "boxes,approxFiltersList = calculateBoxes(model,\"conv1.weight\")\n",
    "saveFilters(boxes,\"conv1.weight\")"
   ]
  },
  {
   "cell_type": "code",
   "execution_count": 52,
   "metadata": {},
   "outputs": [
    {
     "name": "stdout",
     "output_type": "stream",
     "text": [
      "conv1.weight\n"
     ]
    }
   ],
   "source": [
    "model = updateModel(model,approxFiltersList,\"conv1.weight\",0)"
   ]
  },
  {
   "cell_type": "code",
   "execution_count": 53,
   "metadata": {},
   "outputs": [
    {
     "name": "stdout",
     "output_type": "stream",
     "text": [
      "Conv2d(3, 16, kernel_size=(3, 3), stride=(1, 1), padding=(1, 1), bias=False)\n",
      "torch.Size([1, 3, 32, 32])\n"
     ]
    }
   ],
   "source": [
    "getIntermediateOutput(model,inputImage,'conv1')"
   ]
  },
  {
   "cell_type": "code",
   "execution_count": 82,
   "metadata": {},
   "outputs": [
    {
     "data": {
      "text/plain": [
       "tensor([[[[ 1.7325e-01, -1.4064e+00, -1.2660e+00,  ..., -1.6951e+00,\n",
       "           -1.7315e+00, -3.2145e+00],\n",
       "          [ 1.1140e+00, -6.4385e-01, -7.0539e-01,  ..., -9.0847e-01,\n",
       "           -1.1075e+00, -2.1459e+00],\n",
       "          [ 9.3316e-01, -7.3117e-01, -7.6620e-01,  ..., -7.1212e-01,\n",
       "           -8.4256e-01, -2.3040e+00],\n",
       "          ...,\n",
       "          [-1.0957e+00,  3.8449e-01, -1.3411e-01,  ...,  1.1548e+00,\n",
       "            8.8465e-02,  1.4916e+00],\n",
       "          [-1.7750e+00,  5.6020e-01, -1.8068e-01,  ..., -3.5378e-01,\n",
       "            1.2851e+00,  5.3959e-01],\n",
       "          [-2.6705e+00, -7.5113e-01, -1.1901e+00,  ..., -2.0702e+00,\n",
       "           -1.1226e+00, -9.9885e-01]],\n",
       "\n",
       "         [[ 2.6363e-02, -5.0788e-01, -6.5977e-01,  ..., -1.2288e+00,\n",
       "           -1.2744e+00,  5.7595e-01],\n",
       "          [ 9.6250e-01,  4.8289e-01,  3.8867e-01,  ..., -4.5533e-01,\n",
       "           -4.9840e-01,  6.7859e-01],\n",
       "          [ 8.7263e-01,  3.5216e-01,  2.9549e-01,  ..., -2.9318e-01,\n",
       "           -5.6844e-01,  6.4111e-01],\n",
       "          ...,\n",
       "          [-3.2073e+00, -1.2445e+00, -5.5858e-01,  ..., -2.1794e+00,\n",
       "            7.8099e-01,  2.2278e+00],\n",
       "          [-2.7139e+00, -1.3119e+00, -4.3716e-01,  ..., -8.3353e-01,\n",
       "           -1.1241e+00,  3.3029e+00],\n",
       "          [-2.5166e+00, -2.0099e+00, -1.3861e+00,  ..., -9.7705e-01,\n",
       "           -2.0645e+00,  2.8976e+00]],\n",
       "\n",
       "         [[ 3.1327e+00,  3.3381e+00,  3.4327e+00,  ...,  2.9892e+00,\n",
       "            2.4984e+00,  1.9283e+00],\n",
       "          [ 2.7177e+00,  2.5253e+00,  2.7675e+00,  ...,  2.2674e+00,\n",
       "            1.8308e+00,  1.5013e+00],\n",
       "          [ 2.8624e+00,  2.6363e+00,  2.9431e+00,  ...,  2.1370e+00,\n",
       "            1.7828e+00,  1.4514e+00],\n",
       "          ...,\n",
       "          [-4.9580e+00, -4.3897e+00, -4.1444e+00,  ..., -4.4243e+00,\n",
       "           -3.5427e+00, -2.6445e+00],\n",
       "          [-4.8425e+00, -3.9153e+00, -3.6760e+00,  ..., -4.1085e+00,\n",
       "           -3.5696e+00, -2.8361e+00],\n",
       "          [-3.4481e+00, -2.9016e+00, -2.8580e+00,  ..., -3.3539e+00,\n",
       "           -3.4289e+00, -2.1700e+00]],\n",
       "\n",
       "         ...,\n",
       "\n",
       "         [[ 1.9050e+00,  2.9672e+00,  3.1873e+00,  ...,  2.6680e+00,\n",
       "            2.2617e+00,  1.8710e+00],\n",
       "          [ 2.8802e-01,  6.5040e-01,  9.7222e-01,  ...,  7.8213e-01,\n",
       "            6.5915e-01,  1.1882e+00],\n",
       "          [ 4.8764e-01,  9.2552e-01,  1.2648e+00,  ...,  6.0310e-01,\n",
       "            6.5098e-01,  1.2232e+00],\n",
       "          ...,\n",
       "          [-8.3194e-01, -1.3451e+00, -1.2550e+00,  ..., -1.6026e+00,\n",
       "           -1.7166e+00, -2.4510e+00],\n",
       "          [-1.1083e+00, -1.1562e+00, -9.5599e-01,  ..., -1.7140e+00,\n",
       "           -1.2821e+00, -2.6944e+00],\n",
       "          [ 7.9778e-01,  1.5378e+00,  1.5993e+00,  ...,  1.4023e+00,\n",
       "            1.4811e+00,  2.4919e-01]],\n",
       "\n",
       "         [[-1.7744e-03,  3.7294e-04,  2.3292e-03,  ..., -8.4664e-03,\n",
       "           -1.0089e-02, -6.0025e-03],\n",
       "          [-1.5831e-02, -1.3802e-02, -1.2230e-02,  ..., -1.9791e-02,\n",
       "           -2.0540e-02, -1.3800e-02],\n",
       "          [-1.5754e-02, -1.4388e-02, -1.2551e-02,  ..., -1.9259e-02,\n",
       "           -1.9730e-02, -1.3406e-02],\n",
       "          ...,\n",
       "          [ 1.4812e-02,  3.2182e-03,  2.8127e-03,  ..., -1.7189e-03,\n",
       "           -1.2266e-02,  3.6820e-03],\n",
       "          [ 1.6326e-02,  3.6281e-03,  1.2383e-03,  ..., -2.4609e-04,\n",
       "           -1.1062e-02,  1.1040e-03],\n",
       "          [ 2.0268e-02,  2.0853e-02,  1.6794e-02,  ...,  1.6355e-02,\n",
       "            1.6528e-02,  7.0024e-03]],\n",
       "\n",
       "         [[-9.9315e-01, -1.2353e+00, -9.1939e-01,  ..., -2.2235e+00,\n",
       "           -2.4925e+00, -2.2624e+00],\n",
       "          [-7.8856e-01, -1.0714e+00, -9.0216e-01,  ..., -8.3972e-01,\n",
       "           -9.0790e-01, -1.0432e+00],\n",
       "          [-8.2013e-01, -9.7982e-01, -8.7572e-01,  ..., -5.3999e-01,\n",
       "           -5.6688e-01, -8.3567e-01],\n",
       "          ...,\n",
       "          [ 8.4319e-01, -5.1104e-02, -5.3520e-01,  ..., -2.6103e-01,\n",
       "           -1.2648e+00, -1.4810e+00],\n",
       "          [ 1.2015e-01, -1.2942e-01, -4.8869e-01,  ..., -1.1293e+00,\n",
       "           -7.3050e-01, -1.6538e+00],\n",
       "          [ 3.6472e-01,  7.6596e-01,  9.0363e-01,  ...,  7.7274e-01,\n",
       "            1.7498e+00,  5.0438e-01]]]], grad_fn=<ConvolutionBackward0>)"
      ]
     },
     "execution_count": 82,
     "metadata": {},
     "output_type": "execute_result"
    }
   ],
   "source": [
    "output"
   ]
  },
  {
   "cell_type": "code",
   "execution_count": 93,
   "metadata": {},
   "outputs": [],
   "source": [
    "import torch\n",
    "import json\n",
    "\n",
    "def getBatchNormWeights(model, layer_name, filename):\n",
    "    # Get the parameters of the model\n",
    "    model.eval()\n",
    "    weights = {'weights': j.tolist() for i, j in model.named_parameters() if layer_name+'.weight'== i}\n",
    "    bias = {'bias': j.tolist() for i, j in model.named_parameters() if layer_name+'.bias' == i}\n",
    "    \n",
    "    layer = getattr(model, layer_name)\n",
    "    runningMean = {'runningMean':layer.running_mean.tolist()}\n",
    "    runningVar = {'runningVar':layer.running_var.tolist()}\n",
    "\n",
    "    paramsList = [weights,bias,runningMean,runningVar]\n",
    "\n",
    "    # Dump the weights to a JSON file\n",
    "    with open(filename, 'w') as f:\n",
    "        json.dump(paramsList, f)\n",
    "    \n",
    "  \n",
    "\n",
    "\n",
    "getBatchNormWeights(model, 'bn1', 'bn1.json')"
   ]
  },
  {
   "cell_type": "code",
   "execution_count": 59,
   "metadata": {},
   "outputs": [
    {
     "name": "stdout",
     "output_type": "stream",
     "text": [
      "conv1.weight\n",
      "bn1.weight\n",
      "Parameter containing:\n",
      "tensor([6.1040e-01, 6.6255e-01, 6.3536e-01, 7.2446e-01, 9.3609e-01, 1.5853e-01,\n",
      "        1.1061e-03, 6.2115e-01, 7.5787e-01, 6.5871e-01, 6.8427e-01, 1.1494e+00,\n",
      "        5.9217e-01, 3.7244e-01, 9.2601e-05, 6.6238e-01], requires_grad=True)\n",
      "bn1.bias\n",
      "layer1.0.conv1.weight\n",
      "layer1.0.bn1.weight\n",
      "layer1.0.bn1.bias\n",
      "layer1.0.conv2.weight\n",
      "layer1.0.bn2.weight\n",
      "layer1.0.bn2.bias\n",
      "layer1.1.conv1.weight\n",
      "layer1.1.bn1.weight\n",
      "layer1.1.bn1.bias\n",
      "layer1.1.conv2.weight\n",
      "layer1.1.bn2.weight\n",
      "layer1.1.bn2.bias\n",
      "layer1.2.conv1.weight\n",
      "layer1.2.bn1.weight\n",
      "layer1.2.bn1.bias\n",
      "layer1.2.conv2.weight\n",
      "layer1.2.bn2.weight\n",
      "layer1.2.bn2.bias\n",
      "layer2.0.conv1.weight\n",
      "layer2.0.bn1.weight\n",
      "layer2.0.bn1.bias\n",
      "layer2.0.conv2.weight\n",
      "layer2.0.bn2.weight\n",
      "layer2.0.bn2.bias\n",
      "layer2.1.conv1.weight\n",
      "layer2.1.bn1.weight\n",
      "layer2.1.bn1.bias\n",
      "layer2.1.conv2.weight\n",
      "layer2.1.bn2.weight\n",
      "layer2.1.bn2.bias\n",
      "layer2.2.conv1.weight\n",
      "layer2.2.bn1.weight\n",
      "layer2.2.bn1.bias\n",
      "layer2.2.conv2.weight\n",
      "layer2.2.bn2.weight\n",
      "layer2.2.bn2.bias\n",
      "layer3.0.conv1.weight\n",
      "layer3.0.bn1.weight\n",
      "layer3.0.bn1.bias\n",
      "layer3.0.conv2.weight\n",
      "layer3.0.bn2.weight\n",
      "layer3.0.bn2.bias\n",
      "layer3.1.conv1.weight\n",
      "layer3.1.bn1.weight\n",
      "layer3.1.bn1.bias\n",
      "layer3.1.conv2.weight\n",
      "layer3.1.bn2.weight\n",
      "layer3.1.bn2.bias\n",
      "layer3.2.conv1.weight\n",
      "layer3.2.bn1.weight\n",
      "layer3.2.bn1.bias\n",
      "layer3.2.conv2.weight\n",
      "layer3.2.bn2.weight\n",
      "layer3.2.bn2.bias\n",
      "linear.weight\n",
      "linear.bias\n"
     ]
    }
   ],
   "source": [
    "for i,j in model.named_parameters():\n",
    "    print(i)\n",
    "    if(i=='bn1.weight'):\n",
    "        print(j)"
   ]
  },
  {
   "cell_type": "code",
   "execution_count": 85,
   "metadata": {},
   "outputs": [
    {
     "name": "stdout",
     "output_type": "stream",
     "text": [
      "BatchNorm2d(16, eps=1e-05, momentum=0.1, affine=True, track_running_stats=True)\n",
      "torch.Size([1, 3, 32, 32])\n"
     ]
    }
   ],
   "source": [
    "model.eval()\n",
    "getIntermediateOutput(model,inputImage,'bn1')"
   ]
  },
  {
   "cell_type": "code",
   "execution_count": 79,
   "metadata": {},
   "outputs": [
    {
     "data": {
      "text/plain": [
       "torch.Size([1, 16, 32, 32])"
      ]
     },
     "execution_count": 79,
     "metadata": {},
     "output_type": "execute_result"
    }
   ],
   "source": [
    "output.shape"
   ]
  },
  {
   "cell_type": "code",
   "execution_count": 68,
   "metadata": {},
   "outputs": [
    {
     "data": {
      "text/plain": [
       "torch.Size([16])"
      ]
     },
     "execution_count": 68,
     "metadata": {},
     "output_type": "execute_result"
    }
   ],
   "source": [
    "model.bn1.weight.shape"
   ]
  },
  {
   "cell_type": "code",
   "execution_count": 83,
   "metadata": {},
   "outputs": [],
   "source": [
    "def manual_batch_norm_2d_eval(x, gamma, beta, running_mean, running_var, eps=1e-5):\n",
    "    x_normalized = (x - running_mean.view(1, -1, 1, 1)) / torch.sqrt(running_var.view(1, -1, 1, 1) + eps)\n",
    "    gamma = gamma.view(1, -1, 1, 1)\n",
    "    beta = beta.view(1, -1, 1, 1)\n",
    "    return gamma * x_normalized + beta\n",
    "\n",
    "# Example usage:\n",
    "\n",
    "\n",
    "y = manual_batch_norm_2d_eval(output, model.bn1.weight, model.bn1.bias, model.bn1.running_mean, model.bn1.running_var)"
   ]
  },
  {
   "cell_type": "code",
   "execution_count": 88,
   "metadata": {},
   "outputs": [
    {
     "data": {
      "text/plain": [
       "torch.Size([16])"
      ]
     },
     "execution_count": 88,
     "metadata": {},
     "output_type": "execute_result"
    }
   ],
   "source": []
  },
  {
   "cell_type": "code",
   "execution_count": 76,
   "metadata": {},
   "outputs": [
    {
     "data": {
      "text/plain": [
       "tensor([-0.0183, -0.0501, -0.4938, -0.2989, -0.1088, -0.0676, -0.0080,  0.7018,\n",
       "        -0.4636, -0.0198,  0.0608,  0.2817,  0.1115, -0.2711, -0.0022, -0.1840])"
      ]
     },
     "execution_count": 76,
     "metadata": {},
     "output_type": "execute_result"
    }
   ],
   "source": [
    "model.bn1.running_mean"
   ]
  },
  {
   "cell_type": "code",
   "execution_count": 84,
   "metadata": {},
   "outputs": [
    {
     "data": {
      "text/plain": [
       "tensor([[[[ 1.2023e+00,  4.3823e-01,  5.0610e-01,  ...,  2.9856e-01,\n",
       "            2.8097e-01, -4.3637e-01],\n",
       "          [ 1.6573e+00,  8.0705e-01,  7.7728e-01,  ...,  6.7906e-01,\n",
       "            5.8276e-01,  8.0518e-02],\n",
       "          [ 1.5698e+00,  7.6481e-01,  7.4787e-01,  ...,  7.7403e-01,\n",
       "            7.1093e-01,  4.0478e-03],\n",
       "          ...,\n",
       "          [ 5.8850e-01,  1.3045e+00,  1.0536e+00,  ...,  1.6770e+00,\n",
       "            1.1613e+00,  1.8400e+00],\n",
       "          [ 2.5993e-01,  1.3894e+00,  1.0311e+00,  ...,  9.4736e-01,\n",
       "            1.7401e+00,  1.3795e+00],\n",
       "          [-1.7325e-01,  7.5516e-01,  5.4285e-01,  ...,  1.1713e-01,\n",
       "            5.7548e-01,  6.3534e-01]],\n",
       "\n",
       "         [[ 9.7215e-01,  7.6035e-01,  7.0013e-01,  ...,  4.7454e-01,\n",
       "            4.5645e-01,  1.1900e+00],\n",
       "          [ 1.3433e+00,  1.1531e+00,  1.1158e+00,  ...,  7.8118e-01,\n",
       "            7.6411e-01,  1.2307e+00],\n",
       "          [ 1.3077e+00,  1.1013e+00,  1.0788e+00,  ...,  8.4547e-01,\n",
       "            7.3634e-01,  1.2159e+00],\n",
       "          ...,\n",
       "          [-3.0986e-01,  4.6831e-01,  7.4025e-01,  ...,  9.7645e-02,\n",
       "            1.2713e+00,  1.8449e+00],\n",
       "          [-1.1423e-01,  4.4159e-01,  7.8838e-01,  ...,  6.3124e-01,\n",
       "            5.1603e-01,  2.2712e+00],\n",
       "          [-3.6022e-02,  1.6487e-01,  4.1217e-01,  ...,  5.7434e-01,\n",
       "            1.4321e-01,  2.1105e+00]],\n",
       "\n",
       "         [[ 1.5595e+00,  1.6187e+00,  1.6460e+00,  ...,  1.5181e+00,\n",
       "            1.3767e+00,  1.2124e+00],\n",
       "          [ 1.4399e+00,  1.3845e+00,  1.4542e+00,  ...,  1.3101e+00,\n",
       "            1.1843e+00,  1.0894e+00],\n",
       "          [ 1.4816e+00,  1.4164e+00,  1.5048e+00,  ...,  1.2726e+00,\n",
       "            1.1705e+00,  1.0750e+00],\n",
       "          ...,\n",
       "          [-7.7206e-01, -6.0830e-01, -5.3758e-01,  ..., -6.1825e-01,\n",
       "           -3.6421e-01, -1.0536e-01],\n",
       "          [-7.3877e-01, -4.7159e-01, -4.0261e-01,  ..., -5.2723e-01,\n",
       "           -3.7196e-01, -1.6057e-01],\n",
       "          [-3.3694e-01, -1.7944e-01, -1.6688e-01,  ..., -3.0979e-01,\n",
       "           -3.3141e-01,  3.1379e-02]],\n",
       "\n",
       "         ...,\n",
       "\n",
       "         [[ 1.3483e+00,  1.7111e+00,  1.7862e+00,  ...,  1.6089e+00,\n",
       "            1.4701e+00,  1.3367e+00],\n",
       "          [ 7.9614e-01,  9.1989e-01,  1.0298e+00,  ...,  9.6487e-01,\n",
       "            9.2288e-01,  1.1035e+00],\n",
       "          [ 8.6431e-01,  1.0138e+00,  1.1297e+00,  ...,  9.0374e-01,\n",
       "            9.2009e-01,  1.1155e+00],\n",
       "          ...,\n",
       "          [ 4.1367e-01,  2.3840e-01,  2.6920e-01,  ...,  1.5049e-01,\n",
       "            1.1154e-01, -1.3925e-01],\n",
       "          [ 3.1928e-01,  3.0293e-01,  3.7130e-01,  ...,  1.1243e-01,\n",
       "            2.5992e-01, -2.2238e-01],\n",
       "          [ 9.7022e-01,  1.2229e+00,  1.2440e+00,  ...,  1.1767e+00,\n",
       "            1.2036e+00,  7.8287e-01]],\n",
       "\n",
       "         [[-2.0324e-03, -2.0234e-03, -2.0152e-03,  ..., -2.0603e-03,\n",
       "           -2.0671e-03, -2.0500e-03],\n",
       "          [-2.0911e-03, -2.0826e-03, -2.0760e-03,  ..., -2.1076e-03,\n",
       "           -2.1107e-03, -2.0826e-03],\n",
       "          [-2.0907e-03, -2.0850e-03, -2.0774e-03,  ..., -2.1054e-03,\n",
       "           -2.1073e-03, -2.0809e-03],\n",
       "          ...,\n",
       "          [-1.9631e-03, -2.0115e-03, -2.0132e-03,  ..., -2.0321e-03,\n",
       "           -2.0762e-03, -2.0096e-03],\n",
       "          [-1.9568e-03, -2.0098e-03, -2.0198e-03,  ..., -2.0260e-03,\n",
       "           -2.0711e-03, -2.0203e-03],\n",
       "          [-1.9403e-03, -1.9379e-03, -1.9548e-03,  ..., -1.9567e-03,\n",
       "           -1.9560e-03, -1.9957e-03]],\n",
       "\n",
       "         [[-5.6946e-02, -1.2464e-01, -3.6324e-02,  ..., -4.0094e-01,\n",
       "           -4.7617e-01, -4.1181e-01],\n",
       "          [ 2.5466e-04, -7.8822e-02, -3.1506e-02,  ..., -1.4048e-02,\n",
       "           -3.3111e-02, -7.0935e-02],\n",
       "          [-8.5712e-03, -5.3220e-02, -2.4113e-02,  ...,  6.9753e-02,\n",
       "            6.2236e-02, -1.2915e-02],\n",
       "          ...,\n",
       "          [ 4.5648e-01,  2.0644e-01,  7.1094e-02,  ...,  1.4775e-01,\n",
       "           -1.3291e-01, -1.9335e-01],\n",
       "          [ 2.5432e-01,  1.8455e-01,  8.4096e-02,  ..., -9.5015e-02,\n",
       "            1.6488e-02, -2.4167e-01],\n",
       "          [ 3.2271e-01,  4.3489e-01,  4.7338e-01,  ...,  4.3678e-01,\n",
       "            7.0996e-01,  3.6175e-01]]]], grad_fn=<AddBackward0>)"
      ]
     },
     "execution_count": 84,
     "metadata": {},
     "output_type": "execute_result"
    }
   ],
   "source": [
    "y"
   ]
  },
  {
   "cell_type": "code",
   "execution_count": 96,
   "metadata": {},
   "outputs": [
    {
     "data": {
      "text/plain": [
       "torch.Size([1, 16, 32, 32])"
      ]
     },
     "execution_count": 96,
     "metadata": {},
     "output_type": "execute_result"
    }
   ],
   "source": [
    "y.shape"
   ]
  },
  {
   "cell_type": "code",
   "execution_count": 117,
   "metadata": {},
   "outputs": [],
   "source": [
    "#ReLU\n",
    "\n",
    "def getReLUScalingFactors(input, layer):\n",
    "    abs_input = torch.abs(input)\n",
    "    max_values, _ = torch.max(abs_input.view(input.shape[1], -1), dim=1)\n",
    "    max_values_list = max_values.tolist()\n",
    "\n",
    "    with open('reluScaling_'+str(layer)+'.json', 'w') as f:\n",
    "        json.dump(max_values_list, f)"
   ]
  },
  {
   "cell_type": "code",
   "execution_count": 119,
   "metadata": {},
   "outputs": [
    {
     "data": {
      "text/plain": [
       "tensor([[[[ 1.2023e+00,  4.3823e-01,  5.0610e-01,  ...,  2.9856e-01,\n",
       "            2.8097e-01, -4.3637e-01],\n",
       "          [ 1.6573e+00,  8.0705e-01,  7.7728e-01,  ...,  6.7906e-01,\n",
       "            5.8276e-01,  8.0518e-02],\n",
       "          [ 1.5698e+00,  7.6481e-01,  7.4787e-01,  ...,  7.7403e-01,\n",
       "            7.1093e-01,  4.0478e-03],\n",
       "          ...,\n",
       "          [ 5.8850e-01,  1.3045e+00,  1.0536e+00,  ...,  1.6770e+00,\n",
       "            1.1613e+00,  1.8400e+00],\n",
       "          [ 2.5993e-01,  1.3894e+00,  1.0311e+00,  ...,  9.4736e-01,\n",
       "            1.7401e+00,  1.3795e+00],\n",
       "          [-1.7325e-01,  7.5516e-01,  5.4285e-01,  ...,  1.1713e-01,\n",
       "            5.7548e-01,  6.3534e-01]],\n",
       "\n",
       "         [[ 9.7215e-01,  7.6035e-01,  7.0013e-01,  ...,  4.7454e-01,\n",
       "            4.5645e-01,  1.1900e+00],\n",
       "          [ 1.3433e+00,  1.1531e+00,  1.1158e+00,  ...,  7.8118e-01,\n",
       "            7.6411e-01,  1.2307e+00],\n",
       "          [ 1.3077e+00,  1.1013e+00,  1.0788e+00,  ...,  8.4547e-01,\n",
       "            7.3634e-01,  1.2159e+00],\n",
       "          ...,\n",
       "          [-3.0986e-01,  4.6831e-01,  7.4025e-01,  ...,  9.7645e-02,\n",
       "            1.2713e+00,  1.8449e+00],\n",
       "          [-1.1423e-01,  4.4159e-01,  7.8838e-01,  ...,  6.3124e-01,\n",
       "            5.1603e-01,  2.2712e+00],\n",
       "          [-3.6022e-02,  1.6487e-01,  4.1217e-01,  ...,  5.7434e-01,\n",
       "            1.4321e-01,  2.1105e+00]],\n",
       "\n",
       "         [[ 1.5595e+00,  1.6187e+00,  1.6460e+00,  ...,  1.5181e+00,\n",
       "            1.3767e+00,  1.2124e+00],\n",
       "          [ 1.4399e+00,  1.3845e+00,  1.4542e+00,  ...,  1.3101e+00,\n",
       "            1.1843e+00,  1.0894e+00],\n",
       "          [ 1.4816e+00,  1.4164e+00,  1.5048e+00,  ...,  1.2726e+00,\n",
       "            1.1705e+00,  1.0750e+00],\n",
       "          ...,\n",
       "          [-7.7206e-01, -6.0830e-01, -5.3758e-01,  ..., -6.1825e-01,\n",
       "           -3.6421e-01, -1.0536e-01],\n",
       "          [-7.3877e-01, -4.7159e-01, -4.0261e-01,  ..., -5.2723e-01,\n",
       "           -3.7196e-01, -1.6057e-01],\n",
       "          [-3.3694e-01, -1.7944e-01, -1.6688e-01,  ..., -3.0979e-01,\n",
       "           -3.3141e-01,  3.1379e-02]],\n",
       "\n",
       "         ...,\n",
       "\n",
       "         [[ 1.3483e+00,  1.7111e+00,  1.7862e+00,  ...,  1.6089e+00,\n",
       "            1.4701e+00,  1.3367e+00],\n",
       "          [ 7.9614e-01,  9.1989e-01,  1.0298e+00,  ...,  9.6487e-01,\n",
       "            9.2288e-01,  1.1035e+00],\n",
       "          [ 8.6431e-01,  1.0138e+00,  1.1297e+00,  ...,  9.0374e-01,\n",
       "            9.2009e-01,  1.1155e+00],\n",
       "          ...,\n",
       "          [ 4.1367e-01,  2.3840e-01,  2.6920e-01,  ...,  1.5049e-01,\n",
       "            1.1154e-01, -1.3925e-01],\n",
       "          [ 3.1928e-01,  3.0293e-01,  3.7130e-01,  ...,  1.1243e-01,\n",
       "            2.5992e-01, -2.2238e-01],\n",
       "          [ 9.7022e-01,  1.2229e+00,  1.2440e+00,  ...,  1.1767e+00,\n",
       "            1.2036e+00,  7.8287e-01]],\n",
       "\n",
       "         [[-2.0324e-03, -2.0234e-03, -2.0152e-03,  ..., -2.0603e-03,\n",
       "           -2.0671e-03, -2.0500e-03],\n",
       "          [-2.0911e-03, -2.0826e-03, -2.0760e-03,  ..., -2.1076e-03,\n",
       "           -2.1107e-03, -2.0826e-03],\n",
       "          [-2.0907e-03, -2.0850e-03, -2.0774e-03,  ..., -2.1054e-03,\n",
       "           -2.1073e-03, -2.0809e-03],\n",
       "          ...,\n",
       "          [-1.9631e-03, -2.0115e-03, -2.0132e-03,  ..., -2.0321e-03,\n",
       "           -2.0762e-03, -2.0096e-03],\n",
       "          [-1.9568e-03, -2.0098e-03, -2.0198e-03,  ..., -2.0260e-03,\n",
       "           -2.0711e-03, -2.0203e-03],\n",
       "          [-1.9403e-03, -1.9379e-03, -1.9548e-03,  ..., -1.9567e-03,\n",
       "           -1.9560e-03, -1.9957e-03]],\n",
       "\n",
       "         [[-5.6946e-02, -1.2464e-01, -3.6324e-02,  ..., -4.0094e-01,\n",
       "           -4.7617e-01, -4.1181e-01],\n",
       "          [ 2.5466e-04, -7.8822e-02, -3.1506e-02,  ..., -1.4048e-02,\n",
       "           -3.3111e-02, -7.0935e-02],\n",
       "          [-8.5712e-03, -5.3220e-02, -2.4113e-02,  ...,  6.9753e-02,\n",
       "            6.2236e-02, -1.2915e-02],\n",
       "          ...,\n",
       "          [ 4.5648e-01,  2.0644e-01,  7.1094e-02,  ...,  1.4775e-01,\n",
       "           -1.3291e-01, -1.9335e-01],\n",
       "          [ 2.5432e-01,  1.8455e-01,  8.4096e-02,  ..., -9.5015e-02,\n",
       "            1.6488e-02, -2.4167e-01],\n",
       "          [ 3.2271e-01,  4.3489e-01,  4.7338e-01,  ...,  4.3678e-01,\n",
       "            7.0996e-01,  3.6175e-01]]]], grad_fn=<AddBackward0>)"
      ]
     },
     "execution_count": 119,
     "metadata": {},
     "output_type": "execute_result"
    }
   ],
   "source": [
    "y"
   ]
  },
  {
   "cell_type": "code",
   "execution_count": 118,
   "metadata": {},
   "outputs": [],
   "source": [
    "getReLUScalingFactors(y,0)"
   ]
  },
  {
   "cell_type": "code",
   "execution_count": 115,
   "metadata": {},
   "outputs": [],
   "source": [
    "def getReLUOutput(input,layer):\n",
    "    x_relu = torch.where(input > 0, input, torch.zeros_like(input))\n",
    "    print(x_relu.shape)\n",
    "    x_relu = x_relu[0].tolist()\n",
    "\n",
    "    with open('reluOut'+str(layer)+'.json', 'w') as f:\n",
    "        json.dump(x_relu, f)"
   ]
  },
  {
   "cell_type": "code",
   "execution_count": 116,
   "metadata": {},
   "outputs": [
    {
     "name": "stdout",
     "output_type": "stream",
     "text": [
      "torch.Size([1, 16, 32, 32])\n"
     ]
    }
   ],
   "source": [
    "getReLUOutput(y,0)"
   ]
  }
 ],
 "metadata": {
  "kernelspec": {
   "display_name": "adaface",
   "language": "python",
   "name": "python3"
  },
  "language_info": {
   "codemirror_mode": {
    "name": "ipython",
    "version": 3
   },
   "file_extension": ".py",
   "mimetype": "text/x-python",
   "name": "python",
   "nbconvert_exporter": "python",
   "pygments_lexer": "ipython3",
   "version": "3.7.12"
  }
 },
 "nbformat": 4,
 "nbformat_minor": 2
}
