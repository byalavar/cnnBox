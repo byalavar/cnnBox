{
 "cells": [
  {
   "cell_type": "code",
   "execution_count": 1,
   "metadata": {},
   "outputs": [],
   "source": [
    "import torch\n",
    "import torch.nn as nn\n",
    "import numpy as np\n",
    "import numpy as np\n",
    "import copy\n",
    "import matplotlib.pyplot as plt\n",
    "from torch import optim\n",
    "\n",
    "\n",
    "class boxFilters(nn.Module):\n",
    "    def __init__(self,a,b,c,d):\n",
    "        super(boxFilters, self).__init__()\n",
    "        self.alpha = nn.Parameter(torch.tensor(1.0),requires_grad=True)\n",
    "        #self.a = nn.Parameter(torch.tensor(a))\n",
    "        #self.b = nn.Parameter(torch.tensor(b))\n",
    "        #self.c = nn.Parameter(torch.tensor(c))\n",
    "        #self.d = nn.Parameter(torch.tensor(d))\n",
    "        self.a = int(a)\n",
    "        self.b = int(b)\n",
    "        self.c = int(c)\n",
    "        self.d = int(d)\n",
    "        # self.a.requires_grad = False\n",
    "        # self.b.requires_grad = False\n",
    "        # self.c.requires_grad = False\n",
    "        # self.d.requires_grad = False\n",
    "\n",
    "\n",
    "    \n",
    "    def setAlpha(self,alpha):\n",
    "        self.alpha = nn.Parameter(torch.tensor(alpha),requires_grad=True)\n",
    "    \n",
    "    def setABCD(self,a,b,c,d):\n",
    "        self.a = a\n",
    "        self.b = b\n",
    "        self.c = c\n",
    "        self.d = d\n",
    "    \n",
    "    def printParams(self):\n",
    "        print(\"A:\",self.a,\"B:\",self.b,\"C:\",self.c,\"D:\",self.d, \"Alpha:\", self.alpha)\n"
   ]
  },
  {
   "cell_type": "code",
   "execution_count": 22,
   "metadata": {},
   "outputs": [],
   "source": [
    "    # def forward(self, integral_image):\n",
    "        \n",
    "    #     H, W = integral_image.shape[-2:]\n",
    "\n",
    "    #     H = H - self.ogFilterSize + 1\n",
    "    #     W = W - self.ogFilterSize + 1\n",
    "    #     output = torch.zeros((integral_image.shape[0],integral_image.shape[1],H,W)).to(self.device)\n",
    "    #     for box_filter in self.box_filters:\n",
    "    #         a, b, c, d = int(box_filter.a), int(box_filter.b), int(box_filter.c), int(box_filter.d)\n",
    "    #         if b >= a and d >= c:  # Check if the box filter is valid\n",
    "    #             # Compute the sum within the box filter for each position in the image\n",
    "\n",
    "    #           if(self.reg):\n",
    "    #             print(\"Regular Conv\")  \n",
    "    #             for i in range(H):\n",
    "    #                 for j in range(W):\n",
    "    #                     # Define the boundaries\n",
    "                        \n",
    "    #                     tlCol = j + a -1\n",
    "    #                     tlRow = i + c -1\n",
    "\n",
    "    #                     trCol = j + b\n",
    "    #                     trRow = i + c -1\n",
    "\n",
    "\n",
    "    #                     blCol = j + a -1\n",
    "    #                     blRow = i + d\n",
    "\n",
    "    #                     brCol = j + b\n",
    "    #                     brRow = i + d\n",
    "\n",
    "    #                     #print(\"tlCol:\",tlCol,\"tlRow:\",tlRow,\"trCol:\",trCol,\"trRow:\",trRow,\"blCol:\",blCol,\"blRow:\",blRow,\"brCol:\",brCol,\"brRow:\",brRow)\n",
    "    #                     # Get the sum within the boundaries and add it to the output\n",
    "\n",
    "    #                     if(tlRow>=0 and tlCol>=0):\n",
    "    #                         tlVal = integral_image[..., tlRow, tlCol]\n",
    "    #                     else:\n",
    "    #                         tlVal = 0\n",
    "                        \n",
    "    #                     if(trRow>=0 and trCol>=0):\n",
    "    #                         trVal = integral_image[..., trRow, trCol]\n",
    "    #                     else:\n",
    "    #                         trVal = 0\n",
    "                        \n",
    "    #                     if(blRow>=0 and blCol>=0):\n",
    "    #                         blVal = integral_image[..., blRow, blCol]\n",
    "    #                     else:\n",
    "    #                         blVal = 0\n",
    "                        \n",
    "    #                     if(brRow>=0 and brCol>=0):\n",
    "    #                         brVal = integral_image[..., brRow, brCol]\n",
    "    #                     else:\n",
    "    #                         brVal = 0\n",
    "\n",
    "                            \n",
    "                        \n",
    "\n",
    "    #                     #print(integral_image[..., tlRow, tlCol])\n",
    "    #                     output[..., i, j] += brVal  + tlVal - trVal - blVal\n",
    "    #           else:\n",
    "    #                 print(\"SIMD Conv\")\n",
    "\n",
    "    #                 # Define the boundaries\n",
    "    #                 row_indices = torch.arange(H).unsqueeze(-1).to(self.device)\n",
    "    #                 col_indices = torch.arange(W).to(self.device)\n",
    "    #                 print(row_indices.shape,col_indices.shape)\n",
    "    #                 tlCol = col_indices + a - 1\n",
    "    #                 tlRow = row_indices + c - 1\n",
    "\n",
    "    #                 trCol = col_indices + b\n",
    "    #                 trRow = tlRow  # trRow and tlRow are the same\n",
    "\n",
    "    #                 blCol = tlCol  # blCol and tlCol are the same\n",
    "    #                 blRow = row_indices + d\n",
    "\n",
    "    #                 brCol = trCol  # brCol and trCol are the same\n",
    "    #                 brRow = blRow  # brRow and blRow are the same\n",
    "\n",
    "    #                 # Get the values at the boundaries\n",
    "                    \n",
    "    #                 tlVal = torch.where((tlRow < 0) | (tlCol < 0), 0, integral_image[..., tlRow, tlCol])\n",
    "    #                 trVal = torch.where((trRow < 0) | (trCol < 0), 0, integral_image[..., trRow, trCol])\n",
    "    #                 blVal = torch.where((blRow < 0) | (blCol < 0), 0, integral_image[..., blRow, blCol])\n",
    "    #                 brVal = torch.where((brRow < 0) | (brCol < 0), 0, integral_image[..., brRow, brCol])\n",
    "\n",
    "    #                 # Compute the output\n",
    "    #                 output.add_(brVal + tlVal - trVal - blVal)  # in-place addition\n",
    "\n",
    "                        \n",
    "            \n",
    "    #             #print(f\"Invalid box filter: a={a}, b={b}, c={c}, d={d}\")\n",
    "    #     return output\n",
    "\n",
    "\n",
    "\n",
    "    # def forward(self, integral_image):\n",
    "        \n",
    "    #     H, W = integral_image.shape[-2:]\n",
    "\n",
    "    #     H = H - self.ogFilterSize + 1\n",
    "    #     W = W - self.ogFilterSize + 1\n",
    "    #     #output = torch.zeros((integral_image.shape[0],integral_image.shape[1],H,W)).to(self.device)\n",
    "    #     # Define the boundaries\n",
    "    #     row_indices = torch.arange(H).unsqueeze(-1).unsqueeze(-1).to(self.device)  # shape: (H, 1, 1)\n",
    "    #     col_indices = torch.arange(W).unsqueeze(-1).unsqueeze(0).to(self.device)  # shape: (1, W, 1)\n",
    "    #    # print(row_indices.shape,col_indices.shape)\n",
    "    #     # a, b, c, d should be 1D tensors of shape (num_filters,)\n",
    "    #     # reshape them to (1, 1, num_filters)\n",
    "\n",
    "    #     #box_filters_tensor = torch.tensor([[int(box_filter.a), int(box_filter.b), int(box_filter.c), int(box_filter.d)] for box_filter in self.box_filters]).to(self.device)\n",
    "    #     box_filters_tensor = torch.tensor([[box_filter.a, box_filter.b, box_filter.c, box_filter.d] for box_filter in self.box_filters]).to(self.device)\n",
    "        \n",
    "        \n",
    "\n",
    "    #     a, b, c, d = box_filters_tensor[:, 0], box_filters_tensor[:, 1], box_filters_tensor[:, 2], box_filters_tensor[:, 3]\n",
    "        \n",
    "    #     a, b, c, d = a.unsqueeze(0).unsqueeze(0), b.unsqueeze(0).unsqueeze(0), c.unsqueeze(0).unsqueeze(0), d.unsqueeze(0).unsqueeze(0)\n",
    "        \n",
    "    #     #box_filters_alpha = torch.tensor([[box_filter.alpha] for box_filter in self.box_filters]).to(self.device)\n",
    "    #     box_filters_alpha = torch.stack([box_filter.alpha for box_filter in self.box_filters]).to(self.device)\n",
    "    #     #print(\"Alpha Check:\",box_filters_alpha,box_filters_alpha1)\n",
    "    #     #print(\"dtype\",box_filters_alpha.dtype)\n",
    "    #     #print(\"CA Shape:\",col_indices.shape,a.shape)\n",
    "    #     tlCol = col_indices + a - 1  # broadcasting happens here\n",
    "    #     tlRow = row_indices + c - 1\n",
    "\n",
    "    #     trCol = col_indices + b\n",
    "    #     trRow = tlRow  # trRow and tlRow are the same\n",
    "\n",
    "    #     blCol = tlCol  # blCol and tlCol are the same\n",
    "    #     blRow = row_indices + d\n",
    "\n",
    "    #     brCol = trCol  # brCol and trCol are the same\n",
    "    #     brRow = blRow  # brRow and blRow are the same\n",
    "    #     #print(tlCol.shape,tlRow.shape,trCol.shape,trRow.shape,blCol.shape,blRow.shape,brCol.shape,brRow.shape)\n",
    "    #     # Get the values at the boundaries\n",
    "    #     tlVal = torch.where((tlRow < 0) | (tlCol < 0), 0, integral_image[..., tlRow, tlCol])\n",
    "    #     trVal = torch.where((trRow < 0) | (trCol < 0), 0, integral_image[..., trRow, trCol])\n",
    "    #     blVal = torch.where((blRow < 0) | (blCol < 0), 0, integral_image[..., blRow, blCol])\n",
    "    #     brVal = torch.where((brRow < 0) | (brCol < 0), 0, integral_image[..., brRow, brCol])\n",
    "    #     #print(brVal.shape,tlVal.shape,trVal.shape,blVal.shape)\n",
    "    #     # Compute the output\n",
    "    #     output = brVal + tlVal - trVal - blVal  # in-place addition\n",
    "    #     #output = output*self.box_filters[0].alpha\n",
    "    #     #print(output.shape,box_filters_alpha.shape)\n",
    "    #     #print(\"1:\",output)\n",
    "    #     output = output.permute(0, 1, 4, 2, 3)\n",
    "    #     #print(\"out:\",output.shape[2])\n",
    "    #     #box_filters_alpha = box_filters_alpha.view(1, 1, output.shape[2], 1, 1)\n",
    "    #     box_filters_alpha = box_filters_alpha.view(1, 1, -1, 1, 1)\n",
    "    #     output = output * box_filters_alpha\n",
    "    #     output = output.sum(dim=2)\n",
    "    #     #print(\"2:\",output)\n",
    "    #     return output\n",
    "        "
   ]
  },
  {
   "cell_type": "code",
   "execution_count": 62,
   "metadata": {},
   "outputs": [],
   "source": [
    "class BoxFilterConvolution(nn.Module):\n",
    "    def __init__(self, box_filters, ogFilterSize,reg,device):\n",
    "        super(BoxFilterConvolution, self).__init__()\n",
    "        self.box_filters = box_filters\n",
    "        self.ogFilterSize = ogFilterSize\n",
    "        self.reg = reg\n",
    "        self.device = device \n",
    " \n",
    "    def forward(self, integral_image):\n",
    "        \n",
    "        H, W = integral_image.shape[-2:]\n",
    "\n",
    "        H = H - self.ogFilterSize + 1\n",
    "        W = W - self.ogFilterSize + 1\n",
    "        #output = torch.zeros((integral_image.shape[0],integral_image.shape[1],H,W)).to(self.device)\n",
    "        # Define the boundaries\n",
    "        row_indices = torch.arange(H).unsqueeze(-1).unsqueeze(-1).to(self.device)  # shape: (H, 1, 1)\n",
    "        col_indices = torch.arange(W).unsqueeze(-1).unsqueeze(0).to(self.device)  # shape: (1, W, 1)\n",
    "       # print(row_indices.shape,col_indices.shape)\n",
    "        # a, b, c, d should be 1D tensors of shape (num_filters,)\n",
    "        # reshape them to (1, 1, num_filters)\n",
    "\n",
    "        #box_filters_tensor = torch.tensor([[int(box_filter.a), int(box_filter.b), int(box_filter.c), int(box_filter.d)] for box_filter in self.box_filters]).to(self.device)\n",
    "        box_filters_tensor = torch.tensor([[box_filter.a, box_filter.b, box_filter.c, box_filter.d] for box_filter in self.box_filters]).to(self.device)\n",
    "        \n",
    "        \n",
    "\n",
    "        a, b, c, d = box_filters_tensor[:, 0], box_filters_tensor[:, 1], box_filters_tensor[:, 2], box_filters_tensor[:, 3]\n",
    "        \n",
    "        a, b, c, d = a.unsqueeze(0).unsqueeze(0), b.unsqueeze(0).unsqueeze(0), c.unsqueeze(0).unsqueeze(0), d.unsqueeze(0).unsqueeze(0)\n",
    "        \n",
    "        #box_filters_alpha = torch.tensor([[box_filter.alpha] for box_filter in self.box_filters]).to(self.device)\n",
    "        box_filters_alpha = torch.stack([box_filter.alpha for box_filter in self.box_filters]).to(self.device)\n",
    "        #print(\"Alpha Check:\",box_filters_alpha,box_filters_alpha1)\n",
    "        #print(\"dtype\",box_filters_alpha.dtype)\n",
    "        #print(\"CA Shape:\",col_indices.shape,a.shape)\n",
    "        tlCol = col_indices + a - 1  # broadcasting happens here\n",
    "        tlRow = row_indices + c - 1\n",
    "\n",
    "        trCol = col_indices + b\n",
    "        trRow = tlRow  # trRow and tlRow are the same\n",
    "\n",
    "        blCol = tlCol  # blCol and tlCol are the same\n",
    "        blRow = row_indices + d\n",
    "\n",
    "        brCol = trCol  # brCol and trCol are the same\n",
    "        brRow = blRow  # brRow and blRow are the same\n",
    "        #print(tlCol.shape,tlRow.shape,trCol.shape,trRow.shape,blCol.shape,blRow.shape,brCol.shape,brRow.shape)\n",
    "        # Get the values at the boundaries\n",
    "        tlVal = torch.where((tlRow < 0) | (tlCol < 0), 0, integral_image[..., tlRow, tlCol])\n",
    "        trVal = torch.where((trRow < 0) | (trCol < 0), 0, integral_image[..., trRow, trCol])\n",
    "        blVal = torch.where((blRow < 0) | (blCol < 0), 0, integral_image[..., blRow, blCol])\n",
    "        brVal = torch.where((brRow < 0) | (brCol < 0), 0, integral_image[..., brRow, brCol])\n",
    "        #print(brVal.shape,tlVal.shape,trVal.shape,blVal.shape)\n",
    "        # Compute the output\n",
    "        output = brVal + tlVal - trVal - blVal  # in-place addition\n",
    "        #output = output*self.box_filters[0].alpha\n",
    "        #print(output.shape,box_filters_alpha.shape)\n",
    "        #print(\"1:\",output)\n",
    "        output = output.permute(0, 1, 4, 2, 3)\n",
    "        #print(\"out:\",output.shape[2])\n",
    "        #box_filters_alpha = box_filters_alpha.view(1, 1, output.shape[2], 1, 1)\n",
    "        box_filters_alpha = box_filters_alpha.view(1, 1, -1, 1, 1)\n",
    "        output = output * box_filters_alpha\n",
    "        output = output.sum(dim=2)\n",
    "        #print(\"2:\",output)\n",
    "        return output\n",
    "\n",
    "\n",
    "# CNN Network with box filters\n",
    "class cnnBox(nn.Module):\n",
    "\n",
    "    def __init__(self, nBoxes, nChannels, reg,device,box_filters,ogFilterSize):\n",
    "        super(cnnBox, self).__init__()\n",
    "        self.boxes = nBoxes\n",
    "        self.nChannels = nChannels\n",
    "        \n",
    "        #self.boxes = nn.ModuleList([boxFilters(0,1,0,1) for _ in range(self.boxes)])\n",
    "        #n = 5  # replace with the desired number of module lists\n",
    "        self.boxes = nn.ModuleList([boxFilters(0,1,0,1) for _ in range(self.boxes)])\n",
    "        for i in range(0,nBoxes):\n",
    "\n",
    "            self.boxes[i].setABCD(box_filters[i][0],box_filters[i][1],box_filters[i][2],box_filters[i][3])\n",
    "        \n",
    "        self.conv = BoxFilterConvolution(self.boxes,ogFilterSize,reg,device)\n",
    "        #self.fc = nn.Linear(576,128)\n",
    "         \n",
    "\n",
    "    def forward(self,x):\n",
    "        #print(x.shape)\n",
    "        x0 = x[:,0,:,:].cumsum(dim=-2).cumsum(dim=-1)\n",
    "        #print(x0.shape)\n",
    "        x0 = x0.unsqueeze(1)\n",
    "        x0 = self.conv(x0)\n",
    "\n",
    "        x1 = x[:,1,:,:].cumsum(dim=-2).cumsum(dim=-1)\n",
    "        x1 = x1.unsqueeze(1)\n",
    "        x1 = self.conv(x1)\n",
    "\n",
    "        \n",
    "        x2 = x[:,2,:,:].cumsum(dim=-2).cumsum(dim=-1)\n",
    "        x2 = x2.unsqueeze(1)\n",
    "        x2 = self.conv(x2)\n",
    "        # #print(x0.shape,x1.shape,x2.shape)\n",
    "        x = torch.stack([x0,x1,x2],dim=1)\n",
    "        x = x.sum(dim=1)\n",
    "        #print(x.shape)\n",
    "        #x = x.to(torch.float)\n",
    "        #x = nn.Flatten()(x)\n",
    "        #x = self.fc(x)\n",
    "        return x\n",
    "        "
   ]
  },
  {
   "cell_type": "code",
   "execution_count": 24,
   "metadata": {},
   "outputs": [],
   "source": [
    "# boxFiltersList = [[0,1,0,1],[0,1,0,1],[0,2,2,2]]\n",
    "# cBox = cnnBox(3,1,False,device,boxFiltersList,3)\n",
    "# cBox.boxes[1].setAlpha(2.0)\n",
    "\n",
    "# optimizer = torch.optim.Adam(cBox.parameters(),lr=0.001)\n",
    "\n",
    "\n",
    "# cBox = cBox.to(device)\n",
    "\n",
    "\n",
    "# a = a.to(device)\n",
    "\n",
    "# x=cBox(a)"
   ]
  },
  {
   "cell_type": "code",
   "execution_count": 25,
   "metadata": {},
   "outputs": [],
   "source": [
    "# class BoxFilterConvolution(nn.Module):\n",
    "#     def __init__(self, box_filters, ogFilterShape,reg,device):\n",
    "#         super(BoxFilterConvolution, self).__init__()\n",
    "#         self.box_filters = box_filters\n",
    "#         self.ogFilterShape = ogFilterShape\n",
    "#         self.reg = reg\n",
    "#         self.device = device\n",
    "\n",
    "\n",
    "\n",
    "#     def forward(self, integral_image):\n",
    "        \n",
    "#         H, W = integral_image.shape[-2:]\n",
    "\n",
    "#         H = H - self.ogFilterShape[0] + 1\n",
    "#         W = W - self.ogFilterShape[1] + 1\n",
    "#         C = self.ogFilterShape[2]\n",
    "#         #print(C)\n",
    "#         #output = torch.zeros((integral_image.shape[0],integral_image.shape[1],H,W)).to(self.device)\n",
    "#         # Define the boundaries\n",
    "#         #row_indices = torch.arange(H).unsqueeze(-1).unsqueeze(-1).to(self.device)  # shape: (H, 1, 1)\n",
    "#         #col_indices = torch.arange(W).unsqueeze(-1).unsqueeze(0).to(self.device)  # shape: (1, W, 1)\n",
    "#         row_indices = torch.arange(H).unsqueeze(-1).unsqueeze(-1).unsqueeze(0).expand(C, H, 1, 1).to(self.device)  # shape: (C, H, 1, 1)\n",
    "#         col_indices = torch.arange(W).unsqueeze(-1).unsqueeze(0).unsqueeze(0).expand(C, 1, W, 1).to(self.device)  # shape: (C, 1, W, 1)\n",
    "#         #print(row_indices)\n",
    "#        # print(row_indices.shape,col_indices.shape)\n",
    "#         # a, b, c, d should be 1D tensors of shape (num_filters,)\n",
    "#         # reshape them to (1, 1, num_filters)\n",
    "\n",
    "#         #box_filters_tensor = torch.tensor([[int(box_filter.a), int(box_filter.b), int(box_filter.c), int(box_filter.d)] for box_filter in self.box_filters]).to(self.device)\n",
    "#         #box_filters_tensor = torch.tensor([[box_filter.a, box_filter.b, box_filter.c, box_filter.d] for box_filter in self.box_filters]).to(self.device)\n",
    "        \n",
    "#         box_filters_tensor = torch.tensor([[[box_filter.a, box_filter.b, box_filter.c, box_filter.d] for box_filter in sublist] for sublist in self.box_filters]).to(self.device)\n",
    "#         #print(box_filters_tensor.shape,box_filters_tensor,box_filters_tensor[:,:,0])\n",
    "#         a, b, c, d = box_filters_tensor[:,:, 0], box_filters_tensor[:,:, 1], box_filters_tensor[:,:, 2], box_filters_tensor[:,:, 3]\n",
    "        \n",
    "       \n",
    "#         a, b, c, d = a.unsqueeze(1).unsqueeze(1), b.unsqueeze(1).unsqueeze(1), c.unsqueeze(1).unsqueeze(1), d.unsqueeze(1).unsqueeze(1)\n",
    "#         #print(row_indices.shape,a.shape)\n",
    "#         #return\n",
    "#         #print(a,a.shape)\n",
    "#         #return\n",
    "#         #box_filters_alpha = torch.tensor([[box_filter.alpha] for box_filter in self.box_filters]).to(self.device)\n",
    "#         #box_filters_alpha = torch.stack([box_filter.alpha for box_filter in self.box_filters]).to(self.device)\n",
    "#         box_filters_alpha = torch.stack([torch.stack([box_filter.alpha for box_filter in sublist]) for sublist in self.box_filters]).to(self.device)\n",
    "#         #print(\"Alpha Check:\",box_filters_alpha,box_filters_alpha.shape)\n",
    "#         #print(col_indices.shape,a.shape)\n",
    "#         #return\n",
    "#         #print(\"dtype\",box_filters_alpha.dtype)\n",
    "#         #print(\"CA Shape:\",col_indices.shape,a.shape)\n",
    "#         tlCol = col_indices + a - 1  # broadcasting happens here\n",
    "#         tlRow = row_indices + c - 1\n",
    "\n",
    "#         trCol = col_indices + b\n",
    "#         trRow = tlRow  # trRow and tlRow are the same\n",
    "\n",
    "#         blCol = tlCol  # blCol and tlCol are the same\n",
    "#         blRow = row_indices + d\n",
    "\n",
    "#         brCol = trCol  # brCol and trCol are the same\n",
    "#         brRow = blRow  # brRow and blRow are the same\n",
    "#         #print(tlCol.shape,tlRow.shape,trCol.shape,trRow.shape,blCol.shape,blRow.shape,brCol.shape,brRow.shape)\n",
    "#         # Get the values at the boundaries\n",
    "#         tlVal = torch.where((tlRow < 0) | (tlCol < 0), 0, integral_image[..., tlRow, tlCol])\n",
    "#         trVal = torch.where((trRow < 0) | (trCol < 0), 0, integral_image[..., trRow, trCol])\n",
    "#         blVal = torch.where((blRow < 0) | (blCol < 0), 0, integral_image[..., blRow, blCol])\n",
    "#         brVal = torch.where((brRow < 0) | (brCol < 0), 0, integral_image[..., brRow, brCol])\n",
    "#         #print(brVal.shape,tlVal.shape,trVal.shape,blVal.shape)\n",
    "#         # Compute the output\n",
    "#         output = brVal + tlVal - trVal - blVal  # in-place addition\n",
    "#         #output = output*self.box_filters[0].alpha\n",
    "#         #print(output.shape,box_filters_alpha.shape)\n",
    "#         #print(\"1:\",output)\n",
    "        \n",
    "#         # while len(output.shape) > 5:\n",
    "#         #     print(output.shape)\n",
    "#         #     output = output.squeeze(0)\n",
    "#         #print(\"output:\",output.shape)\n",
    "#         output = output.squeeze(1)\n",
    "#         output = output.permute(0, 1, 4, 2, 3)\n",
    "#         #print(output)\n",
    "#         #print(\"out:\",output.shape[2])\n",
    "#         #box_filters_alpha = box_filters_alpha.view(1, 1, output.shape[2], 1, 1)\n",
    "#         #print(box_filters_alpha.shape)\n",
    "#         box_filters_alpha = box_filters_alpha.view(1, box_filters_alpha.shape[0], box_filters_alpha.shape[1], 1, 1)\n",
    "#         output = output * box_filters_alpha\n",
    "#         output = output.sum(dim=2)\n",
    "#         #print(output)\n",
    "#         #print(\"2:\",output)\n",
    "#         return output\n",
    "        \n",
    "\n",
    "\n",
    "\n",
    "# # CNN Network with box filters\n",
    "# class cnnBox(nn.Module):\n",
    "\n",
    "#     def __init__(self, nBoxes, reg,device,box_filters,ogFilterSize):\n",
    "#         super(cnnBox, self).__init__()\n",
    "#         self.oxes = nBoxes\n",
    "#         self.nChannels = ogFilterSize[2]\n",
    "        \n",
    "#         #self.boxes = nn.ModuleList([boxFilters(0,1,0,1) for _ in range(self.boxes)])\n",
    "#         #n = 5  # replace with the desired number of module lists\n",
    "#         self.boxes = [nn.ModuleList([boxFilters(0,1,0,1) for _ in range(self.boxes)]) for _ in range(self.nChannels)]\n",
    "#         for i in range(0,self.nChannels):\n",
    "#          for j in range(0,nBoxes):\n",
    "#             self.boxes[i][j].setABCD(box_filters[i][j][0],box_filters[i][j][1],box_filters[i][j][2],box_filters[i][j][3])\n",
    "        \n",
    "#         self.conv = BoxFilterConvolution(self.boxes,ogFilterSize,reg,device)\n",
    "#         for i,j in self.conv.named_parameters():\n",
    "#             print(i,j)\n",
    "#         self.fc = nn.Linear(1728,128)\n",
    "            \n",
    "\n",
    "#     # def forward(self,x):\n",
    "#     #     x = x.cumsum(dim=-2).cumsum(dim=-1)\n",
    "#     #     x = self.conv(x)\n",
    "#     #     x = x.to(torch.float)\n",
    "#     #     x = nn.Flatten()(x)\n",
    "#     #     x = self.fc(x)\n",
    "#     #     return x\n",
    "    \n",
    "#     def forward(self, x):\n",
    "#         x = x.cumsum(dim=-2).cumsum(dim=-1)\n",
    "#         return self.conv(x)"
   ]
  },
  {
   "cell_type": "code",
   "execution_count": 63,
   "metadata": {},
   "outputs": [],
   "source": [
    "device = \"cuda:0\""
   ]
  },
  {
   "cell_type": "code",
   "execution_count": 27,
   "metadata": {},
   "outputs": [],
   "source": [
    "# boxFiltersList = [[[0,2,0,2],[0,1,0,1],[0,2,2,2]]]\n",
    "# cBox = cnnBox(3,False,device,boxFiltersList,(3,3,2))"
   ]
  },
  {
   "cell_type": "code",
   "execution_count": 5,
   "metadata": {},
   "outputs": [],
   "source": [
    "def computeTempFilter(tempBoxFilterList):\n",
    "    tempFilter = np.zeros((3,3))\n",
    "    for i in range(0,len(tempBoxFilterList)):\n",
    "        for j in range(tempBoxFilterList[i].c,tempBoxFilterList[i].d+1):\n",
    "            for k in range(tempBoxFilterList[i].a,tempBoxFilterList[i].b+1):\n",
    "                #print(j,k)\n",
    "                tempFilter[j][k] = tempFilter[j][k] + tempBoxFilterList[i].alpha\n",
    "\n",
    "    return tempFilter"
   ]
  },
  {
   "cell_type": "code",
   "execution_count": 116,
   "metadata": {},
   "outputs": [],
   "source": [
    "def get_all_box_coordinates(kernel_size):\n",
    "    coordinates = []\n",
    "    for a in range(kernel_size):\n",
    "        for b in range(a, kernel_size):\n",
    "            for c in range(kernel_size):\n",
    "                for d in range(c, kernel_size):\n",
    "                    coordinates.append([a, b, c, d])\n",
    "                    \n",
    "    return coordinates"
   ]
  },
  {
   "cell_type": "code",
   "execution_count": 119,
   "metadata": {},
   "outputs": [],
   "source": [
    "all_boxes = get_all_box_coordinates(11)"
   ]
  },
  {
   "cell_type": "code",
   "execution_count": 120,
   "metadata": {},
   "outputs": [
    {
     "name": "stdout",
     "output_type": "stream",
     "text": [
      "4356\n"
     ]
    }
   ],
   "source": [
    "print(len(all_boxes))"
   ]
  },
  {
   "cell_type": "code",
   "execution_count": 33,
   "metadata": {},
   "outputs": [],
   "source": [
    "# lossFunc = nn.CrossEntropyLoss()\n",
    "\n",
    "# boxFiltersList = [[[0,1,0,1],[0,2,0,2],[0,3,0,3],[0,4,0,4],[1,3,1,3],[1,4,1,4],[2,4,2,4],[3,4,3,4],[0,4,0,0],[0,0,0,4],[2,2,0,4],[0,4,2,2]],\n",
    "#                  [[0,1,0,2],[0,2,0,3],[0,3,0,4],[0,4,0,1],[1,3,1,4],[1,4,1,0],[2,4,2,1],[3,4,3,2],[0,4,0,3],[0,0,0,2],[2,2,0,3],[0,4,2,1]],\n",
    "#                   [[0,1,0,3],[0,2,0,4],[0,3,0,1],[0,4,0,2],[1,3,1,0],[1,4,1,2],[2,4,2,3],[3,4,3,0],[0,4,0,1],[0,0,0,3],[2,2,0,1],[0,4,2,3]]]\n",
    "\n",
    "# cBox = cnnBox(12,False,device,boxFiltersList,(5,5,3))\n",
    "\n",
    "# device = \"cuda:0\" if torch.cuda.is_available() else \"cpu\"\n",
    "\n",
    "# cBox.to(device)\n",
    "# optimizer = optim.SGD(cBox.parameters(), lr=0.01)\n",
    "\n",
    "# # Train the network\n",
    "# for epoch in range(20):  # 10 epochs\n",
    "#     totalLoss = 0\n",
    "#     for images, labels in trainloader:\n",
    "#         images, labels = images.to(device), labels.to(device)\n",
    "#         optimizer.zero_grad()\n",
    "#         output = cBox(images)\n",
    "        \n",
    "#         loss = nn.CrossEntropyLoss()(output, labels)\n",
    "#         loss.backward()\n",
    "#         optimizer.step()\n",
    "#         totalLoss = totalLoss + loss.item()\n",
    "    \n",
    "#     print(f\"Epoch {epoch+1} completed\",totalLoss)"
   ]
  },
  {
   "cell_type": "code",
   "execution_count": 34,
   "metadata": {},
   "outputs": [],
   "source": [
    "input_images = torch.load(\"./input_images.pt\")\n",
    "feature_maps = torch.load(\"./feature_maps.pt\").permute(1, 0, 2, 3)"
   ]
  },
  {
   "cell_type": "code",
   "execution_count": 35,
   "metadata": {},
   "outputs": [
    {
     "data": {
      "text/plain": [
       "torch.Size([1000, 1, 28, 28])"
      ]
     },
     "execution_count": 35,
     "metadata": {},
     "output_type": "execute_result"
    }
   ],
   "source": [
    "input_images.shape"
   ]
  },
  {
   "cell_type": "code",
   "execution_count": 121,
   "metadata": {},
   "outputs": [],
   "source": [
    "import torch\n",
    "from torch.utils.data import Dataset, DataLoader\n",
    "\n",
    "# Define a custom Dataset class\n",
    "class TensorDataset(Dataset):\n",
    "    def __init__(self, feature_map, input_image):\n",
    "        self.feature_map = feature_map\n",
    "        self.input_image = input_image\n",
    "\n",
    "    def __len__(self):\n",
    "        return self.feature_map.size(0)\n",
    "\n",
    "    def __getitem__(self, idx):\n",
    "        return self.feature_map[idx], self.input_image[idx]"
   ]
  },
  {
   "cell_type": "code",
   "execution_count": 122,
   "metadata": {},
   "outputs": [],
   "source": [
    "featureMap = feature_maps.detach()\n",
    "inputs = input_images.detach()"
   ]
  },
  {
   "cell_type": "code",
   "execution_count": 123,
   "metadata": {},
   "outputs": [],
   "source": [
    "# Create an instance of the custom dataset\n",
    "dataset = TensorDataset(featureMap[:,0,:,:].unsqueeze(1), inputs)\n",
    "\n",
    "dataloader = DataLoader(dataset, batch_size=32)"
   ]
  },
  {
   "cell_type": "code",
   "execution_count": 124,
   "metadata": {},
   "outputs": [
    {
     "name": "stdout",
     "output_type": "stream",
     "text": [
      "Epoch 1 completed with loss: 7.691158294677734\n",
      "Epoch 2 completed with loss: 0.9019960761070251\n",
      "Epoch 3 completed with loss: 0.5227681398391724\n",
      "Epoch 4 completed with loss: 0.485098272562027\n",
      "Epoch 5 completed with loss: 0.476893812417984\n",
      "Epoch 6 completed with loss: 0.4731825292110443\n",
      "Epoch 7 completed with loss: 0.466644823551178\n",
      "Epoch 8 completed with loss: 0.48192280530929565\n",
      "Epoch 9 completed with loss: 0.458503782749176\n",
      "Epoch 10 completed with loss: 0.46594440937042236\n"
     ]
    }
   ],
   "source": [
    "boxFiltersList = get_all_box_coordinates(11)\n",
    "model = cnnBox(len(boxFiltersList),1,False,device, boxFiltersList,11)\n",
    "#print(len(boxFiltersList),len(boxFiltersList[0]),len(boxFiltersList[0][0]))\n",
    "#return\n",
    "EPOCHS = 10\n",
    "LAMBDA = 0.0001\n",
    "optimizer = optim.AdamW(model.parameters(), lr=0.1)\n",
    "criterion = nn.MSELoss()\n",
    "\n",
    "for epoch in range(EPOCHS):\n",
    "    for batch in dataloader:\n",
    "        ft_maps, inp_imgs = batch\n",
    "        \n",
    "        box_model_op = model(inp_imgs)\n",
    "        \n",
    "        #print(\"inp:\",inp_imgs.shape,ft_maps.shape,box_model_op.shape)\n",
    "        loss = criterion(box_model_op, ft_maps)\n",
    "\n",
    "        l1_penalty = sum(torch.abs(param).sum() for param in model.parameters())\n",
    "        loss += LAMBDA * l1_penalty\n",
    "        optimizer.zero_grad()\n",
    "        loss.backward()\n",
    "        optimizer.step()\n",
    "\n",
    "    print(f\"Epoch {epoch+1} completed with loss: {loss}\")"
   ]
  },
  {
   "cell_type": "code",
   "execution_count": 125,
   "metadata": {},
   "outputs": [
    {
     "data": {
      "text/plain": [
       "4356"
      ]
     },
     "execution_count": 125,
     "metadata": {},
     "output_type": "execute_result"
    }
   ],
   "source": [
    "len(boxFiltersList)"
   ]
  },
  {
   "cell_type": "code",
   "execution_count": 126,
   "metadata": {},
   "outputs": [
    {
     "data": {
      "image/png": "[encoded data removed]",
      "text/plain": [
       "<Figure size 1500x400 with 4 Axes>"
      ]
     },
     "metadata": {},
     "output_type": "display_data"
    },
    {
     "data": {
      "image/png": "[encoded data removed]",
      "text/plain": [
       "<Figure size 1500x400 with 4 Axes>"
      ]
     },
     "metadata": {},
     "output_type": "display_data"
    }
   ],
   "source": [
    "example_batch = next(iter(dataloader))\n",
    "example_ft_maps, example_inp_imgs = example_batch\n",
    "\n",
    "def plot_feature_maps(feature_maps, title):\n",
    "    num_feature_maps = feature_maps[:4].shape[0]\n",
    "    fig, axes = plt.subplots(1, num_feature_maps, figsize=(15, 4))\n",
    "    for i in range(num_feature_maps):\n",
    "        axes[i].imshow(feature_maps[i, 0].detach().cpu().numpy())\n",
    "        axes[i].axis('off')\n",
    "    fig.suptitle(title)\n",
    "    plt.show()\n",
    "\n",
    "# Plot the example input image\n",
    "# plt.figure(figsize=(5, 5))\n",
    "# plt.imshow(example_inp_imgs[0].detach().cpu().numpy().transpose(1, 2, 0), cmap='gray')\n",
    "# plt.title('Input Image')\n",
    "# plt.axis('off')\n",
    "# plt.show()\n",
    "\n",
    "# Plot the example feature maps\n",
    "example_output = model(example_inp_imgs)\n",
    "plot_feature_maps(example_ft_maps, 'Feature Maps (Ground Truth)')\n",
    "plot_feature_maps(example_output, 'Feature Maps (Model Output)')"
   ]
  },
  {
   "cell_type": "code",
   "execution_count": 97,
   "metadata": {},
   "outputs": [
    {
     "name": "stdout",
     "output_type": "stream",
     "text": [
      "1533\n"
     ]
    }
   ],
   "source": [
    "count = 0\n",
    "\n",
    "for i,j in model.named_parameters():\n",
    "    if(abs(j.item())<0.0001):\n",
    "       count = count + 1\n",
    "print(count)"
   ]
  },
  {
   "cell_type": "code",
   "execution_count": 98,
   "metadata": {},
   "outputs": [],
   "source": [
    "for name, param in model.named_parameters():\n",
    "    param.data = torch.where(torch.abs(param.data) < 0.0001, torch.zeros_like(param.data), param.data)"
   ]
  },
  {
   "cell_type": "code",
   "execution_count": null,
   "metadata": {},
   "outputs": [],
   "source": [
    "totalLoss=0\n",
    "for batch in dataloader:\n",
    "        ft_maps, inp_imgs = batch\n",
    "        \n",
    "        box_model_op = model(inp_imgs)\n",
    "        print(criterion(box_model_op, ft_maps))\n",
    "        #print(\"inp:\",inp_imgs.shape,ft_maps.shape,box_model_op.shape)\n",
    "        #totalLoss = totalLoss + criterion(box_model_op, ft_maps)"
   ]
  },
  {
   "cell_type": "code",
   "execution_count": null,
   "metadata": {},
   "outputs": [],
   "source": []
  },
  {
   "cell_type": "code",
   "execution_count": 88,
   "metadata": {},
   "outputs": [],
   "source": [
    "def computeTempFilter(tempBoxFilterList):\n",
    "    tempFilter = np.zeros((11,11))\n",
    "    for i in range(0,len(tempBoxFilterList)):\n",
    "        for j in range(tempBoxFilterList[i].c,tempBoxFilterList[i].d+1):\n",
    "            for k in range(tempBoxFilterList[i].a,tempBoxFilterList[i].b+1):\n",
    "                #print(j,k)\n",
    "                tempFilter[j][k] = tempFilter[j][k] + tempBoxFilterList[i].alpha\n",
    "\n",
    "    return tempFilter"
   ]
  },
  {
   "cell_type": "code",
   "execution_count": 89,
   "metadata": {},
   "outputs": [],
   "source": [
    "# original_filter = torch.tensor([[-0.0225,  0.2035,  0.0672,  0.1836, -0.2526],\n",
    "#         [-0.1349,  0.1441,  0.0781,  0.0347, -0.3479],\n",
    "#         [-0.0598,  0.1090,  0.0902, -0.1602, -0.0176],\n",
    "#         [-0.0561,  0.1678,  0.0149, -0.0683,  0.0802],\n",
    "#         [-0.0414,  0.1663,  0.0753,  0.3775,  0.0611]])\n",
    "temp_filter = computeTempFilter(model.boxes)"
   ]
  },
  {
   "cell_type": "code",
   "execution_count": 115,
   "metadata": {},
   "outputs": [
    {
     "data": {
      "text/plain": [
       "AlexNet(\n",
       "  (features): Sequential(\n",
       "    (0): Conv2d(3, 64, kernel_size=(11, 11), stride=(4, 4), padding=(2, 2))\n",
       "    (1): ReLU(inplace=True)\n",
       "    (2): MaxPool2d(kernel_size=3, stride=2, padding=0, dilation=1, ceil_mode=False)\n",
       "    (3): Conv2d(64, 192, kernel_size=(5, 5), stride=(1, 1), padding=(2, 2))\n",
       "    (4): ReLU(inplace=True)\n",
       "    (5): MaxPool2d(kernel_size=3, stride=2, padding=0, dilation=1, ceil_mode=False)\n",
       "    (6): Conv2d(192, 384, kernel_size=(3, 3), stride=(1, 1), padding=(1, 1))\n",
       "    (7): ReLU(inplace=True)\n",
       "    (8): Conv2d(384, 256, kernel_size=(3, 3), stride=(1, 1), padding=(1, 1))\n",
       "    (9): ReLU(inplace=True)\n",
       "    (10): Conv2d(256, 256, kernel_size=(3, 3), stride=(1, 1), padding=(1, 1))\n",
       "    (11): ReLU(inplace=True)\n",
       "    (12): MaxPool2d(kernel_size=3, stride=2, padding=0, dilation=1, ceil_mode=False)\n",
       "  )\n",
       "  (avgpool): AdaptiveAvgPool2d(output_size=(6, 6))\n",
       "  (classifier): Sequential(\n",
       "    (0): Dropout(p=0.5, inplace=False)\n",
       "    (1): Linear(in_features=9216, out_features=4096, bias=True)\n",
       "    (2): ReLU(inplace=True)\n",
       "    (3): Dropout(p=0.5, inplace=False)\n",
       "    (4): Linear(in_features=4096, out_features=4096, bias=True)\n",
       "    (5): ReLU(inplace=True)\n",
       "    (6): Linear(in_features=4096, out_features=1000, bias=True)\n",
       "  )\n",
       ")"
      ]
     },
     "execution_count": 115,
     "metadata": {},
     "output_type": "execute_result"
    }
   ],
   "source": [
    "model.to(device)"
   ]
  },
  {
   "cell_type": "code",
   "execution_count": null,
   "metadata": {},
   "outputs": [],
   "source": [
    "example_batch = next(iter(dataloader))\n",
    "example_ft_maps, example_inp_imgs = example_batch\n",
    "\n",
    "example_inp_imgs = example_inp_imgs.to(device)\n",
    "\n",
    "def plot_feature_maps(feature_maps, title):\n",
    "    num_feature_maps = feature_maps[:4].shape[0]\n",
    "    fig, axes = plt.subplots(1, num_feature_maps, figsize=(15, 4))\n",
    "    for i in range(num_feature_maps):\n",
    "        axes[i].imshow(feature_maps[i, 0].detach().cpu().numpy())\n",
    "        axes[i].axis('off')\n",
    "    fig.suptitle(title)\n",
    "    plt.show()\n",
    "\n",
    "# Plot the example input image\n",
    "# plt.figure(figsize=(5, 5))\n",
    "# plt.imshow(example_inp_imgs[0].detach().cpu().numpy().transpose(1, 2, 0), cmap='gray')\n",
    "# plt.title('Input Image')\n",
    "# plt.axis('off')\n",
    "# plt.show()\n",
    "\n",
    "# Plot the example feature maps\n",
    "example_output = model(example_inp_imgs)\n",
    "plot_feature_maps(example_ft_maps, 'Feature Maps (Ground Truth)')\n",
    "plot_feature_maps(example_output, 'Feature Maps (Model Output)')"
   ]
  },
  {
   "cell_type": "code",
   "execution_count": 125,
   "metadata": {},
   "outputs": [
    {
     "data": {
      "text/plain": [
       "tensor(0.1033, dtype=torch.float64)"
      ]
     },
     "execution_count": 125,
     "metadata": {},
     "output_type": "execute_result"
    }
   ],
   "source": [
    "torch.nn.L1Loss()(torch.tensor(temp_filter), original_filter)"
   ]
  },
  {
   "cell_type": "code",
   "execution_count": 77,
   "metadata": {},
   "outputs": [
    {
     "name": "stdout",
     "output_type": "stream",
     "text": [
      "Files already downloaded and verified\n",
      "Files already downloaded and verified\n"
     ]
    }
   ],
   "source": [
    "import torch\n",
    "from torchvision import datasets, transforms\n",
    "\n",
    "# Define a transform to normalize the data\n",
    "transform = transforms.Compose([transforms.ToTensor(),\n",
    "                                transforms.Normalize((0.5,0.5,0.5), (0.5,0.5,0.5))])\n",
    "\n",
    "# Download and load the training data\n",
    "trainset = datasets.CIFAR10('~/.pytorch/CIFAR/', download=True, train=True, transform=transform)\n",
    "trainloader = torch.utils.data.DataLoader(trainset, batch_size=64, shuffle=True)\n",
    "\n",
    "# Download and load the test data\n",
    "testset = datasets.CIFAR10('~/.pytorch/CIFAR/', download=True, train=False, transform=transform)\n",
    "testloader = torch.utils.data.DataLoader(testset, batch_size=64, shuffle=True)"
   ]
  },
  {
   "cell_type": "code",
   "execution_count": null,
   "metadata": {},
   "outputs": [],
   "source": [
    "import torch\n",
    "from torch import nn, optim\n",
    "from torchvision import datasets, transforms\n",
    "from torch.utils.data import DataLoader\n",
    "\n",
    "# Define the network\n",
    "class Net(nn.Module):\n",
    "    def __init__(self):\n",
    "        super(Net, self).__init__()\n",
    "        self.conv1 = nn.Conv2d(3, 3, 11)  # 1 input channel, 6 output channels, 5x5 kernel\n",
    "        self.conv2 = nn.Conv2d(3, 3, 11)\n",
    "        self.fc = nn.Linear(432, 10)  # 10 classes for MNIST\n",
    "\n",
    "    def forward(self, x):\n",
    "        x = torch.relu(self.conv1(x))\n",
    "        x = torch.relu(self.conv2(x))\n",
    "        #x = x.view(-1, 36864)  # Flatten the tensor\n",
    "        #print(x.shape)\n",
    "        x = x.flatten(1)  # Flatten the tensor\n",
    "        x = self.fc(x)\n",
    "        return x\n",
    "\n",
    "\n",
    "\n",
    "# Initialize the network and optimizer\n",
    "device = \"cuda:0\" if torch.cuda.is_available() else \"cpu\"\n",
    "model = Net()\n",
    "model.to(device)\n",
    "optimizer = optim.SGD(model.parameters(), lr=0.01)\n",
    "\n",
    "# Train the network\n",
    "for epoch in range(10):  # 10 epochs\n",
    "    for images, labels in trainloader:\n",
    "        images, labels = images.to(device), labels.to(device)\n",
    "        optimizer.zero_grad()\n",
    "        output = model(images)\n",
    "        loss = nn.CrossEntropyLoss()(output, labels)\n",
    "        loss.backward()\n",
    "        optimizer.step()\n",
    "    print(f\"Epoch {epoch+1} completed\")"
   ]
  },
  {
   "cell_type": "code",
   "execution_count": 79,
   "metadata": {},
   "outputs": [
    {
     "name": "stdout",
     "output_type": "stream",
     "text": [
      "Accuracy of the network on the test images: 37 %\n"
     ]
    }
   ],
   "source": [
    "\n",
    "\n",
    "# Switch model to evaluation mode\n",
    "model.eval()\n",
    "\n",
    "correct = 0\n",
    "total = 0\n",
    "\n",
    "# Disable gradient computation\n",
    "with torch.no_grad():\n",
    "    for images, labels in testloader:\n",
    "        images, labels = images.to(device), labels.to(device)\n",
    "        outputs = model(images)\n",
    "        _, predicted = torch.max(outputs.data, 1)\n",
    "        total += labels.size(0)\n",
    "        correct += (predicted == labels).sum().item()\n",
    "\n",
    "print('Accuracy of the network on the test images: %d %%' % (100 * correct / total))"
   ]
  },
  {
   "cell_type": "code",
   "execution_count": 80,
   "metadata": {},
   "outputs": [],
   "source": [
    "input = None\n",
    "for images, labels in testloader:\n",
    "    if(input==None):\n",
    "        input = images\n",
    "    else:\n",
    "        input = torch.cat((input,images),0)\n",
    "\n",
    "input=input.to(device)\n",
    "featureMap = model.conv1(input)"
   ]
  },
  {
   "cell_type": "code",
   "execution_count": 81,
   "metadata": {},
   "outputs": [],
   "source": [
    "inputs = input"
   ]
  },
  {
   "cell_type": "code",
   "execution_count": 41,
   "metadata": {},
   "outputs": [
    {
     "data": {
      "text/plain": [
       "torch.Size([10000, 3, 28, 28])"
      ]
     },
     "execution_count": 41,
     "metadata": {},
     "output_type": "execute_result"
    }
   ],
   "source": [
    "featureMap.shape"
   ]
  },
  {
   "cell_type": "code",
   "execution_count": null,
   "metadata": {},
   "outputs": [],
   "source": [
    "import torch\n",
    "model = torch.hub.load('pytorch/vision:v0.10.0', 'alexnet', pretrained=True)\n",
    "model.eval()\n",
    "count = 0\n",
    "weight = None\n",
    "for i,j in model.named_parameters():\n",
    "  if(count>0):\n",
    "    break\n",
    "  print(i)\n",
    "  weight = j\n",
    "  count = count + 1\n",
    "weight[0]"
   ]
  }
 ],
 "metadata": {
  "kernelspec": {
   "display_name": "xai",
   "language": "python",
   "name": "python3"
  },
  "language_info": {
   "codemirror_mode": {
    "name": "ipython",
    "version": 3
   },
   "file_extension": ".py",
   "mimetype": "text/x-python",
   "name": "python",
   "nbconvert_exporter": "python",
   "pygments_lexer": "ipython3",
   "version": "3.10.13"
  }
 },
 "nbformat": 4,
 "nbformat_minor": 2
}
