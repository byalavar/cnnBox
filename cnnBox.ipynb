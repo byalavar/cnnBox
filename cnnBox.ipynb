{
 "cells": [
  {
   "cell_type": "code",
   "execution_count": 2,
   "metadata": {},
   "outputs": [],
   "source": [
    "import torch\n",
    "import torch.nn as nn\n",
    "import numpy as np\n",
    "\n",
    "\n",
    "\n",
    "import numpy as np\n",
    "import copy\n",
    "import matplotlib.pyplot as plt\n",
    "\n",
    "\n",
    "class boxFilters(nn.Module):\n",
    "    def __init__(self,a,b,c,d):\n",
    "        super(boxFilters, self).__init__()\n",
    "        self.alpha = nn.Parameter(torch.tensor(1.0),requires_grad=True)\n",
    "        #self.a = nn.Parameter(torch.tensor(a))\n",
    "        #self.b = nn.Parameter(torch.tensor(b))\n",
    "        #self.c = nn.Parameter(torch.tensor(c))\n",
    "        #self.d = nn.Parameter(torch.tensor(d))\n",
    "        self.a = int(a)\n",
    "        self.b = int(b)\n",
    "        self.c = int(c)\n",
    "        self.d = int(d)\n",
    "        # self.a.requires_grad = False\n",
    "        # self.b.requires_grad = False\n",
    "        # self.c.requires_grad = False\n",
    "        # self.d.requires_grad = False\n",
    "\n",
    "\n",
    "    \n",
    "    def setAlpha(self,alpha):\n",
    "        self.alpha = nn.Parameter(torch.tensor(alpha),requires_grad=True)\n",
    "    \n",
    "    def setABCD(self,a,b,c,d):\n",
    "        self.a = a\n",
    "        self.b = b\n",
    "        self.c = c\n",
    "        self.d = d\n",
    "    \n",
    "    def printParams(self):\n",
    "        print(\"A:\",self.a,\"B:\",self.b,\"C:\",self.c,\"D:\",self.d, \"Alpha:\", self.alpha)\n",
    "\n",
    "\n",
    "\n",
    "\n",
    "\n",
    "\n"
   ]
  },
  {
   "cell_type": "code",
   "execution_count": null,
   "metadata": {},
   "outputs": [],
   "source": [
    "    # def forward(self, integral_image):\n",
    "        \n",
    "    #     H, W = integral_image.shape[-2:]\n",
    "\n",
    "    #     H = H - self.ogFilterSize + 1\n",
    "    #     W = W - self.ogFilterSize + 1\n",
    "    #     output = torch.zeros((integral_image.shape[0],integral_image.shape[1],H,W)).to(self.device)\n",
    "    #     for box_filter in self.box_filters:\n",
    "    #         a, b, c, d = int(box_filter.a), int(box_filter.b), int(box_filter.c), int(box_filter.d)\n",
    "    #         if b >= a and d >= c:  # Check if the box filter is valid\n",
    "    #             # Compute the sum within the box filter for each position in the image\n",
    "\n",
    "    #           if(self.reg):\n",
    "    #             print(\"Regular Conv\")  \n",
    "    #             for i in range(H):\n",
    "    #                 for j in range(W):\n",
    "    #                     # Define the boundaries\n",
    "                        \n",
    "    #                     tlCol = j + a -1\n",
    "    #                     tlRow = i + c -1\n",
    "\n",
    "    #                     trCol = j + b\n",
    "    #                     trRow = i + c -1\n",
    "\n",
    "\n",
    "    #                     blCol = j + a -1\n",
    "    #                     blRow = i + d\n",
    "\n",
    "    #                     brCol = j + b\n",
    "    #                     brRow = i + d\n",
    "\n",
    "    #                     #print(\"tlCol:\",tlCol,\"tlRow:\",tlRow,\"trCol:\",trCol,\"trRow:\",trRow,\"blCol:\",blCol,\"blRow:\",blRow,\"brCol:\",brCol,\"brRow:\",brRow)\n",
    "    #                     # Get the sum within the boundaries and add it to the output\n",
    "\n",
    "    #                     if(tlRow>=0 and tlCol>=0):\n",
    "    #                         tlVal = integral_image[..., tlRow, tlCol]\n",
    "    #                     else:\n",
    "    #                         tlVal = 0\n",
    "                        \n",
    "    #                     if(trRow>=0 and trCol>=0):\n",
    "    #                         trVal = integral_image[..., trRow, trCol]\n",
    "    #                     else:\n",
    "    #                         trVal = 0\n",
    "                        \n",
    "    #                     if(blRow>=0 and blCol>=0):\n",
    "    #                         blVal = integral_image[..., blRow, blCol]\n",
    "    #                     else:\n",
    "    #                         blVal = 0\n",
    "                        \n",
    "    #                     if(brRow>=0 and brCol>=0):\n",
    "    #                         brVal = integral_image[..., brRow, brCol]\n",
    "    #                     else:\n",
    "    #                         brVal = 0\n",
    "\n",
    "                            \n",
    "                        \n",
    "\n",
    "    #                     #print(integral_image[..., tlRow, tlCol])\n",
    "    #                     output[..., i, j] += brVal  + tlVal - trVal - blVal\n",
    "    #           else:\n",
    "    #                 print(\"SIMD Conv\")\n",
    "\n",
    "    #                 # Define the boundaries\n",
    "    #                 row_indices = torch.arange(H).unsqueeze(-1).to(self.device)\n",
    "    #                 col_indices = torch.arange(W).to(self.device)\n",
    "    #                 print(row_indices.shape,col_indices.shape)\n",
    "    #                 tlCol = col_indices + a - 1\n",
    "    #                 tlRow = row_indices + c - 1\n",
    "\n",
    "    #                 trCol = col_indices + b\n",
    "    #                 trRow = tlRow  # trRow and tlRow are the same\n",
    "\n",
    "    #                 blCol = tlCol  # blCol and tlCol are the same\n",
    "    #                 blRow = row_indices + d\n",
    "\n",
    "    #                 brCol = trCol  # brCol and trCol are the same\n",
    "    #                 brRow = blRow  # brRow and blRow are the same\n",
    "\n",
    "    #                 # Get the values at the boundaries\n",
    "                    \n",
    "    #                 tlVal = torch.where((tlRow < 0) | (tlCol < 0), 0, integral_image[..., tlRow, tlCol])\n",
    "    #                 trVal = torch.where((trRow < 0) | (trCol < 0), 0, integral_image[..., trRow, trCol])\n",
    "    #                 blVal = torch.where((blRow < 0) | (blCol < 0), 0, integral_image[..., blRow, blCol])\n",
    "    #                 brVal = torch.where((brRow < 0) | (brCol < 0), 0, integral_image[..., brRow, brCol])\n",
    "\n",
    "    #                 # Compute the output\n",
    "    #                 output.add_(brVal + tlVal - trVal - blVal)  # in-place addition\n",
    "\n",
    "                        \n",
    "            \n",
    "    #             #print(f\"Invalid box filter: a={a}, b={b}, c={c}, d={d}\")\n",
    "    #     return output\n",
    "\n",
    "\n",
    "\n",
    "    # def forward(self, integral_image):\n",
    "        \n",
    "    #     H, W = integral_image.shape[-2:]\n",
    "\n",
    "    #     H = H - self.ogFilterSize + 1\n",
    "    #     W = W - self.ogFilterSize + 1\n",
    "    #     #output = torch.zeros((integral_image.shape[0],integral_image.shape[1],H,W)).to(self.device)\n",
    "    #     # Define the boundaries\n",
    "    #     row_indices = torch.arange(H).unsqueeze(-1).unsqueeze(-1).to(self.device)  # shape: (H, 1, 1)\n",
    "    #     col_indices = torch.arange(W).unsqueeze(-1).unsqueeze(0).to(self.device)  # shape: (1, W, 1)\n",
    "    #    # print(row_indices.shape,col_indices.shape)\n",
    "    #     # a, b, c, d should be 1D tensors of shape (num_filters,)\n",
    "    #     # reshape them to (1, 1, num_filters)\n",
    "\n",
    "    #     #box_filters_tensor = torch.tensor([[int(box_filter.a), int(box_filter.b), int(box_filter.c), int(box_filter.d)] for box_filter in self.box_filters]).to(self.device)\n",
    "    #     box_filters_tensor = torch.tensor([[box_filter.a, box_filter.b, box_filter.c, box_filter.d] for box_filter in self.box_filters]).to(self.device)\n",
    "        \n",
    "        \n",
    "\n",
    "    #     a, b, c, d = box_filters_tensor[:, 0], box_filters_tensor[:, 1], box_filters_tensor[:, 2], box_filters_tensor[:, 3]\n",
    "        \n",
    "    #     a, b, c, d = a.unsqueeze(0).unsqueeze(0), b.unsqueeze(0).unsqueeze(0), c.unsqueeze(0).unsqueeze(0), d.unsqueeze(0).unsqueeze(0)\n",
    "        \n",
    "    #     #box_filters_alpha = torch.tensor([[box_filter.alpha] for box_filter in self.box_filters]).to(self.device)\n",
    "    #     box_filters_alpha = torch.stack([box_filter.alpha for box_filter in self.box_filters]).to(self.device)\n",
    "    #     #print(\"Alpha Check:\",box_filters_alpha,box_filters_alpha1)\n",
    "    #     #print(\"dtype\",box_filters_alpha.dtype)\n",
    "    #     #print(\"CA Shape:\",col_indices.shape,a.shape)\n",
    "    #     tlCol = col_indices + a - 1  # broadcasting happens here\n",
    "    #     tlRow = row_indices + c - 1\n",
    "\n",
    "    #     trCol = col_indices + b\n",
    "    #     trRow = tlRow  # trRow and tlRow are the same\n",
    "\n",
    "    #     blCol = tlCol  # blCol and tlCol are the same\n",
    "    #     blRow = row_indices + d\n",
    "\n",
    "    #     brCol = trCol  # brCol and trCol are the same\n",
    "    #     brRow = blRow  # brRow and blRow are the same\n",
    "    #     #print(tlCol.shape,tlRow.shape,trCol.shape,trRow.shape,blCol.shape,blRow.shape,brCol.shape,brRow.shape)\n",
    "    #     # Get the values at the boundaries\n",
    "    #     tlVal = torch.where((tlRow < 0) | (tlCol < 0), 0, integral_image[..., tlRow, tlCol])\n",
    "    #     trVal = torch.where((trRow < 0) | (trCol < 0), 0, integral_image[..., trRow, trCol])\n",
    "    #     blVal = torch.where((blRow < 0) | (blCol < 0), 0, integral_image[..., blRow, blCol])\n",
    "    #     brVal = torch.where((brRow < 0) | (brCol < 0), 0, integral_image[..., brRow, brCol])\n",
    "    #     #print(brVal.shape,tlVal.shape,trVal.shape,blVal.shape)\n",
    "    #     # Compute the output\n",
    "    #     output = brVal + tlVal - trVal - blVal  # in-place addition\n",
    "    #     #output = output*self.box_filters[0].alpha\n",
    "    #     #print(output.shape,box_filters_alpha.shape)\n",
    "    #     #print(\"1:\",output)\n",
    "    #     output = output.permute(0, 1, 4, 2, 3)\n",
    "    #     #print(\"out:\",output.shape[2])\n",
    "    #     #box_filters_alpha = box_filters_alpha.view(1, 1, output.shape[2], 1, 1)\n",
    "    #     box_filters_alpha = box_filters_alpha.view(1, 1, -1, 1, 1)\n",
    "    #     output = output * box_filters_alpha\n",
    "    #     output = output.sum(dim=2)\n",
    "    #     #print(\"2:\",output)\n",
    "    #     return output\n",
    "        "
   ]
  },
  {
   "cell_type": "code",
   "execution_count": 3,
   "metadata": {},
   "outputs": [],
   "source": [
    "class BoxFilterConvolution(nn.Module):\n",
    "    def __init__(self, box_filters, ogFilterSize,reg,device):\n",
    "        super(BoxFilterConvolution, self).__init__()\n",
    "        self.box_filters = box_filters\n",
    "        self.ogFilterSize = ogFilterSize\n",
    "        self.reg = reg\n",
    "        self.device = device \n",
    " \n",
    "    def forward(self, integral_image):\n",
    "        \n",
    "        H, W = integral_image.shape[-2:]\n",
    "\n",
    "        H = H - self.ogFilterSize + 1\n",
    "        W = W - self.ogFilterSize + 1\n",
    "        #output = torch.zeros((integral_image.shape[0],integral_image.shape[1],H,W)).to(self.device)\n",
    "        # Define the boundaries\n",
    "        row_indices = torch.arange(H).unsqueeze(-1).unsqueeze(-1).to(self.device)  # shape: (H, 1, 1)\n",
    "        col_indices = torch.arange(W).unsqueeze(-1).unsqueeze(0).to(self.device)  # shape: (1, W, 1)\n",
    "       # print(row_indices.shape,col_indices.shape)\n",
    "        # a, b, c, d should be 1D tensors of shape (num_filters,)\n",
    "        # reshape them to (1, 1, num_filters)\n",
    "\n",
    "        #box_filters_tensor = torch.tensor([[int(box_filter.a), int(box_filter.b), int(box_filter.c), int(box_filter.d)] for box_filter in self.box_filters]).to(self.device)\n",
    "        box_filters_tensor = torch.tensor([[box_filter.a, box_filter.b, box_filter.c, box_filter.d] for box_filter in self.box_filters]).to(self.device)\n",
    "        \n",
    "        \n",
    "\n",
    "        a, b, c, d = box_filters_tensor[:, 0], box_filters_tensor[:, 1], box_filters_tensor[:, 2], box_filters_tensor[:, 3]\n",
    "        \n",
    "        a, b, c, d = a.unsqueeze(0).unsqueeze(0), b.unsqueeze(0).unsqueeze(0), c.unsqueeze(0).unsqueeze(0), d.unsqueeze(0).unsqueeze(0)\n",
    "        \n",
    "        #box_filters_alpha = torch.tensor([[box_filter.alpha] for box_filter in self.box_filters]).to(self.device)\n",
    "        box_filters_alpha = torch.stack([box_filter.alpha for box_filter in self.box_filters]).to(self.device)\n",
    "        #print(\"Alpha Check:\",box_filters_alpha,box_filters_alpha1)\n",
    "        #print(\"dtype\",box_filters_alpha.dtype)\n",
    "        print(\"CA Shape:\",col_indices.shape,a.shape)\n",
    "        tlCol = col_indices + a - 1  # broadcasting happens here\n",
    "        tlRow = row_indices + c - 1\n",
    "\n",
    "        trCol = col_indices + b\n",
    "        trRow = tlRow  # trRow and tlRow are the same\n",
    "\n",
    "        blCol = tlCol  # blCol and tlCol are the same\n",
    "        blRow = row_indices + d\n",
    "\n",
    "        brCol = trCol  # brCol and trCol are the same\n",
    "        brRow = blRow  # brRow and blRow are the same\n",
    "        #print(tlCol.shape,tlRow.shape,trCol.shape,trRow.shape,blCol.shape,blRow.shape,brCol.shape,brRow.shape)\n",
    "        # Get the values at the boundaries\n",
    "        tlVal = torch.where((tlRow < 0) | (tlCol < 0), 0, integral_image[..., tlRow, tlCol])\n",
    "        trVal = torch.where((trRow < 0) | (trCol < 0), 0, integral_image[..., trRow, trCol])\n",
    "        blVal = torch.where((blRow < 0) | (blCol < 0), 0, integral_image[..., blRow, blCol])\n",
    "        brVal = torch.where((brRow < 0) | (brCol < 0), 0, integral_image[..., brRow, brCol])\n",
    "        #print(brVal.shape,tlVal.shape,trVal.shape,blVal.shape)\n",
    "        # Compute the output\n",
    "        output = brVal + tlVal - trVal - blVal  # in-place addition\n",
    "        #output = output*self.box_filters[0].alpha\n",
    "        #print(output.shape,box_filters_alpha.shape)\n",
    "        #print(\"1:\",output)\n",
    "        output = output.permute(0, 1, 4, 2, 3)\n",
    "        #print(\"out:\",output.shape[2])\n",
    "        #box_filters_alpha = box_filters_alpha.view(1, 1, output.shape[2], 1, 1)\n",
    "        box_filters_alpha = box_filters_alpha.view(1, 1, -1, 1, 1)\n",
    "        output = output * box_filters_alpha\n",
    "        output = output.sum(dim=2)\n",
    "        #print(\"2:\",output)\n",
    "        return output\n",
    "\n",
    "\n",
    "# CNN Network with box filters\n",
    "class cnnBox(nn.Module):\n",
    "\n",
    "    def __init__(self, nBoxes, nChannels, reg,device,box_filters,ogFilterSize):\n",
    "        super(cnnBox, self).__init__()\n",
    "        self.boxes = nBoxes\n",
    "        self.nChannels = nChannels\n",
    "        \n",
    "        #self.boxes = nn.ModuleList([boxFilters(0,1,0,1) for _ in range(self.boxes)])\n",
    "        #n = 5  # replace with the desired number of module lists\n",
    "        self.boxes = nn.ModuleList([boxFilters(0,1,0,1) for _ in range(self.boxes)])\n",
    "        for i in range(0,nBoxes):\n",
    "\n",
    "            self.boxes[i].setABCD(box_filters[i][0],box_filters[i][1],box_filters[i][2],box_filters[i][3])\n",
    "        \n",
    "        self.conv = BoxFilterConvolution(self.boxes,ogFilterSize,reg,device)\n",
    "        self.fc = nn.Linear(576,128)\n",
    "            \n",
    "\n",
    "    def forward(self,x):\n",
    "        x = x.cumsum(dim=-2).cumsum(dim=-1)\n",
    "        x = self.conv(x)\n",
    "        x = x.to(torch.float)\n",
    "        x = nn.Flatten()(x)\n",
    "        x = self.fc(x)\n",
    "        return x\n",
    "        "
   ]
  },
  {
   "cell_type": "code",
   "execution_count": 4,
   "metadata": {},
   "outputs": [
    {
     "ename": "NameError",
     "evalue": "name 'device' is not defined",
     "output_type": "error",
     "traceback": [
      "\u001b[0;31m---------------------------------------------------------------------------\u001b[0m",
      "\u001b[0;31mNameError\u001b[0m                                 Traceback (most recent call last)",
      "Cell \u001b[0;32mIn[4], line 2\u001b[0m\n\u001b[1;32m      1\u001b[0m boxFiltersList \u001b[38;5;241m=\u001b[39m [[\u001b[38;5;241m0\u001b[39m,\u001b[38;5;241m1\u001b[39m,\u001b[38;5;241m0\u001b[39m,\u001b[38;5;241m1\u001b[39m],[\u001b[38;5;241m0\u001b[39m,\u001b[38;5;241m1\u001b[39m,\u001b[38;5;241m0\u001b[39m,\u001b[38;5;241m1\u001b[39m],[\u001b[38;5;241m0\u001b[39m,\u001b[38;5;241m2\u001b[39m,\u001b[38;5;241m2\u001b[39m,\u001b[38;5;241m2\u001b[39m]]\n\u001b[0;32m----> 2\u001b[0m cBox \u001b[38;5;241m=\u001b[39m cnnBox(\u001b[38;5;241m3\u001b[39m,\u001b[38;5;241m1\u001b[39m,\u001b[38;5;28;01mFalse\u001b[39;00m,\u001b[43mdevice\u001b[49m,boxFiltersList,\u001b[38;5;241m3\u001b[39m)\n\u001b[1;32m      3\u001b[0m cBox\u001b[38;5;241m.\u001b[39mboxes[\u001b[38;5;241m1\u001b[39m]\u001b[38;5;241m.\u001b[39msetAlpha(\u001b[38;5;241m2.0\u001b[39m)\n\u001b[1;32m      5\u001b[0m optimizer \u001b[38;5;241m=\u001b[39m torch\u001b[38;5;241m.\u001b[39moptim\u001b[38;5;241m.\u001b[39mAdam(cBox\u001b[38;5;241m.\u001b[39mparameters(),lr\u001b[38;5;241m=\u001b[39m\u001b[38;5;241m0.001\u001b[39m)\n",
      "\u001b[0;31mNameError\u001b[0m: name 'device' is not defined"
     ]
    }
   ],
   "source": [
    "boxFiltersList = [[0,1,0,1],[0,1,0,1],[0,2,2,2]]\n",
    "cBox = cnnBox(3,1,False,device,boxFiltersList,3)\n",
    "cBox.boxes[1].setAlpha(2.0)\n",
    "\n",
    "optimizer = torch.optim.Adam(cBox.parameters(),lr=0.001)\n",
    "\n",
    "\n",
    "cBox = cBox.to(device)\n",
    "\n",
    "\n",
    "a = a.to(device)\n",
    "\n",
    "x=cBox(a)"
   ]
  },
  {
   "cell_type": "code",
   "execution_count": 180,
   "metadata": {},
   "outputs": [],
   "source": [
    "\n",
    "\n",
    "# Convolution using box filters (1 Integral Image, n box filters)\n",
    "# Need to write backprop for the forward pass \n",
    "class BoxFilterConvolution(nn.Module):\n",
    "    def __init__(self, box_filters, ogFilterShape,reg,device):\n",
    "        super(BoxFilterConvolution, self).__init__()\n",
    "        self.box_filters = box_filters\n",
    "        self.ogFilterShape = ogFilterShape\n",
    "        self.reg = reg\n",
    "        self.device = device\n",
    "\n",
    "\n",
    "\n",
    "    def forward(self, integral_image):\n",
    "        \n",
    "        H, W = integral_image.shape[-2:]\n",
    "\n",
    "        H = H - self.ogFilterShape[0] + 1\n",
    "        W = W - self.ogFilterShape[1] + 1\n",
    "        C = self.ogFilterShape[2]\n",
    "        #print(C)\n",
    "        #output = torch.zeros((integral_image.shape[0],integral_image.shape[1],H,W)).to(self.device)\n",
    "        # Define the boundaries\n",
    "        #row_indices = torch.arange(H).unsqueeze(-1).unsqueeze(-1).to(self.device)  # shape: (H, 1, 1)\n",
    "        #col_indices = torch.arange(W).unsqueeze(-1).unsqueeze(0).to(self.device)  # shape: (1, W, 1)\n",
    "        row_indices = torch.arange(H).unsqueeze(-1).unsqueeze(-1).unsqueeze(0).expand(C, H, 1, 1).to(self.device)  # shape: (C, H, 1, 1)\n",
    "        col_indices = torch.arange(W).unsqueeze(-1).unsqueeze(0).unsqueeze(0).expand(C, 1, W, 1).to(self.device)  # shape: (C, 1, W, 1)\n",
    "        #print(row_indices)\n",
    "       # print(row_indices.shape,col_indices.shape)\n",
    "        # a, b, c, d should be 1D tensors of shape (num_filters,)\n",
    "        # reshape them to (1, 1, num_filters)\n",
    "\n",
    "        #box_filters_tensor = torch.tensor([[int(box_filter.a), int(box_filter.b), int(box_filter.c), int(box_filter.d)] for box_filter in self.box_filters]).to(self.device)\n",
    "        #box_filters_tensor = torch.tensor([[box_filter.a, box_filter.b, box_filter.c, box_filter.d] for box_filter in self.box_filters]).to(self.device)\n",
    "        \n",
    "        box_filters_tensor = torch.tensor([[[box_filter.a, box_filter.b, box_filter.c, box_filter.d] for box_filter in sublist] for sublist in self.box_filters]).to(self.device)\n",
    "        #print(box_filters_tensor.shape,box_filters_tensor,box_filters_tensor[:,:,0])\n",
    "        a, b, c, d = box_filters_tensor[:,:, 0], box_filters_tensor[:,:, 1], box_filters_tensor[:,:, 2], box_filters_tensor[:,:, 3]\n",
    "        \n",
    "       \n",
    "        a, b, c, d = a.unsqueeze(1).unsqueeze(1), b.unsqueeze(1).unsqueeze(1), c.unsqueeze(1).unsqueeze(1), d.unsqueeze(1).unsqueeze(1)\n",
    "        #print(row_indices.shape,a.shape)\n",
    "        #return\n",
    "        #print(a,a.shape)\n",
    "        #return\n",
    "        #box_filters_alpha = torch.tensor([[box_filter.alpha] for box_filter in self.box_filters]).to(self.device)\n",
    "        #box_filters_alpha = torch.stack([box_filter.alpha for box_filter in self.box_filters]).to(self.device)\n",
    "        box_filters_alpha = torch.stack([torch.stack([box_filter.alpha for box_filter in sublist]) for sublist in self.box_filters]).to(self.device)\n",
    "        #print(\"Alpha Check:\",box_filters_alpha,box_filters_alpha.shape)\n",
    "        #print(col_indices.shape,a.shape)\n",
    "        #return\n",
    "        #print(\"dtype\",box_filters_alpha.dtype)\n",
    "        #print(\"CA Shape:\",col_indices.shape,a.shape)\n",
    "        tlCol = col_indices + a - 1  # broadcasting happens here\n",
    "        tlRow = row_indices + c - 1\n",
    "\n",
    "        trCol = col_indices + b\n",
    "        trRow = tlRow  # trRow and tlRow are the same\n",
    "\n",
    "        blCol = tlCol  # blCol and tlCol are the same\n",
    "        blRow = row_indices + d\n",
    "\n",
    "        brCol = trCol  # brCol and trCol are the same\n",
    "        brRow = blRow  # brRow and blRow are the same\n",
    "        #print(tlCol.shape,tlRow.shape,trCol.shape,trRow.shape,blCol.shape,blRow.shape,brCol.shape,brRow.shape)\n",
    "        # Get the values at the boundaries\n",
    "        tlVal = torch.where((tlRow < 0) | (tlCol < 0), 0, integral_image[..., tlRow, tlCol])\n",
    "        trVal = torch.where((trRow < 0) | (trCol < 0), 0, integral_image[..., trRow, trCol])\n",
    "        blVal = torch.where((blRow < 0) | (blCol < 0), 0, integral_image[..., blRow, blCol])\n",
    "        brVal = torch.where((brRow < 0) | (brCol < 0), 0, integral_image[..., brRow, brCol])\n",
    "        #print(brVal.shape,tlVal.shape,trVal.shape,blVal.shape)\n",
    "        # Compute the output\n",
    "        output = brVal + tlVal - trVal - blVal  # in-place addition\n",
    "        #output = output*self.box_filters[0].alpha\n",
    "        #print(output.shape,box_filters_alpha.shape)\n",
    "        #print(\"1:\",output)\n",
    "        \n",
    "        # while len(output.shape) > 5:\n",
    "        #     print(output.shape)\n",
    "        #     output = output.squeeze(0)\n",
    "        #print(\"output:\",output.shape)\n",
    "        output = output.squeeze(1)\n",
    "        output = output.permute(0, 1, 4, 2, 3)\n",
    "        #print(output)\n",
    "        #print(\"out:\",output.shape[2])\n",
    "        #box_filters_alpha = box_filters_alpha.view(1, 1, output.shape[2], 1, 1)\n",
    "        #print(box_filters_alpha.shape)\n",
    "        box_filters_alpha = box_filters_alpha.view(1, box_filters_alpha.shape[0], box_filters_alpha.shape[1], 1, 1)\n",
    "        output = output * box_filters_alpha\n",
    "        output = output.sum(dim=2)\n",
    "        #print(output)\n",
    "        #print(\"2:\",output)\n",
    "        return output\n",
    "        \n",
    "\n",
    "\n",
    "\n",
    "# CNN Network with box filters\n",
    "class cnnBox(nn.Module):\n",
    "\n",
    "    def __init__(self, nBoxes, reg,device,box_filters,ogFilterSize):\n",
    "        super(cnnBox, self).__init__()\n",
    "        self.boxes = nBoxes\n",
    "        self.nChannels = ogFilterSize[2]\n",
    "        \n",
    "        #self.boxes = nn.ModuleList([boxFilters(0,1,0,1) for _ in range(self.boxes)])\n",
    "        #n = 5  # replace with the desired number of module lists\n",
    "        self.boxes = [nn.ModuleList([boxFilters(0,1,0,1) for _ in range(self.boxes)]) for _ in range(self.nChannels)]\n",
    "        for i in range(0,self.nChannels):\n",
    "         for j in range(0,nBoxes):\n",
    "            self.boxes[i][j].setABCD(box_filters[i][j][0],box_filters[i][j][1],box_filters[i][j][2],box_filters[i][j][3])\n",
    "        \n",
    "        self.conv = BoxFilterConvolution(self.boxes,ogFilterSize,reg,device)\n",
    "        self.fc = nn.Linear(1728,128)\n",
    "            \n",
    "\n",
    "    def forward(self,x):\n",
    "        x = x.cumsum(dim=-2).cumsum(dim=-1)\n",
    "        x = self.conv(x)\n",
    "        x = x.to(torch.float)\n",
    "        x = nn.Flatten()(x)\n",
    "        x = self.fc(x)\n",
    "        return x\n",
    "        \n",
    "        \n",
    "\n"
   ]
  },
  {
   "cell_type": "code",
   "execution_count": 143,
   "metadata": {},
   "outputs": [],
   "source": [
    "device = \"cpu\""
   ]
  },
  {
   "cell_type": "code",
   "execution_count": 144,
   "metadata": {},
   "outputs": [],
   "source": [
    "boxFiltersList = [[[0,1,0,1],[0,1,0,1],[0,2,2,2]],[[0,2,0,2],[0,1,0,1],[0,2,2,2]]]\n",
    "cBox = cnnBox(3,False,device,boxFiltersList,(3,3,2))\n"
   ]
  },
  {
   "cell_type": "code",
   "execution_count": 145,
   "metadata": {},
   "outputs": [],
   "source": [
    "a = torch.randint(1,5,(2,1,10,10))"
   ]
  },
  {
   "cell_type": "code",
   "execution_count": 146,
   "metadata": {},
   "outputs": [
    {
     "data": {
      "text/plain": [
       "tensor([[[[4, 1, 2, 1, 2, 3, 1, 2, 2, 3],\n",
       "          [1, 3, 3, 3, 3, 4, 3, 2, 2, 2],\n",
       "          [4, 3, 4, 1, 4, 4, 1, 4, 1, 2],\n",
       "          [3, 1, 4, 2, 3, 2, 3, 4, 3, 3],\n",
       "          [4, 1, 4, 4, 2, 2, 2, 1, 1, 4],\n",
       "          [2, 3, 1, 4, 4, 2, 3, 1, 1, 3],\n",
       "          [3, 3, 2, 2, 3, 2, 4, 2, 3, 4],\n",
       "          [2, 3, 2, 3, 2, 4, 3, 2, 2, 4],\n",
       "          [4, 1, 4, 1, 3, 2, 2, 2, 3, 1],\n",
       "          [4, 2, 2, 2, 1, 3, 4, 2, 1, 3]]],\n",
       "\n",
       "\n",
       "        [[[2, 3, 3, 2, 2, 3, 1, 2, 3, 2],\n",
       "          [2, 3, 3, 2, 2, 3, 3, 3, 1, 1],\n",
       "          [1, 1, 1, 2, 1, 3, 1, 1, 1, 4],\n",
       "          [3, 3, 3, 3, 1, 2, 1, 1, 3, 3],\n",
       "          [4, 4, 1, 2, 3, 3, 2, 1, 1, 3],\n",
       "          [3, 3, 1, 3, 3, 3, 3, 3, 1, 4],\n",
       "          [4, 3, 4, 2, 4, 2, 1, 3, 2, 4],\n",
       "          [1, 3, 3, 1, 4, 4, 4, 3, 4, 1],\n",
       "          [4, 3, 2, 4, 3, 1, 2, 1, 2, 2],\n",
       "          [1, 3, 4, 3, 3, 1, 3, 4, 4, 2]]]])"
      ]
     },
     "execution_count": 146,
     "metadata": {},
     "output_type": "execute_result"
    }
   ],
   "source": [
    "a"
   ]
  },
  {
   "cell_type": "code",
   "execution_count": 147,
   "metadata": {},
   "outputs": [
    {
     "name": "stdout",
     "output_type": "stream",
     "text": [
      "2\n",
      "tensor([[[[0]],\n",
      "\n",
      "         [[1]],\n",
      "\n",
      "         [[2]],\n",
      "\n",
      "         [[3]],\n",
      "\n",
      "         [[4]],\n",
      "\n",
      "         [[5]],\n",
      "\n",
      "         [[6]],\n",
      "\n",
      "         [[7]]],\n",
      "\n",
      "\n",
      "        [[[0]],\n",
      "\n",
      "         [[1]],\n",
      "\n",
      "         [[2]],\n",
      "\n",
      "         [[3]],\n",
      "\n",
      "         [[4]],\n",
      "\n",
      "         [[5]],\n",
      "\n",
      "         [[6]],\n",
      "\n",
      "         [[7]]]])\n",
      "torch.Size([2, 3, 4]) tensor([[[0, 1, 0, 1],\n",
      "         [0, 1, 0, 1],\n",
      "         [0, 2, 2, 2]],\n",
      "\n",
      "        [[0, 2, 0, 2],\n",
      "         [0, 1, 0, 1],\n",
      "         [0, 2, 2, 2]]]) tensor([[0, 0, 0],\n",
      "        [0, 0, 0]])\n",
      "torch.Size([2, 8, 1, 1]) torch.Size([2, 1, 1, 3])\n",
      "tensor([[[[0, 0, 0]]],\n",
      "\n",
      "\n",
      "        [[[0, 0, 0]]]]) torch.Size([2, 1, 1, 3])\n",
      "Alpha Check: tensor([[1., 1., 1.],\n",
      "        [1., 1., 1.]], grad_fn=<StackBackward0>) torch.Size([2, 3])\n",
      "torch.Size([2, 1, 8, 1]) torch.Size([2, 1, 1, 3])\n",
      "torch.Size([2, 1, 8, 3]) torch.Size([2, 8, 1, 3]) torch.Size([2, 1, 8, 3]) torch.Size([2, 8, 1, 3]) torch.Size([2, 1, 8, 3]) torch.Size([2, 8, 1, 3]) torch.Size([2, 1, 8, 3]) torch.Size([2, 8, 1, 3])\n",
      "torch.Size([2, 1, 2, 8, 8, 3]) torch.Size([2, 1, 2, 8, 8, 3]) torch.Size([2, 1, 2, 8, 8, 3]) torch.Size([2, 1, 2, 8, 8, 3])\n",
      "output: torch.Size([2, 1, 2, 8, 8, 3])\n",
      "tensor([[[[[ 9,  9,  9,  9, 12, 11,  8,  8],\n",
      "           [11, 13, 11, 11, 15, 12, 10,  9],\n",
      "           [11, 12, 11, 10, 13, 10, 12, 12],\n",
      "           [ 9, 10, 14, 11,  9,  9, 10,  9],\n",
      "           [10,  9, 13, 14, 10,  9,  7,  4],\n",
      "           [11,  9,  9, 13, 11, 11, 10,  7],\n",
      "           [11, 10,  9, 10, 11, 13, 11,  9],\n",
      "           [10, 10, 10,  9, 11, 11,  9,  9]],\n",
      "\n",
      "          [[ 9,  9,  9,  9, 12, 11,  8,  8],\n",
      "           [11, 13, 11, 11, 15, 12, 10,  9],\n",
      "           [11, 12, 11, 10, 13, 10, 12, 12],\n",
      "           [ 9, 10, 14, 11,  9,  9, 10,  9],\n",
      "           [10,  9, 13, 14, 10,  9,  7,  4],\n",
      "           [11,  9,  9, 13, 11, 11, 10,  7],\n",
      "           [11, 10,  9, 10, 11, 13, 11,  9],\n",
      "           [10, 10, 10,  9, 11, 11,  9,  9]],\n",
      "\n",
      "          [[11,  8,  9,  9,  9,  9,  6,  7],\n",
      "           [ 8,  7,  9,  7,  8,  9, 10, 10],\n",
      "           [ 9,  9, 10,  8,  6,  5,  4,  6],\n",
      "           [ 6,  8,  9, 10,  9,  6,  5,  5],\n",
      "           [ 8,  7,  7,  7,  9,  8,  9,  9],\n",
      "           [ 7,  8,  7,  9,  9,  9,  7,  8],\n",
      "           [ 9,  6,  8,  6,  7,  6,  7,  6],\n",
      "           [ 8,  6,  5,  6,  8,  9,  7,  6]]],\n",
      "\n",
      "\n",
      "         [[[25, 21, 23, 25, 25, 24, 18, 20],\n",
      "           [26, 24, 27, 26, 27, 27, 23, 23],\n",
      "           [28, 24, 28, 24, 23, 23, 20, 23],\n",
      "           [23, 24, 28, 25, 23, 20, 19, 21],\n",
      "           [23, 24, 26, 25, 24, 19, 18, 20],\n",
      "           [21, 23, 23, 26, 27, 23, 21, 22],\n",
      "           [24, 21, 22, 22, 25, 23, 23, 23],\n",
      "           [24, 20, 20, 21, 24, 24, 21, 20]],\n",
      "\n",
      "          [[ 9,  9,  9,  9, 12, 11,  8,  8],\n",
      "           [11, 13, 11, 11, 15, 12, 10,  9],\n",
      "           [11, 12, 11, 10, 13, 10, 12, 12],\n",
      "           [ 9, 10, 14, 11,  9,  9, 10,  9],\n",
      "           [10,  9, 13, 14, 10,  9,  7,  4],\n",
      "           [11,  9,  9, 13, 11, 11, 10,  7],\n",
      "           [11, 10,  9, 10, 11, 13, 11,  9],\n",
      "           [10, 10, 10,  9, 11, 11,  9,  9]],\n",
      "\n",
      "          [[11,  8,  9,  9,  9,  9,  6,  7],\n",
      "           [ 8,  7,  9,  7,  8,  9, 10, 10],\n",
      "           [ 9,  9, 10,  8,  6,  5,  4,  6],\n",
      "           [ 6,  8,  9, 10,  9,  6,  5,  5],\n",
      "           [ 8,  7,  7,  7,  9,  8,  9,  9],\n",
      "           [ 7,  8,  7,  9,  9,  9,  7,  8],\n",
      "           [ 9,  6,  8,  6,  7,  6,  7,  6],\n",
      "           [ 8,  6,  5,  6,  8,  9,  7,  6]]]],\n",
      "\n",
      "\n",
      "\n",
      "        [[[[10, 12, 10,  8, 10, 10,  9,  9],\n",
      "           [ 7,  8,  8,  7,  9, 10,  8,  6],\n",
      "           [ 8,  8,  9,  7,  7,  7,  4,  6],\n",
      "           [14, 11,  9,  9,  9,  8,  5,  6],\n",
      "           [14,  9,  7, 11, 12, 11,  9,  6],\n",
      "           [13, 11, 10, 12, 12,  9, 10,  9],\n",
      "           [11, 13, 10, 11, 14, 11, 11, 12],\n",
      "           [11, 11, 10, 12, 12, 11, 10, 10]],\n",
      "\n",
      "          [[10, 12, 10,  8, 10, 10,  9,  9],\n",
      "           [ 7,  8,  8,  7,  9, 10,  8,  6],\n",
      "           [ 8,  8,  9,  7,  7,  7,  4,  6],\n",
      "           [14, 11,  9,  9,  9,  8,  5,  6],\n",
      "           [14,  9,  7, 11, 12, 11,  9,  6],\n",
      "           [13, 11, 10, 12, 12,  9, 10,  9],\n",
      "           [11, 13, 10, 11, 14, 11, 11, 12],\n",
      "           [11, 11, 10, 12, 12, 11, 10, 10]],\n",
      "\n",
      "          [[ 3,  4,  4,  6,  5,  5,  3,  6],\n",
      "           [ 9,  9,  7,  6,  4,  4,  5,  7],\n",
      "           [ 9,  7,  6,  8,  8,  6,  4,  5],\n",
      "           [ 7,  7,  7,  9,  9,  9,  7,  8],\n",
      "           [11,  9, 10,  8,  7,  6,  6,  9],\n",
      "           [ 7,  7,  8,  9, 12, 11, 11,  8],\n",
      "           [ 9,  9,  9,  8,  6,  4,  5,  5],\n",
      "           [ 8, 10, 10,  7,  7,  8, 11, 10]]],\n",
      "\n",
      "\n",
      "         [[[19, 20, 18, 20, 19, 20, 16, 18],\n",
      "           [20, 21, 18, 19, 17, 18, 15, 18],\n",
      "           [21, 20, 17, 20, 17, 15, 12, 18],\n",
      "           [25, 23, 20, 23, 21, 19, 16, 20],\n",
      "           [27, 23, 23, 25, 24, 21, 17, 22],\n",
      "           [25, 23, 25, 26, 28, 26, 24, 25],\n",
      "           [27, 25, 27, 25, 25, 21, 22, 22],\n",
      "           [24, 26, 27, 24, 25, 23, 27, 23]],\n",
      "\n",
      "          [[10, 12, 10,  8, 10, 10,  9,  9],\n",
      "           [ 7,  8,  8,  7,  9, 10,  8,  6],\n",
      "           [ 8,  8,  9,  7,  7,  7,  4,  6],\n",
      "           [14, 11,  9,  9,  9,  8,  5,  6],\n",
      "           [14,  9,  7, 11, 12, 11,  9,  6],\n",
      "           [13, 11, 10, 12, 12,  9, 10,  9],\n",
      "           [11, 13, 10, 11, 14, 11, 11, 12],\n",
      "           [11, 11, 10, 12, 12, 11, 10, 10]],\n",
      "\n",
      "          [[ 3,  4,  4,  6,  5,  5,  3,  6],\n",
      "           [ 9,  9,  7,  6,  4,  4,  5,  7],\n",
      "           [ 9,  7,  6,  8,  8,  6,  4,  5],\n",
      "           [ 7,  7,  7,  9,  9,  9,  7,  8],\n",
      "           [11,  9, 10,  8,  7,  6,  6,  9],\n",
      "           [ 7,  7,  8,  9, 12, 11, 11,  8],\n",
      "           [ 9,  9,  9,  8,  6,  4,  5,  5],\n",
      "           [ 8, 10, 10,  7,  7,  8, 11, 10]]]]])\n",
      "torch.Size([2, 3])\n",
      "tensor([[[[29., 26., 27., 27., 33., 31., 22., 23.],\n",
      "          [30., 33., 31., 29., 38., 33., 30., 28.],\n",
      "          [31., 33., 32., 28., 32., 25., 28., 30.],\n",
      "          [24., 28., 37., 32., 27., 24., 25., 23.],\n",
      "          [28., 25., 33., 35., 29., 26., 23., 17.],\n",
      "          [29., 26., 25., 35., 31., 31., 27., 22.],\n",
      "          [31., 26., 26., 26., 29., 32., 29., 24.],\n",
      "          [28., 26., 25., 24., 30., 31., 25., 24.]],\n",
      "\n",
      "         [[45., 38., 41., 43., 46., 44., 32., 35.],\n",
      "          [45., 44., 47., 44., 50., 48., 43., 42.],\n",
      "          [48., 45., 49., 42., 42., 38., 36., 41.],\n",
      "          [38., 42., 51., 46., 41., 35., 34., 35.],\n",
      "          [41., 40., 46., 46., 43., 36., 34., 33.],\n",
      "          [39., 40., 39., 48., 47., 43., 38., 37.],\n",
      "          [44., 37., 39., 38., 43., 42., 41., 38.],\n",
      "          [42., 36., 35., 36., 43., 44., 37., 35.]]],\n",
      "\n",
      "\n",
      "        [[[23., 28., 24., 22., 25., 25., 21., 24.],\n",
      "          [23., 25., 23., 20., 22., 24., 21., 19.],\n",
      "          [25., 23., 24., 22., 22., 20., 12., 17.],\n",
      "          [35., 29., 25., 27., 27., 25., 17., 20.],\n",
      "          [39., 27., 24., 30., 31., 28., 24., 21.],\n",
      "          [33., 29., 28., 33., 36., 29., 31., 26.],\n",
      "          [31., 35., 29., 30., 34., 26., 27., 29.],\n",
      "          [30., 32., 30., 31., 31., 30., 31., 30.]],\n",
      "\n",
      "         [[32., 36., 32., 34., 34., 35., 28., 33.],\n",
      "          [36., 38., 33., 32., 30., 32., 28., 31.],\n",
      "          [38., 35., 32., 35., 32., 28., 20., 29.],\n",
      "          [46., 41., 36., 41., 39., 36., 28., 34.],\n",
      "          [52., 41., 40., 44., 43., 38., 32., 37.],\n",
      "          [45., 41., 43., 47., 52., 46., 45., 42.],\n",
      "          [47., 47., 46., 44., 45., 36., 38., 39.],\n",
      "          [43., 47., 47., 43., 44., 42., 48., 43.]]]], grad_fn=<SumBackward1>)\n"
     ]
    }
   ],
   "source": [
    "\n",
    "cBox = cBox.to(device)\n",
    "\n",
    "\n",
    "a = a.to(device)\n",
    "\n",
    "x=cBox(a)"
   ]
  },
  {
   "cell_type": "code",
   "execution_count": 101,
   "metadata": {},
   "outputs": [
    {
     "name": "stdout",
     "output_type": "stream",
     "text": [
      "tensor([[ 2.2456e+01,  4.2573e+00, -1.7557e+01,  2.8268e+00,  3.9563e+01,\n",
      "         -1.1630e+01,  2.0830e+00, -2.1055e+00,  2.2533e+01,  2.1942e+01,\n",
      "          1.6660e+01, -1.7088e+01,  1.1688e+01, -7.5054e-01, -1.0601e+01,\n",
      "          6.1962e+00, -5.0074e+00,  1.3174e+01, -2.9013e+01, -7.4227e+00,\n",
      "         -2.5886e+01,  7.4658e+00, -1.2978e+00, -1.9370e+01, -3.4568e+01,\n",
      "         -2.3533e+01,  2.4840e+01,  1.1263e+01, -3.1078e+01,  2.8998e+01,\n",
      "         -1.2457e+01, -1.7536e+00,  1.5896e+01,  4.4723e+01,  1.0898e+01,\n",
      "         -3.3288e+01,  8.8117e+00, -7.7372e+00, -2.0122e+01, -2.4207e+00,\n",
      "          9.6303e+00, -1.2655e+01,  9.0999e+00,  7.1533e+00, -3.4593e+01,\n",
      "         -7.8110e+00,  3.6909e+01, -2.4225e+00, -1.5447e+01, -3.5261e+00,\n",
      "         -2.5960e+01,  3.1802e-02,  1.1006e+01,  2.3645e+01,  1.3435e+00,\n",
      "         -2.3995e+01, -3.2661e+01,  1.0590e+01,  4.1259e+00,  2.5446e+01,\n",
      "         -2.1179e+01, -1.3774e+01, -1.3439e+01, -1.2278e+01,  1.2628e+01,\n",
      "          1.4631e+01,  3.5036e+01,  2.5935e+01,  1.2908e+01,  3.8960e+01,\n",
      "         -4.0143e+00, -3.2252e+01,  8.7843e+00,  4.6811e+01,  7.2889e+00,\n",
      "          6.0900e-02, -1.3673e+01, -2.4631e+01,  1.4390e+01,  2.9413e+01,\n",
      "          4.0450e+01, -9.7784e+00,  6.6920e+00,  9.9691e+00, -1.0101e+01,\n",
      "          1.6371e+00, -1.2145e+01,  2.6901e+01,  2.4197e+01,  4.6777e+00,\n",
      "         -1.5080e+01,  2.3322e+01, -1.4316e+01, -1.8506e+01, -5.3633e+00,\n",
      "          6.5531e+00,  2.0153e+01, -1.6515e+01, -2.8623e+01,  1.2490e+01,\n",
      "          2.7551e+01, -9.0066e+00,  2.7360e+00,  4.8978e+01, -2.3973e+01,\n",
      "          2.4655e+01,  1.8800e+01,  1.9464e+01,  1.8210e+01,  1.1162e+01,\n",
      "         -6.4907e+00,  1.0951e+01, -3.8878e+00,  9.0215e+00,  5.5943e+01,\n",
      "         -3.0340e+01,  2.5685e+01,  1.6816e+01, -3.7649e+00, -5.9786e+00,\n",
      "          1.5910e+01,  1.6644e+01,  5.7405e+00, -2.2750e+01,  1.7822e+01,\n",
      "          3.1806e+01,  1.2413e+01, -2.8113e+01]], grad_fn=<AddmmBackward0>)\n"
     ]
    }
   ],
   "source": [
    "print(x)"
   ]
  },
  {
   "cell_type": "code",
   "execution_count": 172,
   "metadata": {},
   "outputs": [],
   "source": [
    "#device = \"cuda:0\"\n",
    "device = \"cpu\""
   ]
  },
  {
   "cell_type": "code",
   "execution_count": 240,
   "metadata": {},
   "outputs": [],
   "source": [
    "a = torch.rand((1,1,10,10))"
   ]
  },
  {
   "cell_type": "code",
   "execution_count": 148,
   "metadata": {},
   "outputs": [],
   "source": [
    "def computeTempFilter(tempBoxFilterList):\n",
    "    tempFilter = np.zeros((3,3))\n",
    "    for i in range(0,len(tempBoxFilterList)):\n",
    "        for j in range(tempBoxFilterList[i].c,tempBoxFilterList[i].d+1):\n",
    "            for k in range(tempBoxFilterList[i].a,tempBoxFilterList[i].b+1):\n",
    "                #print(j,k)\n",
    "                tempFilter[j][k] = tempFilter[j][k] + tempBoxFilterList[i].alpha\n",
    "\n",
    "    return tempFilter"
   ]
  },
  {
   "cell_type": "code",
   "execution_count": 149,
   "metadata": {},
   "outputs": [
    {
     "data": {
      "text/plain": [
       "ModuleList(\n",
       "  (0-2): 3 x boxFilters()\n",
       ")"
      ]
     },
     "execution_count": 149,
     "metadata": {},
     "output_type": "execute_result"
    }
   ],
   "source": [
    "cBox.boxes[0]"
   ]
  },
  {
   "cell_type": "code",
   "execution_count": 150,
   "metadata": {},
   "outputs": [],
   "source": [
    "tempFilter1 = computeTempFilter(cBox.boxes[0])"
   ]
  },
  {
   "cell_type": "code",
   "execution_count": 151,
   "metadata": {},
   "outputs": [
    {
     "data": {
      "text/plain": [
       "array([[2., 2., 0.],\n",
       "       [2., 2., 0.],\n",
       "       [1., 1., 1.]])"
      ]
     },
     "execution_count": 151,
     "metadata": {},
     "output_type": "execute_result"
    }
   ],
   "source": [
    "tempFilter1"
   ]
  },
  {
   "cell_type": "code",
   "execution_count": 112,
   "metadata": {},
   "outputs": [],
   "source": [
    "tempFilter2 = computeTempFilter(cBox.boxes[1])"
   ]
  },
  {
   "cell_type": "code",
   "execution_count": 152,
   "metadata": {},
   "outputs": [
    {
     "data": {
      "text/plain": [
       "torch.Size([2, 1, 10, 10])"
      ]
     },
     "execution_count": 152,
     "metadata": {},
     "output_type": "execute_result"
    }
   ],
   "source": [
    "a.shape"
   ]
  },
  {
   "cell_type": "code",
   "execution_count": 165,
   "metadata": {},
   "outputs": [
    {
     "name": "stdout",
     "output_type": "stream",
     "text": [
      "[[2. 2. 0.]\n",
      " [2. 2. 0.]\n",
      " [1. 1. 1.]]\n",
      "tensor([[23., 28., 24., 22., 25., 25., 21., 24.],\n",
      "        [23., 25., 23., 20., 22., 24., 21., 19.],\n",
      "        [25., 23., 24., 22., 22., 20., 12., 17.],\n",
      "        [35., 29., 25., 27., 27., 25., 17., 20.],\n",
      "        [39., 27., 24., 30., 31., 28., 24., 21.],\n",
      "        [33., 29., 28., 33., 36., 29., 31., 26.],\n",
      "        [31., 35., 29., 30., 34., 26., 27., 29.],\n",
      "        [30., 32., 30., 31., 31., 30., 31., 30.]], dtype=torch.float64)\n"
     ]
    }
   ],
   "source": [
    "import numpy as np\n",
    "from scipy.signal import convolve2d\n",
    "\n",
    "\n",
    "# Define a 2D kernel for the convolution\n",
    "kernel = np.array(tempFilter1)\n",
    "print(kernel)\n",
    "# Perform the 2D convolution\n",
    "output_array = torch.tensor(convolve2d(a[1][0], np.flip(kernel), mode='valid'))\n",
    "\n",
    "print(output_array)"
   ]
  },
  {
   "cell_type": "code",
   "execution_count": 166,
   "metadata": {},
   "outputs": [
    {
     "data": {
      "text/plain": [
       "torch.Size([2, 2, 8, 8])"
      ]
     },
     "execution_count": 166,
     "metadata": {},
     "output_type": "execute_result"
    }
   ],
   "source": [
    "x.shape"
   ]
  },
  {
   "cell_type": "code",
   "execution_count": 164,
   "metadata": {},
   "outputs": [
    {
     "data": {
      "text/plain": [
       "torch.Size([2, 1, 10, 10])"
      ]
     },
     "execution_count": 164,
     "metadata": {},
     "output_type": "execute_result"
    }
   ],
   "source": [
    "a.shape"
   ]
  },
  {
   "cell_type": "code",
   "execution_count": 161,
   "metadata": {},
   "outputs": [
    {
     "data": {
      "text/plain": [
       "tensor([[29., 26., 27., 27., 33., 31., 22., 23.],\n",
       "        [30., 33., 31., 29., 38., 33., 30., 28.],\n",
       "        [31., 33., 32., 28., 32., 25., 28., 30.],\n",
       "        [24., 28., 37., 32., 27., 24., 25., 23.],\n",
       "        [28., 25., 33., 35., 29., 26., 23., 17.],\n",
       "        [29., 26., 25., 35., 31., 31., 27., 22.],\n",
       "        [31., 26., 26., 26., 29., 32., 29., 24.],\n",
       "        [28., 26., 25., 24., 30., 31., 25., 24.]], grad_fn=<SelectBackward0>)"
      ]
     },
     "execution_count": 161,
     "metadata": {},
     "output_type": "execute_result"
    }
   ],
   "source": [
    "x[0][0]"
   ]
  },
  {
   "cell_type": "code",
   "execution_count": 114,
   "metadata": {},
   "outputs": [
    {
     "data": {
      "text/plain": [
       "torch.Size([8, 8])"
      ]
     },
     "execution_count": 114,
     "metadata": {},
     "output_type": "execute_result"
    }
   ],
   "source": [
    "output_array.shape"
   ]
  },
  {
   "cell_type": "code",
   "execution_count": 157,
   "metadata": {},
   "outputs": [
    {
     "name": "stdout",
     "output_type": "stream",
     "text": [
      "tensor(0., dtype=torch.float64, grad_fn=<SumBackward0>)\n"
     ]
    }
   ],
   "source": [
    "error = x[1][0] - output_array\n",
    "\n",
    "print(torch.sum(error))"
   ]
  },
  {
   "cell_type": "code",
   "execution_count": 183,
   "metadata": {},
   "outputs": [
    {
     "name": "stdout",
     "output_type": "stream",
     "text": [
      "Epoch 1 completed 1281448.208694458\n",
      "Epoch 2 completed 608667.748123169\n",
      "Epoch 3 completed 543034.5018463135\n",
      "Epoch 4 completed 545290.6164245605\n",
      "Epoch 5 completed 539991.2645645142\n",
      "Epoch 6 completed 525097.845664978\n",
      "Epoch 7 completed 492830.871673584\n",
      "Epoch 8 completed 511459.7568283081\n",
      "Epoch 9 completed 526388.3687419891\n"
     ]
    },
    {
     "ename": "KeyboardInterrupt",
     "evalue": "",
     "output_type": "error",
     "traceback": [
      "\u001b[0;31m---------------------------------------------------------------------------\u001b[0m",
      "\u001b[0;31mKeyboardInterrupt\u001b[0m                         Traceback (most recent call last)",
      "Cell \u001b[0;32mIn[183], line 20\u001b[0m\n\u001b[1;32m     18\u001b[0m images, labels \u001b[38;5;241m=\u001b[39m images\u001b[38;5;241m.\u001b[39mto(device), labels\u001b[38;5;241m.\u001b[39mto(device)\n\u001b[1;32m     19\u001b[0m optimizer\u001b[38;5;241m.\u001b[39mzero_grad()\n\u001b[0;32m---> 20\u001b[0m output \u001b[38;5;241m=\u001b[39m \u001b[43mcBox\u001b[49m\u001b[43m(\u001b[49m\u001b[43mimages\u001b[49m\u001b[43m)\u001b[49m\n\u001b[1;32m     22\u001b[0m loss \u001b[38;5;241m=\u001b[39m nn\u001b[38;5;241m.\u001b[39mCrossEntropyLoss()(output, labels)\n\u001b[1;32m     23\u001b[0m loss\u001b[38;5;241m.\u001b[39mbackward()\n",
      "File \u001b[0;32m~/miniconda3/envs/xai/lib/python3.10/site-packages/torch/nn/modules/module.py:1518\u001b[0m, in \u001b[0;36mModule._wrapped_call_impl\u001b[0;34m(self, *args, **kwargs)\u001b[0m\n\u001b[1;32m   1516\u001b[0m     \u001b[38;5;28;01mreturn\u001b[39;00m \u001b[38;5;28mself\u001b[39m\u001b[38;5;241m.\u001b[39m_compiled_call_impl(\u001b[38;5;241m*\u001b[39margs, \u001b[38;5;241m*\u001b[39m\u001b[38;5;241m*\u001b[39mkwargs)  \u001b[38;5;66;03m# type: ignore[misc]\u001b[39;00m\n\u001b[1;32m   1517\u001b[0m \u001b[38;5;28;01melse\u001b[39;00m:\n\u001b[0;32m-> 1518\u001b[0m     \u001b[38;5;28;01mreturn\u001b[39;00m \u001b[38;5;28;43mself\u001b[39;49m\u001b[38;5;241;43m.\u001b[39;49m\u001b[43m_call_impl\u001b[49m\u001b[43m(\u001b[49m\u001b[38;5;241;43m*\u001b[39;49m\u001b[43margs\u001b[49m\u001b[43m,\u001b[49m\u001b[43m \u001b[49m\u001b[38;5;241;43m*\u001b[39;49m\u001b[38;5;241;43m*\u001b[39;49m\u001b[43mkwargs\u001b[49m\u001b[43m)\u001b[49m\n",
      "File \u001b[0;32m~/miniconda3/envs/xai/lib/python3.10/site-packages/torch/nn/modules/module.py:1527\u001b[0m, in \u001b[0;36mModule._call_impl\u001b[0;34m(self, *args, **kwargs)\u001b[0m\n\u001b[1;32m   1522\u001b[0m \u001b[38;5;66;03m# If we don't have any hooks, we want to skip the rest of the logic in\u001b[39;00m\n\u001b[1;32m   1523\u001b[0m \u001b[38;5;66;03m# this function, and just call forward.\u001b[39;00m\n\u001b[1;32m   1524\u001b[0m \u001b[38;5;28;01mif\u001b[39;00m \u001b[38;5;129;01mnot\u001b[39;00m (\u001b[38;5;28mself\u001b[39m\u001b[38;5;241m.\u001b[39m_backward_hooks \u001b[38;5;129;01mor\u001b[39;00m \u001b[38;5;28mself\u001b[39m\u001b[38;5;241m.\u001b[39m_backward_pre_hooks \u001b[38;5;129;01mor\u001b[39;00m \u001b[38;5;28mself\u001b[39m\u001b[38;5;241m.\u001b[39m_forward_hooks \u001b[38;5;129;01mor\u001b[39;00m \u001b[38;5;28mself\u001b[39m\u001b[38;5;241m.\u001b[39m_forward_pre_hooks\n\u001b[1;32m   1525\u001b[0m         \u001b[38;5;129;01mor\u001b[39;00m _global_backward_pre_hooks \u001b[38;5;129;01mor\u001b[39;00m _global_backward_hooks\n\u001b[1;32m   1526\u001b[0m         \u001b[38;5;129;01mor\u001b[39;00m _global_forward_hooks \u001b[38;5;129;01mor\u001b[39;00m _global_forward_pre_hooks):\n\u001b[0;32m-> 1527\u001b[0m     \u001b[38;5;28;01mreturn\u001b[39;00m \u001b[43mforward_call\u001b[49m\u001b[43m(\u001b[49m\u001b[38;5;241;43m*\u001b[39;49m\u001b[43margs\u001b[49m\u001b[43m,\u001b[49m\u001b[43m \u001b[49m\u001b[38;5;241;43m*\u001b[39;49m\u001b[38;5;241;43m*\u001b[39;49m\u001b[43mkwargs\u001b[49m\u001b[43m)\u001b[49m\n\u001b[1;32m   1529\u001b[0m \u001b[38;5;28;01mtry\u001b[39;00m:\n\u001b[1;32m   1530\u001b[0m     result \u001b[38;5;241m=\u001b[39m \u001b[38;5;28;01mNone\u001b[39;00m\n",
      "Cell \u001b[0;32mIn[180], line 118\u001b[0m, in \u001b[0;36mcnnBox.forward\u001b[0;34m(self, x)\u001b[0m\n\u001b[1;32m    116\u001b[0m \u001b[38;5;28;01mdef\u001b[39;00m \u001b[38;5;21mforward\u001b[39m(\u001b[38;5;28mself\u001b[39m,x):\n\u001b[1;32m    117\u001b[0m     x \u001b[38;5;241m=\u001b[39m x\u001b[38;5;241m.\u001b[39mcumsum(dim\u001b[38;5;241m=\u001b[39m\u001b[38;5;241m-\u001b[39m\u001b[38;5;241m2\u001b[39m)\u001b[38;5;241m.\u001b[39mcumsum(dim\u001b[38;5;241m=\u001b[39m\u001b[38;5;241m-\u001b[39m\u001b[38;5;241m1\u001b[39m)\n\u001b[0;32m--> 118\u001b[0m     x \u001b[38;5;241m=\u001b[39m \u001b[38;5;28;43mself\u001b[39;49m\u001b[38;5;241;43m.\u001b[39;49m\u001b[43mconv\u001b[49m\u001b[43m(\u001b[49m\u001b[43mx\u001b[49m\u001b[43m)\u001b[49m\n\u001b[1;32m    119\u001b[0m     x \u001b[38;5;241m=\u001b[39m x\u001b[38;5;241m.\u001b[39mto(torch\u001b[38;5;241m.\u001b[39mfloat)\n\u001b[1;32m    120\u001b[0m     x \u001b[38;5;241m=\u001b[39m nn\u001b[38;5;241m.\u001b[39mFlatten()(x)\n",
      "File \u001b[0;32m~/miniconda3/envs/xai/lib/python3.10/site-packages/torch/nn/modules/module.py:1518\u001b[0m, in \u001b[0;36mModule._wrapped_call_impl\u001b[0;34m(self, *args, **kwargs)\u001b[0m\n\u001b[1;32m   1516\u001b[0m     \u001b[38;5;28;01mreturn\u001b[39;00m \u001b[38;5;28mself\u001b[39m\u001b[38;5;241m.\u001b[39m_compiled_call_impl(\u001b[38;5;241m*\u001b[39margs, \u001b[38;5;241m*\u001b[39m\u001b[38;5;241m*\u001b[39mkwargs)  \u001b[38;5;66;03m# type: ignore[misc]\u001b[39;00m\n\u001b[1;32m   1517\u001b[0m \u001b[38;5;28;01melse\u001b[39;00m:\n\u001b[0;32m-> 1518\u001b[0m     \u001b[38;5;28;01mreturn\u001b[39;00m \u001b[38;5;28;43mself\u001b[39;49m\u001b[38;5;241;43m.\u001b[39;49m\u001b[43m_call_impl\u001b[49m\u001b[43m(\u001b[49m\u001b[38;5;241;43m*\u001b[39;49m\u001b[43margs\u001b[49m\u001b[43m,\u001b[49m\u001b[43m \u001b[49m\u001b[38;5;241;43m*\u001b[39;49m\u001b[38;5;241;43m*\u001b[39;49m\u001b[43mkwargs\u001b[49m\u001b[43m)\u001b[49m\n",
      "File \u001b[0;32m~/miniconda3/envs/xai/lib/python3.10/site-packages/torch/nn/modules/module.py:1527\u001b[0m, in \u001b[0;36mModule._call_impl\u001b[0;34m(self, *args, **kwargs)\u001b[0m\n\u001b[1;32m   1522\u001b[0m \u001b[38;5;66;03m# If we don't have any hooks, we want to skip the rest of the logic in\u001b[39;00m\n\u001b[1;32m   1523\u001b[0m \u001b[38;5;66;03m# this function, and just call forward.\u001b[39;00m\n\u001b[1;32m   1524\u001b[0m \u001b[38;5;28;01mif\u001b[39;00m \u001b[38;5;129;01mnot\u001b[39;00m (\u001b[38;5;28mself\u001b[39m\u001b[38;5;241m.\u001b[39m_backward_hooks \u001b[38;5;129;01mor\u001b[39;00m \u001b[38;5;28mself\u001b[39m\u001b[38;5;241m.\u001b[39m_backward_pre_hooks \u001b[38;5;129;01mor\u001b[39;00m \u001b[38;5;28mself\u001b[39m\u001b[38;5;241m.\u001b[39m_forward_hooks \u001b[38;5;129;01mor\u001b[39;00m \u001b[38;5;28mself\u001b[39m\u001b[38;5;241m.\u001b[39m_forward_pre_hooks\n\u001b[1;32m   1525\u001b[0m         \u001b[38;5;129;01mor\u001b[39;00m _global_backward_pre_hooks \u001b[38;5;129;01mor\u001b[39;00m _global_backward_hooks\n\u001b[1;32m   1526\u001b[0m         \u001b[38;5;129;01mor\u001b[39;00m _global_forward_hooks \u001b[38;5;129;01mor\u001b[39;00m _global_forward_pre_hooks):\n\u001b[0;32m-> 1527\u001b[0m     \u001b[38;5;28;01mreturn\u001b[39;00m \u001b[43mforward_call\u001b[49m\u001b[43m(\u001b[49m\u001b[38;5;241;43m*\u001b[39;49m\u001b[43margs\u001b[49m\u001b[43m,\u001b[49m\u001b[43m \u001b[49m\u001b[38;5;241;43m*\u001b[39;49m\u001b[38;5;241;43m*\u001b[39;49m\u001b[43mkwargs\u001b[49m\u001b[43m)\u001b[49m\n\u001b[1;32m   1529\u001b[0m \u001b[38;5;28;01mtry\u001b[39;00m:\n\u001b[1;32m   1530\u001b[0m     result \u001b[38;5;241m=\u001b[39m \u001b[38;5;28;01mNone\u001b[39;00m\n",
      "Cell \u001b[0;32mIn[180], line 69\u001b[0m, in \u001b[0;36mBoxFilterConvolution.forward\u001b[0;34m(self, integral_image)\u001b[0m\n\u001b[1;32m     67\u001b[0m trVal \u001b[38;5;241m=\u001b[39m torch\u001b[38;5;241m.\u001b[39mwhere((trRow \u001b[38;5;241m<\u001b[39m \u001b[38;5;241m0\u001b[39m) \u001b[38;5;241m|\u001b[39m (trCol \u001b[38;5;241m<\u001b[39m \u001b[38;5;241m0\u001b[39m), \u001b[38;5;241m0\u001b[39m, integral_image[\u001b[38;5;241m.\u001b[39m\u001b[38;5;241m.\u001b[39m\u001b[38;5;241m.\u001b[39m, trRow, trCol])\n\u001b[1;32m     68\u001b[0m blVal \u001b[38;5;241m=\u001b[39m torch\u001b[38;5;241m.\u001b[39mwhere((blRow \u001b[38;5;241m<\u001b[39m \u001b[38;5;241m0\u001b[39m) \u001b[38;5;241m|\u001b[39m (blCol \u001b[38;5;241m<\u001b[39m \u001b[38;5;241m0\u001b[39m), \u001b[38;5;241m0\u001b[39m, integral_image[\u001b[38;5;241m.\u001b[39m\u001b[38;5;241m.\u001b[39m\u001b[38;5;241m.\u001b[39m, blRow, blCol])\n\u001b[0;32m---> 69\u001b[0m brVal \u001b[38;5;241m=\u001b[39m \u001b[43mtorch\u001b[49m\u001b[38;5;241;43m.\u001b[39;49m\u001b[43mwhere\u001b[49m\u001b[43m(\u001b[49m\u001b[43m(\u001b[49m\u001b[43mbrRow\u001b[49m\u001b[43m \u001b[49m\u001b[38;5;241;43m<\u001b[39;49m\u001b[43m \u001b[49m\u001b[38;5;241;43m0\u001b[39;49m\u001b[43m)\u001b[49m\u001b[43m \u001b[49m\u001b[38;5;241;43m|\u001b[39;49m\u001b[43m \u001b[49m\u001b[43m(\u001b[49m\u001b[43mbrCol\u001b[49m\u001b[43m \u001b[49m\u001b[38;5;241;43m<\u001b[39;49m\u001b[43m \u001b[49m\u001b[38;5;241;43m0\u001b[39;49m\u001b[43m)\u001b[49m\u001b[43m,\u001b[49m\u001b[43m \u001b[49m\u001b[38;5;241;43m0\u001b[39;49m\u001b[43m,\u001b[49m\u001b[43m \u001b[49m\u001b[43mintegral_image\u001b[49m\u001b[43m[\u001b[49m\u001b[38;5;241;43m.\u001b[39;49m\u001b[38;5;241;43m.\u001b[39;49m\u001b[38;5;241;43m.\u001b[39;49m\u001b[43m,\u001b[49m\u001b[43m \u001b[49m\u001b[43mbrRow\u001b[49m\u001b[43m,\u001b[49m\u001b[43m \u001b[49m\u001b[43mbrCol\u001b[49m\u001b[43m]\u001b[49m\u001b[43m)\u001b[49m\n\u001b[1;32m     70\u001b[0m \u001b[38;5;66;03m#print(brVal.shape,tlVal.shape,trVal.shape,blVal.shape)\u001b[39;00m\n\u001b[1;32m     71\u001b[0m \u001b[38;5;66;03m# Compute the output\u001b[39;00m\n\u001b[1;32m     72\u001b[0m output \u001b[38;5;241m=\u001b[39m brVal \u001b[38;5;241m+\u001b[39m tlVal \u001b[38;5;241m-\u001b[39m trVal \u001b[38;5;241m-\u001b[39m blVal  \u001b[38;5;66;03m# in-place addition\u001b[39;00m\n",
      "\u001b[0;31mKeyboardInterrupt\u001b[0m: "
     ]
    }
   ],
   "source": [
    "lossFunc = nn.CrossEntropyLoss()\n",
    "\n",
    "boxFiltersList = [[[0,1,0,1],[0,2,0,2],[0,3,0,3],[0,4,0,4],[1,3,1,3],[1,4,1,4],[2,4,2,4],[3,4,3,4],[0,4,0,0],[0,0,0,4],[2,2,0,4],[0,4,2,2]],\n",
    "                 [[0,1,0,2],[0,2,0,3],[0,3,0,4],[0,4,0,1],[1,3,1,4],[1,4,1,0],[2,4,2,1],[3,4,3,2],[0,4,0,3],[0,0,0,2],[2,2,0,3],[0,4,2,1]],\n",
    "                  [[0,1,0,3],[0,2,0,4],[0,3,0,1],[0,4,0,2],[1,3,1,0],[1,4,1,2],[2,4,2,3],[3,4,3,0],[0,4,0,1],[0,0,0,3],[2,2,0,1],[0,4,2,3]]]\n",
    "\n",
    "cBox = cnnBox(12,False,device,boxFiltersList,(5,5,3))\n",
    "\n",
    "device = \"cuda:0\" if torch.cuda.is_available() else \"cpu\"\n",
    "\n",
    "cBox.to(device)\n",
    "optimizer = optim.SGD(cBox.parameters(), lr=0.01)\n",
    "\n",
    "# Train the network\n",
    "for epoch in range(20):  # 10 epochs\n",
    "    totalLoss = 0\n",
    "    for images, labels in trainloader:\n",
    "        images, labels = images.to(device), labels.to(device)\n",
    "        optimizer.zero_grad()\n",
    "        output = cBox(images)\n",
    "        \n",
    "        loss = nn.CrossEntropyLoss()(output, labels)\n",
    "        loss.backward()\n",
    "        optimizer.step()\n",
    "        totalLoss = totalLoss + loss.item()\n",
    "    \n",
    "    print(f\"Epoch {epoch+1} completed\",totalLoss)"
   ]
  },
  {
   "cell_type": "code",
   "execution_count": 218,
   "metadata": {},
   "outputs": [],
   "source": [
    "def computeTempFilter(tempBoxFilterList):\n",
    "    tempFilter = np.zeros((5,5))\n",
    "    for i in range(0,len(tempBoxFilterList)):\n",
    "        for j in range(tempBoxFilterList[i].c,tempBoxFilterList[i].d+1):\n",
    "            for k in range(tempBoxFilterList[i].a,tempBoxFilterList[i].b+1):\n",
    "                #print(j,k)\n",
    "                tempFilter[j][k] = tempFilter[j][k] + tempBoxFilterList[i].alpha\n",
    "\n",
    "    return tempFilter"
   ]
  },
  {
   "cell_type": "code",
   "execution_count": 219,
   "metadata": {},
   "outputs": [
    {
     "name": "stdout",
     "output_type": "stream",
     "text": [
      "[[ 1.13670456  0.58637291  0.64402074 -0.37863606 -0.32693762]\n",
      " [ 0.62322569  0.53287411  0.59052193 -0.43213487 -0.91188622]\n",
      " [ 0.75025058  0.659899    1.62777996  0.60512316  0.12537181]\n",
      " [-0.34178329 -0.43213487  0.5357461   0.50745147  0.02770013]\n",
      " [-0.29008484 -0.91188622  0.05599475  0.02770013  0.02770013]]\n"
     ]
    }
   ],
   "source": [
    "tempFilter = computeTempFilter(cBox.boxes)\n",
    "\n",
    "print(tempFilter)"
   ]
  },
  {
   "cell_type": "code",
   "execution_count": 215,
   "metadata": {},
   "outputs": [
    {
     "name": "stdout",
     "output_type": "stream",
     "text": [
      "A: 0 B: 1 C: 0 D: 1 Alpha: Parameter containing:\n",
      "tensor(0.6102, device='cuda:0', requires_grad=True)\n",
      "A: 0 B: 2 C: 0 D: 2 Alpha: Parameter containing:\n",
      "tensor(0.3548, device='cuda:0', requires_grad=True)\n",
      "A: 0 B: 3 C: 0 D: 3 Alpha: Parameter containing:\n",
      "tensor(-0.0517, device='cuda:0', requires_grad=True)\n",
      "A: 0 B: 4 C: 0 D: 4 Alpha: Parameter containing:\n",
      "tensor(-0.8404, device='cuda:0', requires_grad=True)\n",
      "A: 1 B: 3 C: 1 D: 3 Alpha: Parameter containing:\n",
      "tensor(0.5314, device='cuda:0', requires_grad=True)\n",
      "A: 1 B: 4 C: 1 D: 4 Alpha: Parameter containing:\n",
      "tensor(-0.0715, device='cuda:0', requires_grad=True)\n",
      "A: 2 B: 4 C: 2 D: 4 Alpha: Parameter containing:\n",
      "tensor(0.3000, device='cuda:0', requires_grad=True)\n",
      "A: 3 B: 4 C: 3 D: 4 Alpha: Parameter containing:\n",
      "tensor(0.6396, device='cuda:0', requires_grad=True)\n",
      "A: 0 B: 4 C: 0 D: 0 Alpha: Parameter containing:\n",
      "tensor(0.5135, device='cuda:0', requires_grad=True)\n",
      "A: 0 B: 0 C: 0 D: 4 Alpha: Parameter containing:\n",
      "tensor(0.5503, device='cuda:0', requires_grad=True)\n",
      "A: 2 B: 2 C: 0 D: 4 Alpha: Parameter containing:\n",
      "tensor(0.6679, device='cuda:0', requires_grad=True)\n",
      "A: 0 B: 4 C: 2 D: 2 Alpha: Parameter containing:\n",
      "tensor(0.7372, device='cuda:0', requires_grad=True)\n"
     ]
    }
   ],
   "source": [
    "for i in cBox.boxes:\n",
    "    i.printParams()\n"
   ]
  },
  {
   "cell_type": "code",
   "execution_count": 182,
   "metadata": {},
   "outputs": [
    {
     "name": "stdout",
     "output_type": "stream",
     "text": [
      "Accuracy of the network on the test images: 89 %\n"
     ]
    }
   ],
   "source": [
    "cBox.eval()\n",
    "\n",
    "correct = 0\n",
    "total = 0\n",
    "\n",
    "# Disable gradient computation\n",
    "with torch.no_grad():\n",
    "    for images, labels in testloader:\n",
    "        images, labels = images.to(device), labels.to(device)\n",
    "        outputs = cBox(images)\n",
    "        _, predicted = torch.max(outputs.data, 1)\n",
    "        total += labels.size(0)\n",
    "        correct += (predicted == labels).sum().item()\n",
    "\n",
    "print('Accuracy of the network on the test images: %d %%' % (100 * correct / total))"
   ]
  },
  {
   "cell_type": "code",
   "execution_count": 168,
   "metadata": {},
   "outputs": [],
   "source": [
    "import torch\n",
    "from torchvision import datasets, transforms\n",
    "\n",
    "# Define a transform to normalize the data\n",
    "transform = transforms.Compose([transforms.ToTensor(),\n",
    "                                transforms.Normalize((0.5,), (0.5,))])\n",
    "\n",
    "# Download and load the training data\n",
    "trainset = datasets.MNIST('~/.pytorch/MNIST_data/', download=True, train=True, transform=transform)\n",
    "trainloader = torch.utils.data.DataLoader(trainset, batch_size=64, shuffle=True)\n",
    "\n",
    "# Download and load the test data\n",
    "testset = datasets.MNIST('~/.pytorch/MNIST_data/', download=True, train=False, transform=transform)\n",
    "testloader = torch.utils.data.DataLoader(testset, batch_size=64, shuffle=True)"
   ]
  },
  {
   "cell_type": "code",
   "execution_count": 173,
   "metadata": {},
   "outputs": [
    {
     "name": "stdout",
     "output_type": "stream",
     "text": [
      "Epoch 1 completed\n",
      "Epoch 2 completed\n",
      "Epoch 3 completed\n",
      "Epoch 4 completed\n",
      "Epoch 5 completed\n",
      "Epoch 6 completed\n",
      "Epoch 7 completed\n",
      "Epoch 8 completed\n",
      "Epoch 9 completed\n",
      "Epoch 10 completed\n"
     ]
    }
   ],
   "source": [
    "import torch\n",
    "from torch import nn, optim\n",
    "from torchvision import datasets, transforms\n",
    "from torch.utils.data import DataLoader\n",
    "\n",
    "# Define the network\n",
    "class Net(nn.Module):\n",
    "    def __init__(self):\n",
    "        super(Net, self).__init__()\n",
    "        self.conv1 = nn.Conv2d(1, 3, 5)  # 1 input channel, 6 output channels, 5x5 kernel\n",
    "        self.fc = nn.Linear(1728, 10)  # 10 classes for MNIST\n",
    "\n",
    "    def forward(self, x):\n",
    "        x = torch.relu(self.conv1(x))\n",
    "        #x = x.view(-1, 36864)  # Flatten the tensor\n",
    "        #print(x.shape)\n",
    "        x = x.flatten(1)  # Flatten the tensor\n",
    "        x = self.fc(x)\n",
    "        return x\n",
    "\n",
    "\n",
    "\n",
    "# Initialize the network and optimizer\n",
    "device = \"cuda:0\" if torch.cuda.is_available() else \"cpu\"\n",
    "model = Net()\n",
    "model.to(device)\n",
    "optimizer = optim.SGD(model.parameters(), lr=0.01)\n",
    "\n",
    "# Train the network\n",
    "for epoch in range(10):  # 10 epochs\n",
    "    for images, labels in trainloader:\n",
    "        images, labels = images.to(device), labels.to(device)\n",
    "        optimizer.zero_grad()\n",
    "        output = model(images)\n",
    "        loss = nn.CrossEntropyLoss()(output, labels)\n",
    "        loss.backward()\n",
    "        optimizer.step()\n",
    "    print(f\"Epoch {epoch+1} completed\")"
   ]
  },
  {
   "cell_type": "code",
   "execution_count": 220,
   "metadata": {},
   "outputs": [
    {
     "data": {
      "text/plain": [
       "Parameter containing:\n",
       "tensor([[[[ 0.5251,  0.1842,  0.2110,  0.1839,  0.3199],\n",
       "          [ 0.1764,  0.0774, -0.2433, -0.1485, -0.2381],\n",
       "          [-0.0945, -0.5673, -0.1638, -0.3058, -0.4650],\n",
       "          [-0.1649, -0.3075, -0.4817, -0.4778, -0.4577],\n",
       "          [ 0.2636, -0.1681, -0.1174, -0.1546, -0.0658]]]], device='cuda:0',\n",
       "       requires_grad=True)"
      ]
     },
     "execution_count": 220,
     "metadata": {},
     "output_type": "execute_result"
    }
   ],
   "source": [
    "model.conv1.weight"
   ]
  },
  {
   "cell_type": "code",
   "execution_count": 222,
   "metadata": {},
   "outputs": [
    {
     "data": {
      "image/png": "[encoded data removed]",
      "text/plain": [
       "<Figure size 640x480 with 2 Axes>"
      ]
     },
     "metadata": {},
     "output_type": "display_data"
    }
   ],
   "source": [
    "plt.imshow(np.array(model.conv1.weight[0][0].detach().cpu()), cmap='gray')\n",
    "plt.colorbar()  # Optional: display a color bar\n",
    "plt.show()"
   ]
  },
  {
   "cell_type": "code",
   "execution_count": 223,
   "metadata": {},
   "outputs": [
    {
     "data": {
      "image/png": "[encoded data removed]",
      "text/plain": [
       "<Figure size 640x480 with 2 Axes>"
      ]
     },
     "metadata": {},
     "output_type": "display_data"
    }
   ],
   "source": [
    "plt.imshow(np.array(tempFilter), cmap='gray')\n",
    "plt.colorbar()  # Optional: display a color bar\n",
    "plt.show()"
   ]
  },
  {
   "cell_type": "code",
   "execution_count": 174,
   "metadata": {},
   "outputs": [
    {
     "name": "stdout",
     "output_type": "stream",
     "text": [
      "Accuracy of the network on the test images: 97 %\n"
     ]
    }
   ],
   "source": [
    "\n",
    "\n",
    "# Switch model to evaluation mode\n",
    "model.eval()\n",
    "\n",
    "correct = 0\n",
    "total = 0\n",
    "\n",
    "# Disable gradient computation\n",
    "with torch.no_grad():\n",
    "    for images, labels in testloader:\n",
    "        images, labels = images.to(device), labels.to(device)\n",
    "        outputs = model(images)\n",
    "        _, predicted = torch.max(outputs.data, 1)\n",
    "        total += labels.size(0)\n",
    "        correct += (predicted == labels).sum().item()\n",
    "\n",
    "print('Accuracy of the network on the test images: %d %%' % (100 * correct / total))"
   ]
  },
  {
   "cell_type": "markdown",
   "metadata": {},
   "source": [
    "Timing Code"
   ]
  },
  {
   "cell_type": "code",
   "execution_count": 5,
   "metadata": {},
   "outputs": [],
   "source": [
    "a = torch.randint(0,10,(1,1,256,256))"
   ]
  },
  {
   "cell_type": "code",
   "execution_count": 6,
   "metadata": {},
   "outputs": [],
   "source": [
    "#device = \"cuda:0\"\n",
    "device = \"cpu\""
   ]
  },
  {
   "cell_type": "code",
   "execution_count": 7,
   "metadata": {},
   "outputs": [
    {
     "name": "stdout",
     "output_type": "stream",
     "text": [
      "torch.Size([254, 1, 1]) torch.Size([1, 254, 1])\n",
      "torch.Size([1, 1, 100]) torch.Size([1, 1, 100]) torch.Size([1, 1, 100]) torch.Size([1, 1, 100])\n",
      "torch.Size([1, 254, 100]) torch.Size([254, 1, 100]) torch.Size([1, 254, 100]) torch.Size([254, 1, 100]) torch.Size([1, 254, 100]) torch.Size([254, 1, 100]) torch.Size([1, 254, 100]) torch.Size([254, 1, 100])\n",
      "torch.Size([1, 1, 254, 254, 100]) torch.Size([1, 1, 254, 254, 100]) torch.Size([1, 1, 254, 254, 100]) torch.Size([1, 1, 254, 254, 100])\n",
      "Time passed: 0.08255045022815466 seconds\n"
     ]
    }
   ],
   "source": [
    "import time\n",
    "\n",
    "# Record the start time\n",
    "\n",
    "\n",
    "cBox = cnnBox(100,True,device)\n",
    "start_time = time.perf_counter()\n",
    "\n",
    "\n",
    "for i in range(1):\n",
    "    a = a.to(device)\n",
    "    x=cBox(a)\n",
    "\n",
    "#print(x)\n",
    "\n",
    "end_time = time.perf_counter()\n",
    "\n",
    "# Calculate the time passed\n",
    "time_passed = end_time - start_time\n",
    "\n",
    "print(f'Time passed: {time_passed/1} seconds')"
   ]
  },
  {
   "cell_type": "code",
   "execution_count": 8,
   "metadata": {},
   "outputs": [],
   "source": [
    "# import time\n",
    "\n",
    "# # Record the start time\n",
    "# cBox = cnnBox(1,False,device)\n",
    "# start_time = time.time()\n",
    "\n",
    "# a = a.to(device)\n",
    "# for i in range(1):\n",
    "#     x=cBox(a)\n",
    "\n",
    "# #print(x)\n",
    "# end_time = time.time()\n",
    "\n",
    "# # Calculate the time passed\n",
    "# time_passed = end_time - start_time\n",
    "\n",
    "# print(f'Time passed: {time_passed/1} seconds')"
   ]
  },
  {
   "cell_type": "code",
   "execution_count": 9,
   "metadata": {},
   "outputs": [
    {
     "name": "stdout",
     "output_type": "stream",
     "text": [
      "Time passed: 0.006571175064891577 seconds\n"
     ]
    }
   ],
   "source": [
    "import time\n",
    "\n",
    "conv2 = nn.Conv2d(1, 1, 5, bias=False).to(device)\n",
    "\n",
    "a = torch.rand((1,1,256,256)).to(device)\n",
    "a =a.to(device)\n",
    "\n",
    "start_time = time.perf_counter()\n",
    "\n",
    "for i in range(1):\n",
    " conv2(a)\n",
    "\n",
    "end_time = time.perf_counter()\n",
    "\n",
    "print(f'Time passed: {(end_time - start_time)/1} seconds')"
   ]
  },
  {
   "cell_type": "code",
   "execution_count": 109,
   "metadata": {},
   "outputs": [],
   "source": [
    "convLayer = cnnBox(10)\n"
   ]
  },
  {
   "cell_type": "code",
   "execution_count": 110,
   "metadata": {},
   "outputs": [
    {
     "data": {
      "text/plain": [
       "Parameter containing:\n",
       "tensor(2., requires_grad=True)"
      ]
     },
     "execution_count": 110,
     "metadata": {},
     "output_type": "execute_result"
    }
   ],
   "source": [
    "convLayer.boxes[0].a"
   ]
  },
  {
   "cell_type": "code",
   "execution_count": 120,
   "metadata": {},
   "outputs": [
    {
     "name": "stdout",
     "output_type": "stream",
     "text": [
      "boxes.0.alpha Parameter containing:\n",
      "tensor(1., requires_grad=True)\n",
      "boxes.0.a Parameter containing:\n",
      "tensor(2., requires_grad=True)\n",
      "boxes.0.b Parameter containing:\n",
      "tensor(3., requires_grad=True)\n",
      "boxes.0.c Parameter containing:\n",
      "tensor(2., requires_grad=True)\n",
      "boxes.0.d Parameter containing:\n",
      "tensor(6., requires_grad=True)\n",
      "boxes.1.alpha Parameter containing:\n",
      "tensor(1., requires_grad=True)\n",
      "boxes.1.a Parameter containing:\n",
      "tensor(2., requires_grad=True)\n",
      "boxes.1.b Parameter containing:\n",
      "tensor(3., requires_grad=True)\n",
      "boxes.1.c Parameter containing:\n",
      "tensor(2., requires_grad=True)\n",
      "boxes.1.d Parameter containing:\n",
      "tensor(6., requires_grad=True)\n",
      "boxes.2.alpha Parameter containing:\n",
      "tensor(1., requires_grad=True)\n",
      "boxes.2.a Parameter containing:\n",
      "tensor(2., requires_grad=True)\n",
      "boxes.2.b Parameter containing:\n",
      "tensor(3., requires_grad=True)\n",
      "boxes.2.c Parameter containing:\n",
      "tensor(2., requires_grad=True)\n",
      "boxes.2.d Parameter containing:\n",
      "tensor(6., requires_grad=True)\n",
      "boxes.3.alpha Parameter containing:\n",
      "tensor(1., requires_grad=True)\n",
      "boxes.3.a Parameter containing:\n",
      "tensor(2., requires_grad=True)\n",
      "boxes.3.b Parameter containing:\n",
      "tensor(3., requires_grad=True)\n",
      "boxes.3.c Parameter containing:\n",
      "tensor(2., requires_grad=True)\n",
      "boxes.3.d Parameter containing:\n",
      "tensor(6., requires_grad=True)\n",
      "boxes.4.alpha Parameter containing:\n",
      "tensor(1., requires_grad=True)\n",
      "boxes.4.a Parameter containing:\n",
      "tensor(2., requires_grad=True)\n",
      "boxes.4.b Parameter containing:\n",
      "tensor(3., requires_grad=True)\n",
      "boxes.4.c Parameter containing:\n",
      "tensor(2., requires_grad=True)\n",
      "boxes.4.d Parameter containing:\n",
      "tensor(6., requires_grad=True)\n",
      "boxes.5.alpha Parameter containing:\n",
      "tensor(1., requires_grad=True)\n",
      "boxes.5.a Parameter containing:\n",
      "tensor(2., requires_grad=True)\n",
      "boxes.5.b Parameter containing:\n",
      "tensor(3., requires_grad=True)\n",
      "boxes.5.c Parameter containing:\n",
      "tensor(2., requires_grad=True)\n",
      "boxes.5.d Parameter containing:\n",
      "tensor(6., requires_grad=True)\n",
      "boxes.6.alpha Parameter containing:\n",
      "tensor(1., requires_grad=True)\n",
      "boxes.6.a Parameter containing:\n",
      "tensor(2., requires_grad=True)\n",
      "boxes.6.b Parameter containing:\n",
      "tensor(3., requires_grad=True)\n",
      "boxes.6.c Parameter containing:\n",
      "tensor(2., requires_grad=True)\n",
      "boxes.6.d Parameter containing:\n",
      "tensor(6., requires_grad=True)\n",
      "boxes.7.alpha Parameter containing:\n",
      "tensor(1., requires_grad=True)\n",
      "boxes.7.a Parameter containing:\n",
      "tensor(2., requires_grad=True)\n",
      "boxes.7.b Parameter containing:\n",
      "tensor(3., requires_grad=True)\n",
      "boxes.7.c Parameter containing:\n",
      "tensor(2., requires_grad=True)\n",
      "boxes.7.d Parameter containing:\n",
      "tensor(6., requires_grad=True)\n",
      "boxes.8.alpha Parameter containing:\n",
      "tensor(1., requires_grad=True)\n",
      "boxes.8.a Parameter containing:\n",
      "tensor(2., requires_grad=True)\n",
      "boxes.8.b Parameter containing:\n",
      "tensor(3., requires_grad=True)\n",
      "boxes.8.c Parameter containing:\n",
      "tensor(2., requires_grad=True)\n",
      "boxes.8.d Parameter containing:\n",
      "tensor(6., requires_grad=True)\n",
      "boxes.9.alpha Parameter containing:\n",
      "tensor(1., requires_grad=True)\n",
      "boxes.9.a Parameter containing:\n",
      "tensor(2., requires_grad=True)\n",
      "boxes.9.b Parameter containing:\n",
      "tensor(3., requires_grad=True)\n",
      "boxes.9.c Parameter containing:\n",
      "tensor(2., requires_grad=True)\n",
      "boxes.9.d Parameter containing:\n",
      "tensor(6., requires_grad=True)\n",
      "fc.weight Parameter containing:\n",
      "tensor([[ 0.0258,  0.0074, -0.0099,  ..., -0.0305, -0.0256,  0.0086],\n",
      "        [ 0.0285, -0.0267, -0.0249,  ...,  0.0242, -0.0104,  0.0059],\n",
      "        [ 0.0158,  0.0266, -0.0220,  ...,  0.0109, -0.0004,  0.0115],\n",
      "        ...,\n",
      "        [ 0.0136, -0.0018, -0.0224,  ...,  0.0020, -0.0022,  0.0168],\n",
      "        [-0.0305, -0.0164,  0.0201,  ..., -0.0148,  0.0049,  0.0278],\n",
      "        [ 0.0099,  0.0269, -0.0085,  ..., -0.0121,  0.0185,  0.0008]],\n",
      "       requires_grad=True)\n",
      "fc.bias Parameter containing:\n",
      "tensor([-1.6741e-02, -9.9615e-03, -7.5686e-03, -9.3352e-03, -1.4505e-02,\n",
      "        -2.0810e-02,  2.0309e-02,  9.4824e-03,  3.2583e-04, -5.3416e-03,\n",
      "        -7.2174e-03, -7.9849e-03,  2.5219e-02,  3.0979e-03, -1.3545e-02,\n",
      "        -2.2223e-02, -7.6578e-03,  1.8603e-02, -2.1268e-02, -6.3241e-03,\n",
      "        -5.7276e-03, -5.2339e-03,  8.6179e-03, -5.7019e-03, -1.4784e-02,\n",
      "        -3.9743e-03, -1.3854e-02, -2.1746e-02, -1.0599e-02,  1.1584e-02,\n",
      "        -1.5871e-02, -5.3490e-03,  9.0959e-03,  7.1845e-03,  1.6387e-02,\n",
      "        -5.7288e-03,  2.4257e-02,  8.6002e-03,  2.0170e-03,  1.8489e-02,\n",
      "         6.9169e-03,  1.8462e-02, -2.0028e-02,  1.1529e-02, -1.4702e-02,\n",
      "        -2.0959e-02, -2.4157e-02,  1.3569e-02, -1.2005e-02,  1.9729e-02,\n",
      "         1.4127e-02, -9.9417e-03,  9.1080e-03,  2.5278e-02, -6.3888e-03,\n",
      "        -1.5245e-02, -1.9457e-05, -2.2031e-02, -1.9173e-02,  8.0463e-03,\n",
      "         2.5077e-02,  1.9417e-02,  1.4314e-02, -2.0607e-02,  3.8993e-03,\n",
      "        -2.4344e-02, -6.3146e-03,  4.7464e-03,  2.5948e-03,  1.8483e-02,\n",
      "        -7.2757e-03, -2.7203e-03, -2.2625e-02, -3.4848e-03,  1.4994e-02,\n",
      "        -1.1582e-02, -3.5645e-03,  4.5775e-04,  1.2888e-02, -6.3341e-03,\n",
      "         1.4635e-02,  8.5967e-03,  2.1021e-02,  1.6792e-02,  1.4807e-02,\n",
      "         1.9036e-02,  2.0242e-02,  1.7410e-02, -4.8041e-04, -2.2002e-02,\n",
      "        -2.1438e-02,  1.9672e-02, -3.9807e-03,  9.2758e-03, -6.4867e-03,\n",
      "        -1.8982e-03,  8.5789e-03, -9.7537e-03,  7.8397e-03, -6.0590e-03,\n",
      "         1.9790e-02, -8.8796e-03,  1.3696e-03, -1.8472e-02,  1.3124e-02,\n",
      "        -1.8756e-02,  1.8632e-02,  2.4429e-02,  9.0893e-03, -4.3882e-04,\n",
      "        -1.1061e-02,  2.1321e-03, -8.6589e-03, -1.1697e-02,  7.4866e-03,\n",
      "         7.5245e-03,  1.2141e-02, -1.6457e-02, -5.5572e-03, -6.1597e-03,\n",
      "        -1.5589e-02,  5.7600e-04,  7.5218e-03,  1.1424e-02, -1.0440e-02,\n",
      "         8.3684e-03,  2.1571e-02, -2.3421e-02], requires_grad=True)\n"
     ]
    }
   ],
   "source": [
    "for i,j in convLayer.named_parameters():\n",
    "    print(i,j)"
   ]
  },
  {
   "cell_type": "code",
   "execution_count": 116,
   "metadata": {},
   "outputs": [
    {
     "name": "stdout",
     "output_type": "stream",
     "text": [
      "tensor([[-6.7407e-03,  3.8544e-05, -1.7569e-02,  6.6483e-04, -4.5048e-03,\n",
      "         -1.0810e-02,  1.0309e-02, -5.1756e-04, -9.6741e-03,  4.6584e-03,\n",
      "         -1.7217e-02, -1.7985e-02,  1.5219e-02,  1.3098e-02, -3.5450e-03,\n",
      "         -1.2223e-02,  2.3422e-03,  8.6034e-03, -1.1268e-02,  3.6759e-03,\n",
      "         -1.5728e-02, -1.5234e-02,  1.8618e-02,  4.2981e-03, -4.7841e-03,\n",
      "          6.0257e-03, -3.8544e-03, -1.1747e-02, -5.9944e-04,  1.5845e-03,\n",
      "         -5.8710e-03, -1.5349e-02, -9.0407e-04,  1.7184e-02,  6.3869e-03,\n",
      "         -1.5729e-02,  1.4257e-02, -1.3998e-03,  1.2017e-02,  8.4893e-03,\n",
      "          1.6917e-02,  8.4618e-03, -1.0028e-02,  1.5290e-03, -4.7018e-03,\n",
      "         -1.0959e-02, -1.4157e-02,  3.5690e-03, -2.0050e-03,  9.7287e-03,\n",
      "          4.1273e-03,  5.8265e-05, -8.9195e-04,  1.5278e-02, -1.6389e-02,\n",
      "         -5.2448e-03, -1.0019e-02, -1.2031e-02, -9.1731e-03,  1.8046e-02,\n",
      "          1.5077e-02,  9.4165e-03,  4.3142e-03, -1.0608e-02,  1.3899e-02,\n",
      "         -1.4344e-02, -1.6315e-02, -5.2535e-03,  1.2595e-02,  8.4834e-03,\n",
      "          2.7243e-03,  7.2797e-03, -1.2625e-02,  6.5152e-03,  4.9942e-03,\n",
      "         -1.5818e-03,  6.4355e-03, -9.5421e-03,  2.8881e-03, -1.6334e-02,\n",
      "          4.6346e-03, -1.4033e-03,  1.1021e-02,  6.7918e-03,  4.8070e-03,\n",
      "          9.0358e-03,  1.0242e-02,  7.4100e-03, -1.0480e-02, -1.2002e-02,\n",
      "         -1.1438e-02,  9.6718e-03,  6.0193e-03, -7.2414e-04,  3.5133e-03,\n",
      "         -1.1898e-02, -1.4211e-03,  2.4628e-04,  1.7840e-02, -1.6059e-02,\n",
      "          9.7899e-03,  1.1204e-03,  1.1370e-02, -8.4719e-03,  3.1243e-03,\n",
      "         -8.7562e-03,  8.6316e-03,  1.4429e-02, -9.1066e-04, -1.0439e-02,\n",
      "         -1.0606e-03,  1.2132e-02,  1.3410e-03, -1.6972e-03,  1.7487e-02,\n",
      "         -2.4755e-03,  2.1413e-03, -6.4573e-03,  4.4428e-03, -1.6160e-02,\n",
      "         -5.5894e-03, -9.4236e-03,  1.7522e-02,  1.4241e-03, -4.4016e-04,\n",
      "         -1.6316e-03,  1.1571e-02, -1.3421e-02]], grad_fn=<AddmmBackward0>)\n"
     ]
    }
   ],
   "source": [
    "a = convLayer((torch.ones((1,1,32,32))))\n",
    "\n",
    "print(a)\n",
    "\n",
    "label = torch.ones((1,128))\n",
    "\n",
    "lossFunction = nn.CrossEntropyLoss()\n",
    "optimizer = torch.optim.Adam(convLayer.parameters(),lr = 0.01)\n",
    "\n",
    "optimizer.zero_grad\n",
    "\n",
    "loss = lossFunction(a,label)\n",
    "\n",
    "loss.backward()\n",
    "\n",
    "optimizer.step()\n",
    "\n",
    "\n"
   ]
  },
  {
   "cell_type": "code",
   "execution_count": 118,
   "metadata": {},
   "outputs": [
    {
     "data": {
      "text/plain": [
       "Parameter containing:\n",
       "tensor(2., requires_grad=True)"
      ]
     },
     "execution_count": 118,
     "metadata": {},
     "output_type": "execute_result"
    }
   ],
   "source": [
    "convLayer.boxes[0].a"
   ]
  }
 ],
 "metadata": {
  "kernelspec": {
   "display_name": "xai",
   "language": "python",
   "name": "python3"
  },
  "language_info": {
   "codemirror_mode": {
    "name": "ipython",
    "version": 3
   },
   "file_extension": ".py",
   "mimetype": "text/x-python",
   "name": "python",
   "nbconvert_exporter": "python",
   "pygments_lexer": "ipython3",
   "version": "3.10.13"
  }
 },
 "nbformat": 4,
 "nbformat_minor": 2
}
